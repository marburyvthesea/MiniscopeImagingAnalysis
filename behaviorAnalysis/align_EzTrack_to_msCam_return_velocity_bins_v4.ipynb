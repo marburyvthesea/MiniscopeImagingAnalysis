{
 "cells": [
  {
   "cell_type": "code",
   "execution_count": 1,
   "metadata": {
    "scrolled": true
   },
   "outputs": [
    {
     "name": "stderr",
     "output_type": "stream",
     "text": [
      "C:\\Users\\scanimage\\AppData\\Local\\Temp\\ipykernel_1316\\912229180.py:1: DeprecationWarning: Importing display from IPython.core.display is deprecated since IPython 7.14, please import from IPython display\n",
      "  from IPython.core.display import display, HTML\n"
     ]
    },
    {
     "data": {
      "text/html": [
       "<style>.container { width:90% !important; }</style>"
      ],
      "text/plain": [
       "<IPython.core.display.HTML object>"
      ]
     },
     "metadata": {},
     "output_type": "display_data"
    }
   ],
   "source": [
    "from IPython.core.display import display, HTML\n",
    "display(HTML(\"<style>.container { width:90% !important; }</style>\"))"
   ]
  },
  {
   "cell_type": "code",
   "execution_count": 77,
   "metadata": {
    "scrolled": true
   },
   "outputs": [],
   "source": [
    "import sys\n",
    "import glob\n",
    "import numpy as np\n",
    "import pandas as pd \n",
    "import matplotlib\n",
    "import matplotlib.pyplot as plt\n",
    "sys.path.append(r\"C:\\Users\\scanimage\\Documents\\JJM\\post_cnmfe_analysis\")\n",
    "import dlc_utils as dlc\n",
    "import os\n",
    "import datetime\n",
    "import math\n",
    "from matplotlib.dates import DateFormatter, date2num\n",
    "from tqdm import tqdm "
   ]
  },
  {
   "cell_type": "code",
   "execution_count": 3,
   "metadata": {},
   "outputs": [],
   "source": [
    "data_folder = r\"F:\\\\JJM\\\\behavCam_videos_for_analysis\\\\v4_fenobaminjections\""
   ]
  },
  {
   "cell_type": "code",
   "execution_count": 4,
   "metadata": {},
   "outputs": [],
   "source": [
    "ezTrack_location_files = glob.glob(data_folder+ r\"\\\\**\\\\\" + '*LocationOutput.csv')"
   ]
  },
  {
   "cell_type": "code",
   "execution_count": 234,
   "metadata": {},
   "outputs": [
    {
     "data": {
      "text/plain": [
       "17"
      ]
     },
     "execution_count": 234,
     "metadata": {},
     "output_type": "execute_result"
    }
   ],
   "source": [
    "len(ezTrack_location_files)"
   ]
  },
  {
   "cell_type": "code",
   "execution_count": 236,
   "metadata": {},
   "outputs": [
    {
     "data": {
      "text/plain": [
       "'F:\\\\\\\\JJM\\\\\\\\behavCam_videos_for_analysis\\\\\\\\v4_fenobaminjections\\\\DIO_r2.8_16_45_11\\\\DIO_r2.8_16_45_11combined_LocationOutput.csv'"
      ]
     },
     "execution_count": 236,
     "metadata": {},
     "output_type": "execute_result"
    }
   ],
   "source": [
    "ezTrack_location_files[15]"
   ]
  },
  {
   "cell_type": "code",
   "execution_count": 237,
   "metadata": {},
   "outputs": [
    {
     "name": "stdout",
     "output_type": "stream",
     "text": [
      "F:\\\\JJM\\\\behavCam_videos_for_analysis\\\\v4_fenobaminjections\\DIO_r2.8_16_45_11\\DIO_r2.8_16_45_11combined_LocationOutput.csv\n"
     ]
    }
   ],
   "source": [
    "sessionPath = 'F:\\\\\\\\JJM\\\\\\\\behavCam_videos_for_analysis\\\\\\\\v4_fenobaminjections\\\\DIO_r2.8_16_45_11\\\\DIO_r2.8_16_45_11combined_LocationOutput.csv'\n",
    "print(sessionPath)"
   ]
  },
  {
   "cell_type": "code",
   "execution_count": 238,
   "metadata": {},
   "outputs": [
    {
     "data": {
      "text/plain": [
       "'F:\\\\\\\\JJM\\\\\\\\behavCam_videos_for_analysis\\\\\\\\v4_fenobaminjections\\\\DIO_r2.8_16_45_11\\\\timestamps.csv'"
      ]
     },
     "execution_count": 238,
     "metadata": {},
     "output_type": "execute_result"
    }
   ],
   "source": [
    "'\\\\'.join(sessionPath.split(os.sep)[:-1])+'\\\\timestamps.csv'"
   ]
  },
  {
   "cell_type": "code",
   "execution_count": 239,
   "metadata": {},
   "outputs": [],
   "source": [
    "# load eZ track output and behavior camera timestamps from miniscope software \n",
    "ezTrackOutput = pd.read_csv(sessionPath)\n",
    "timestampfile = pd.read_table('\\\\'.join(sessionPath.split(os.sep)[:-1])+'\\\\timestamps.csv', delimiter=',')\n",
    "miniscope_timestampfile = pd.read_table('\\\\'.join(sessionPath.split(os.sep)[:-1])+'\\\\timestampsMiniscope.csv', delimiter=',')"
   ]
  },
  {
   "cell_type": "code",
   "execution_count": 240,
   "metadata": {},
   "outputs": [
    {
     "data": {
      "text/plain": [
       "30.094516666666667"
      ]
     },
     "execution_count": 240,
     "metadata": {},
     "output_type": "execute_result"
    }
   ],
   "source": [
    "timestampfile['Time Stamp (ms)'].iloc[-1]/(1000*60)"
   ]
  },
  {
   "cell_type": "code",
   "execution_count": 241,
   "metadata": {},
   "outputs": [
    {
     "data": {
      "text/plain": [
       "30.095266666666667"
      ]
     },
     "execution_count": 241,
     "metadata": {},
     "output_type": "execute_result"
    }
   ],
   "source": [
    "miniscope_timestampfile['Time Stamp (ms)'].iloc[-1]/(1000*60)"
   ]
  },
  {
   "cell_type": "code",
   "execution_count": 242,
   "metadata": {},
   "outputs": [
    {
     "data": {
      "text/html": [
       "<div>\n",
       "<style scoped>\n",
       "    .dataframe tbody tr th:only-of-type {\n",
       "        vertical-align: middle;\n",
       "    }\n",
       "\n",
       "    .dataframe tbody tr th {\n",
       "        vertical-align: top;\n",
       "    }\n",
       "\n",
       "    .dataframe thead th {\n",
       "        text-align: right;\n",
       "    }\n",
       "</style>\n",
       "<table border=\"1\" class=\"dataframe\">\n",
       "  <thead>\n",
       "    <tr style=\"text-align: right;\">\n",
       "      <th></th>\n",
       "      <th>Frame Number</th>\n",
       "      <th>Time Stamp (ms)</th>\n",
       "      <th>Buffer Index</th>\n",
       "    </tr>\n",
       "  </thead>\n",
       "  <tbody>\n",
       "    <tr>\n",
       "      <th>0</th>\n",
       "      <td>0</td>\n",
       "      <td>-74</td>\n",
       "      <td>0</td>\n",
       "    </tr>\n",
       "    <tr>\n",
       "      <th>1</th>\n",
       "      <td>1</td>\n",
       "      <td>2</td>\n",
       "      <td>0</td>\n",
       "    </tr>\n",
       "    <tr>\n",
       "      <th>2</th>\n",
       "      <td>2</td>\n",
       "      <td>64</td>\n",
       "      <td>0</td>\n",
       "    </tr>\n",
       "    <tr>\n",
       "      <th>3</th>\n",
       "      <td>3</td>\n",
       "      <td>128</td>\n",
       "      <td>0</td>\n",
       "    </tr>\n",
       "    <tr>\n",
       "      <th>4</th>\n",
       "      <td>4</td>\n",
       "      <td>192</td>\n",
       "      <td>0</td>\n",
       "    </tr>\n",
       "    <tr>\n",
       "      <th>...</th>\n",
       "      <td>...</td>\n",
       "      <td>...</td>\n",
       "      <td>...</td>\n",
       "    </tr>\n",
       "    <tr>\n",
       "      <th>27128</th>\n",
       "      <td>27128</td>\n",
       "      <td>1805414</td>\n",
       "      <td>0</td>\n",
       "    </tr>\n",
       "    <tr>\n",
       "      <th>27129</th>\n",
       "      <td>27129</td>\n",
       "      <td>1805478</td>\n",
       "      <td>0</td>\n",
       "    </tr>\n",
       "    <tr>\n",
       "      <th>27130</th>\n",
       "      <td>27130</td>\n",
       "      <td>1805540</td>\n",
       "      <td>0</td>\n",
       "    </tr>\n",
       "    <tr>\n",
       "      <th>27131</th>\n",
       "      <td>27131</td>\n",
       "      <td>1805607</td>\n",
       "      <td>0</td>\n",
       "    </tr>\n",
       "    <tr>\n",
       "      <th>27132</th>\n",
       "      <td>27132</td>\n",
       "      <td>1805671</td>\n",
       "      <td>0</td>\n",
       "    </tr>\n",
       "  </tbody>\n",
       "</table>\n",
       "<p>27133 rows × 3 columns</p>\n",
       "</div>"
      ],
      "text/plain": [
       "       Frame Number  Time Stamp (ms)  Buffer Index\n",
       "0                 0              -74             0\n",
       "1                 1                2             0\n",
       "2                 2               64             0\n",
       "3                 3              128             0\n",
       "4                 4              192             0\n",
       "...             ...              ...           ...\n",
       "27128         27128          1805414             0\n",
       "27129         27129          1805478             0\n",
       "27130         27130          1805540             0\n",
       "27131         27131          1805607             0\n",
       "27132         27132          1805671             0\n",
       "\n",
       "[27133 rows x 3 columns]"
      ]
     },
     "execution_count": 242,
     "metadata": {},
     "output_type": "execute_result"
    }
   ],
   "source": [
    "timestampfile"
   ]
  },
  {
   "cell_type": "code",
   "execution_count": 243,
   "metadata": {},
   "outputs": [
    {
     "data": {
      "text/html": [
       "<div>\n",
       "<style scoped>\n",
       "    .dataframe tbody tr th:only-of-type {\n",
       "        vertical-align: middle;\n",
       "    }\n",
       "\n",
       "    .dataframe tbody tr th {\n",
       "        vertical-align: top;\n",
       "    }\n",
       "\n",
       "    .dataframe thead th {\n",
       "        text-align: right;\n",
       "    }\n",
       "</style>\n",
       "<table border=\"1\" class=\"dataframe\">\n",
       "  <thead>\n",
       "    <tr style=\"text-align: right;\">\n",
       "      <th></th>\n",
       "      <th>Frame Number</th>\n",
       "      <th>Time Stamp (ms)</th>\n",
       "      <th>Buffer Index</th>\n",
       "    </tr>\n",
       "  </thead>\n",
       "  <tbody>\n",
       "    <tr>\n",
       "      <th>0</th>\n",
       "      <td>0</td>\n",
       "      <td>-5</td>\n",
       "      <td>0</td>\n",
       "    </tr>\n",
       "    <tr>\n",
       "      <th>1</th>\n",
       "      <td>1</td>\n",
       "      <td>46</td>\n",
       "      <td>0</td>\n",
       "    </tr>\n",
       "    <tr>\n",
       "      <th>2</th>\n",
       "      <td>2</td>\n",
       "      <td>97</td>\n",
       "      <td>0</td>\n",
       "    </tr>\n",
       "    <tr>\n",
       "      <th>3</th>\n",
       "      <td>3</td>\n",
       "      <td>147</td>\n",
       "      <td>0</td>\n",
       "    </tr>\n",
       "    <tr>\n",
       "      <th>4</th>\n",
       "      <td>4</td>\n",
       "      <td>198</td>\n",
       "      <td>0</td>\n",
       "    </tr>\n",
       "    <tr>\n",
       "      <th>...</th>\n",
       "      <td>...</td>\n",
       "      <td>...</td>\n",
       "      <td>...</td>\n",
       "    </tr>\n",
       "    <tr>\n",
       "      <th>35677</th>\n",
       "      <td>35677</td>\n",
       "      <td>1805515</td>\n",
       "      <td>0</td>\n",
       "    </tr>\n",
       "    <tr>\n",
       "      <th>35678</th>\n",
       "      <td>35678</td>\n",
       "      <td>1805565</td>\n",
       "      <td>0</td>\n",
       "    </tr>\n",
       "    <tr>\n",
       "      <th>35679</th>\n",
       "      <td>35679</td>\n",
       "      <td>1805616</td>\n",
       "      <td>0</td>\n",
       "    </tr>\n",
       "    <tr>\n",
       "      <th>35680</th>\n",
       "      <td>35680</td>\n",
       "      <td>1805666</td>\n",
       "      <td>0</td>\n",
       "    </tr>\n",
       "    <tr>\n",
       "      <th>35681</th>\n",
       "      <td>35681</td>\n",
       "      <td>1805716</td>\n",
       "      <td>0</td>\n",
       "    </tr>\n",
       "  </tbody>\n",
       "</table>\n",
       "<p>35682 rows × 3 columns</p>\n",
       "</div>"
      ],
      "text/plain": [
       "       Frame Number  Time Stamp (ms)  Buffer Index\n",
       "0                 0               -5             0\n",
       "1                 1               46             0\n",
       "2                 2               97             0\n",
       "3                 3              147             0\n",
       "4                 4              198             0\n",
       "...             ...              ...           ...\n",
       "35677         35677          1805515             0\n",
       "35678         35678          1805565             0\n",
       "35679         35679          1805616             0\n",
       "35680         35680          1805666             0\n",
       "35681         35681          1805716             0\n",
       "\n",
       "[35682 rows x 3 columns]"
      ]
     },
     "execution_count": 243,
     "metadata": {},
     "output_type": "execute_result"
    }
   ],
   "source": [
    "miniscope_timestampfile"
   ]
  },
  {
   "cell_type": "code",
   "execution_count": 244,
   "metadata": {},
   "outputs": [
    {
     "data": {
      "text/plain": [
       "198"
      ]
     },
     "execution_count": 244,
     "metadata": {},
     "output_type": "execute_result"
    }
   ],
   "source": [
    "miniscope_timestampfile['Time Stamp (ms)'].loc[4]"
   ]
  },
  {
   "cell_type": "code",
   "execution_count": 289,
   "metadata": {},
   "outputs": [],
   "source": [
    "#.set_index(pd.to_timedelta(np.linspace(0, (len(veloctiyDataFrame)-1)*(1/frame_rate), len(veloctiyDataFrame)), unit='s'))\n",
    "frame_rate=15\n",
    "timestampfile_td = timestampfile.set_index(pd.to_timedelta(np.linspace(0, (len(timestampfile)-1)*(1/frame_rate), len(timestampfile)), unit='s'), drop=False)\n",
    "behavCamTimeStampsDownsampled = timestampfile_td.resample('.2S').bfill()\n",
    "behavCamTimeStampsMedian = behavCamTimeStampsDownsampled.resample('1S').median()\n",
    "behavCamTimeStampsResampled = behavCamTimeStampsMedian.resample('.2S').bfill()"
   ]
  },
  {
   "cell_type": "code",
   "execution_count": 290,
   "metadata": {},
   "outputs": [],
   "source": [
    "#.set_index(pd.to_timedelta(np.linspace(0, (len(veloctiyDataFrame)-1)*(1/frame_rate), len(veloctiyDataFrame)), unit='s'))\n",
    "frame_rate=20\n",
    "miniscopetimestamp_td = miniscope_timestampfile.set_index(pd.to_timedelta(np.linspace(0, (len(miniscope_timestampfile)-1)*(1/frame_rate), len(miniscope_timestampfile)), unit='s'), drop=False)\n",
    "miniscopeTimeStampsDownsampled = miniscopetimestamp_td.resample('.2S').bfill()\n",
    "miniscopeTimeStampsMedian = miniscopeTimeStampsDownsampled.resample('1S').median()\n",
    "miniscopeTimeStampsResampled = miniscopeTimeStampsMedian.resample('.2S').bfill()"
   ]
  },
  {
   "cell_type": "code",
   "execution_count": 291,
   "metadata": {},
   "outputs": [
    {
     "data": {
      "text/html": [
       "<div>\n",
       "<style scoped>\n",
       "    .dataframe tbody tr th:only-of-type {\n",
       "        vertical-align: middle;\n",
       "    }\n",
       "\n",
       "    .dataframe tbody tr th {\n",
       "        vertical-align: top;\n",
       "    }\n",
       "\n",
       "    .dataframe thead th {\n",
       "        text-align: right;\n",
       "    }\n",
       "</style>\n",
       "<table border=\"1\" class=\"dataframe\">\n",
       "  <thead>\n",
       "    <tr style=\"text-align: right;\">\n",
       "      <th></th>\n",
       "      <th>Frame Number</th>\n",
       "      <th>Time Stamp (ms)</th>\n",
       "      <th>Buffer Index</th>\n",
       "    </tr>\n",
       "  </thead>\n",
       "  <tbody>\n",
       "    <tr>\n",
       "      <th>0 days 00:00:00</th>\n",
       "      <td>6.0</td>\n",
       "      <td>325.0</td>\n",
       "      <td>0.0</td>\n",
       "    </tr>\n",
       "    <tr>\n",
       "      <th>0 days 00:00:00.200000</th>\n",
       "      <td>21.0</td>\n",
       "      <td>1328.0</td>\n",
       "      <td>0.0</td>\n",
       "    </tr>\n",
       "    <tr>\n",
       "      <th>0 days 00:00:00.400000</th>\n",
       "      <td>21.0</td>\n",
       "      <td>1328.0</td>\n",
       "      <td>0.0</td>\n",
       "    </tr>\n",
       "    <tr>\n",
       "      <th>0 days 00:00:00.600000</th>\n",
       "      <td>21.0</td>\n",
       "      <td>1328.0</td>\n",
       "      <td>0.0</td>\n",
       "    </tr>\n",
       "    <tr>\n",
       "      <th>0 days 00:00:00.800000</th>\n",
       "      <td>21.0</td>\n",
       "      <td>1328.0</td>\n",
       "      <td>0.0</td>\n",
       "    </tr>\n",
       "    <tr>\n",
       "      <th>...</th>\n",
       "      <td>...</td>\n",
       "      <td>...</td>\n",
       "      <td>...</td>\n",
       "    </tr>\n",
       "    <tr>\n",
       "      <th>0 days 00:30:07.200000</th>\n",
       "      <td>27126.0</td>\n",
       "      <td>1805272.0</td>\n",
       "      <td>0.0</td>\n",
       "    </tr>\n",
       "    <tr>\n",
       "      <th>0 days 00:30:07.400000</th>\n",
       "      <td>27126.0</td>\n",
       "      <td>1805272.0</td>\n",
       "      <td>0.0</td>\n",
       "    </tr>\n",
       "    <tr>\n",
       "      <th>0 days 00:30:07.600000</th>\n",
       "      <td>27126.0</td>\n",
       "      <td>1805272.0</td>\n",
       "      <td>0.0</td>\n",
       "    </tr>\n",
       "    <tr>\n",
       "      <th>0 days 00:30:07.800000</th>\n",
       "      <td>27126.0</td>\n",
       "      <td>1805272.0</td>\n",
       "      <td>0.0</td>\n",
       "    </tr>\n",
       "    <tr>\n",
       "      <th>0 days 00:30:08</th>\n",
       "      <td>27126.0</td>\n",
       "      <td>1805272.0</td>\n",
       "      <td>0.0</td>\n",
       "    </tr>\n",
       "  </tbody>\n",
       "</table>\n",
       "<p>9041 rows × 3 columns</p>\n",
       "</div>"
      ],
      "text/plain": [
       "                        Frame Number  Time Stamp (ms)  Buffer Index\n",
       "0 days 00:00:00                  6.0            325.0           0.0\n",
       "0 days 00:00:00.200000          21.0           1328.0           0.0\n",
       "0 days 00:00:00.400000          21.0           1328.0           0.0\n",
       "0 days 00:00:00.600000          21.0           1328.0           0.0\n",
       "0 days 00:00:00.800000          21.0           1328.0           0.0\n",
       "...                              ...              ...           ...\n",
       "0 days 00:30:07.200000       27126.0        1805272.0           0.0\n",
       "0 days 00:30:07.400000       27126.0        1805272.0           0.0\n",
       "0 days 00:30:07.600000       27126.0        1805272.0           0.0\n",
       "0 days 00:30:07.800000       27126.0        1805272.0           0.0\n",
       "0 days 00:30:08              27126.0        1805272.0           0.0\n",
       "\n",
       "[9041 rows x 3 columns]"
      ]
     },
     "execution_count": 291,
     "metadata": {},
     "output_type": "execute_result"
    }
   ],
   "source": [
    "behavCamTimeStampsResampled"
   ]
  },
  {
   "cell_type": "code",
   "execution_count": 292,
   "metadata": {
    "scrolled": true
   },
   "outputs": [
    {
     "data": {
      "text/html": [
       "<div>\n",
       "<style scoped>\n",
       "    .dataframe tbody tr th:only-of-type {\n",
       "        vertical-align: middle;\n",
       "    }\n",
       "\n",
       "    .dataframe tbody tr th {\n",
       "        vertical-align: top;\n",
       "    }\n",
       "\n",
       "    .dataframe thead th {\n",
       "        text-align: right;\n",
       "    }\n",
       "</style>\n",
       "<table border=\"1\" class=\"dataframe\">\n",
       "  <thead>\n",
       "    <tr style=\"text-align: right;\">\n",
       "      <th></th>\n",
       "      <th>Frame Number</th>\n",
       "      <th>Time Stamp (ms)</th>\n",
       "      <th>Buffer Index</th>\n",
       "    </tr>\n",
       "  </thead>\n",
       "  <tbody>\n",
       "    <tr>\n",
       "      <th>0 days 00:00:00</th>\n",
       "      <td>8.0</td>\n",
       "      <td>400.0</td>\n",
       "      <td>0.0</td>\n",
       "    </tr>\n",
       "    <tr>\n",
       "      <th>0 days 00:00:00.200000</th>\n",
       "      <td>28.0</td>\n",
       "      <td>1412.0</td>\n",
       "      <td>0.0</td>\n",
       "    </tr>\n",
       "    <tr>\n",
       "      <th>0 days 00:00:00.400000</th>\n",
       "      <td>28.0</td>\n",
       "      <td>1412.0</td>\n",
       "      <td>0.0</td>\n",
       "    </tr>\n",
       "    <tr>\n",
       "      <th>0 days 00:00:00.600000</th>\n",
       "      <td>28.0</td>\n",
       "      <td>1412.0</td>\n",
       "      <td>0.0</td>\n",
       "    </tr>\n",
       "    <tr>\n",
       "      <th>0 days 00:00:00.800000</th>\n",
       "      <td>28.0</td>\n",
       "      <td>1412.0</td>\n",
       "      <td>0.0</td>\n",
       "    </tr>\n",
       "    <tr>\n",
       "      <th>...</th>\n",
       "      <td>...</td>\n",
       "      <td>...</td>\n",
       "      <td>...</td>\n",
       "    </tr>\n",
       "    <tr>\n",
       "      <th>0 days 00:29:43.200000</th>\n",
       "      <td>35680.0</td>\n",
       "      <td>1805666.0</td>\n",
       "      <td>0.0</td>\n",
       "    </tr>\n",
       "    <tr>\n",
       "      <th>0 days 00:29:43.400000</th>\n",
       "      <td>35680.0</td>\n",
       "      <td>1805666.0</td>\n",
       "      <td>0.0</td>\n",
       "    </tr>\n",
       "    <tr>\n",
       "      <th>0 days 00:29:43.600000</th>\n",
       "      <td>35680.0</td>\n",
       "      <td>1805666.0</td>\n",
       "      <td>0.0</td>\n",
       "    </tr>\n",
       "    <tr>\n",
       "      <th>0 days 00:29:43.800000</th>\n",
       "      <td>35680.0</td>\n",
       "      <td>1805666.0</td>\n",
       "      <td>0.0</td>\n",
       "    </tr>\n",
       "    <tr>\n",
       "      <th>0 days 00:29:44</th>\n",
       "      <td>35680.0</td>\n",
       "      <td>1805666.0</td>\n",
       "      <td>0.0</td>\n",
       "    </tr>\n",
       "  </tbody>\n",
       "</table>\n",
       "<p>8921 rows × 3 columns</p>\n",
       "</div>"
      ],
      "text/plain": [
       "                        Frame Number  Time Stamp (ms)  Buffer Index\n",
       "0 days 00:00:00                  8.0            400.0           0.0\n",
       "0 days 00:00:00.200000          28.0           1412.0           0.0\n",
       "0 days 00:00:00.400000          28.0           1412.0           0.0\n",
       "0 days 00:00:00.600000          28.0           1412.0           0.0\n",
       "0 days 00:00:00.800000          28.0           1412.0           0.0\n",
       "...                              ...              ...           ...\n",
       "0 days 00:29:43.200000       35680.0        1805666.0           0.0\n",
       "0 days 00:29:43.400000       35680.0        1805666.0           0.0\n",
       "0 days 00:29:43.600000       35680.0        1805666.0           0.0\n",
       "0 days 00:29:43.800000       35680.0        1805666.0           0.0\n",
       "0 days 00:29:44              35680.0        1805666.0           0.0\n",
       "\n",
       "[8921 rows x 3 columns]"
      ]
     },
     "execution_count": 292,
     "metadata": {},
     "output_type": "execute_result"
    }
   ],
   "source": [
    "miniscopeTimeStampsResampled"
   ]
  },
  {
   "cell_type": "code",
   "execution_count": 293,
   "metadata": {},
   "outputs": [
    {
     "name": "stderr",
     "output_type": "stream",
     "text": [
      "100%|████████████████████████████████████████████████████████████████████████████| 8921/8921 [00:06<00:00, 1378.71it/s]\n"
     ]
    }
   ],
   "source": [
    "behavCam_frames = []\n",
    "sys_clock_behavCam = []\n",
    "#create \"key\" for aligning miniscope frames to timestamp file\n",
    "#then create behavior TD and align\n",
    "for msCam_frame in tqdm(range(0, len(miniscopeTimeStampsResampled['Frame Number']))):\n",
    "        #get sys clock time of each miniscope recorded frame\n",
    "        #sys_clock_msCam = time_stamps['sysClock'].loc[msCam_frame]\n",
    "        #find behav cam frame closest to sys clock time of ms frame\n",
    "        behavCam_frame = list(behavCamTimeStampsResampled.iloc[(behavCamTimeStampsResampled['Time Stamp (ms)']-miniscopeTimeStampsResampled['Time Stamp (ms)'].iloc[msCam_frame]).abs().argsort()[:1]].index)[0]\n",
    "        behavCam_frames.append(behavCam_frame)\n",
    "        sys_clock_behavCam.append(behavCamTimeStampsResampled.loc[behavCam_frame]['Time Stamp (ms)'])\n",
    "\n",
    "behavCamIdxToAlign = [behavCamTimeStampsResampled.index.get_loc(idx) for idx in behavCam_frames]\n"
   ]
  },
  {
   "cell_type": "code",
   "execution_count": 294,
   "metadata": {
    "scrolled": true
   },
   "outputs": [
    {
     "data": {
      "text/plain": [
       "50.607354053978305"
      ]
     },
     "execution_count": 294,
     "metadata": {},
     "output_type": "execute_result"
    }
   ],
   "source": [
    "miniscope_timestampfile['Time Stamp (ms)'].diff().mean()"
   ]
  },
  {
   "cell_type": "code",
   "execution_count": 295,
   "metadata": {
    "scrolled": true
   },
   "outputs": [
    {
     "data": {
      "text/plain": [
       "15"
      ]
     },
     "execution_count": 295,
     "metadata": {},
     "output_type": "execute_result"
    }
   ],
   "source": [
    "int(1000/timestampfile['Time Stamp (ms)'].diff().mean())"
   ]
  },
  {
   "cell_type": "code",
   "execution_count": 296,
   "metadata": {},
   "outputs": [],
   "source": [
    "#ezTrackOutput"
   ]
  },
  {
   "cell_type": "code",
   "execution_count": 297,
   "metadata": {},
   "outputs": [
    {
     "data": {
      "text/plain": [
       "0            -74\n",
       "1              0\n",
       "2             64\n",
       "3            128\n",
       "4            192\n",
       "          ...   \n",
       "27128    1805414\n",
       "27129    1805478\n",
       "27130    1805540\n",
       "27131    1805607\n",
       "27132    1805671\n",
       "Name: Time Stamp (ms), Length: 27133, dtype: int64"
      ]
     },
     "execution_count": 297,
     "metadata": {},
     "output_type": "execute_result"
    }
   ],
   "source": [
    "# separate behavCam time stamps\n",
    "behavCamTimeStamps = timestampfile['Time Stamp (ms)']\n",
    "behavCamTimeStamps"
   ]
  },
  {
   "cell_type": "code",
   "execution_count": 298,
   "metadata": {},
   "outputs": [
    {
     "data": {
      "text/plain": [
       "0            -74\n",
       "1              0\n",
       "2             64\n",
       "3            128\n",
       "4            192\n",
       "          ...   \n",
       "27128    1805414\n",
       "27129    1805478\n",
       "27130    1805540\n",
       "27131    1805607\n",
       "27132    1805671\n",
       "Name: Time Stamp (ms), Length: 27133, dtype: int64"
      ]
     },
     "execution_count": 298,
     "metadata": {},
     "output_type": "execute_result"
    }
   ],
   "source": [
    "behavCamTimeStamps[0:len(ezTrackOutput)]"
   ]
  },
  {
   "cell_type": "code",
   "execution_count": 299,
   "metadata": {},
   "outputs": [],
   "source": [
    "# get times of frames\n",
    "behavCamTimes = behavCamTimeStamps\n",
    "# set 1st frame to 0 \n",
    "behavCamTimes[1] = 0 \n",
    "# reset index to 0 \n",
    "#behavCamTimes = behavCamTimes.reset_index()"
   ]
  },
  {
   "cell_type": "code",
   "execution_count": 300,
   "metadata": {},
   "outputs": [],
   "source": [
    "# delta T between frames for analyzed videos \n",
    "behavCamFrameTimeDelta = behavCamTimes.diff()[0:len(ezTrackOutput)]"
   ]
  },
  {
   "cell_type": "code",
   "execution_count": 301,
   "metadata": {},
   "outputs": [
    {
     "data": {
      "text/plain": [
       "0            -74\n",
       "1              0\n",
       "2             64\n",
       "3            128\n",
       "4            192\n",
       "          ...   \n",
       "27128    1805414\n",
       "27129    1805478\n",
       "27130    1805540\n",
       "27131    1805607\n",
       "27132    1805671\n",
       "Name: Time Stamp (ms), Length: 27133, dtype: int64"
      ]
     },
     "execution_count": 301,
     "metadata": {},
     "output_type": "execute_result"
    }
   ],
   "source": [
    "behavCamTimes"
   ]
  },
  {
   "cell_type": "code",
   "execution_count": 302,
   "metadata": {},
   "outputs": [
    {
     "data": {
      "text/plain": [
       "0         NaN\n",
       "1        74.0\n",
       "2        64.0\n",
       "3        64.0\n",
       "4        64.0\n",
       "         ... \n",
       "27128    76.0\n",
       "27129    64.0\n",
       "27130    62.0\n",
       "27131    67.0\n",
       "27132    64.0\n",
       "Name: Time Stamp (ms), Length: 27133, dtype: float64"
      ]
     },
     "execution_count": 302,
     "metadata": {},
     "output_type": "execute_result"
    }
   ],
   "source": [
    "behavCamFrameTimeDelta"
   ]
  },
  {
   "cell_type": "code",
   "execution_count": 303,
   "metadata": {},
   "outputs": [
    {
     "data": {
      "text/html": [
       "<div>\n",
       "<style scoped>\n",
       "    .dataframe tbody tr th:only-of-type {\n",
       "        vertical-align: middle;\n",
       "    }\n",
       "\n",
       "    .dataframe tbody tr th {\n",
       "        vertical-align: top;\n",
       "    }\n",
       "\n",
       "    .dataframe thead th {\n",
       "        text-align: right;\n",
       "    }\n",
       "</style>\n",
       "<table border=\"1\" class=\"dataframe\">\n",
       "  <thead>\n",
       "    <tr style=\"text-align: right;\">\n",
       "      <th></th>\n",
       "      <th>File</th>\n",
       "      <th>Location_Thresh</th>\n",
       "      <th>Use_Window</th>\n",
       "      <th>Window_Weight</th>\n",
       "      <th>Window_Size</th>\n",
       "      <th>Start_Frame</th>\n",
       "      <th>Frame</th>\n",
       "      <th>X</th>\n",
       "      <th>Y</th>\n",
       "      <th>Distance_px</th>\n",
       "      <th>Distance_cm</th>\n",
       "    </tr>\n",
       "  </thead>\n",
       "  <tbody>\n",
       "    <tr>\n",
       "      <th>0</th>\n",
       "      <td>DIO_r2.8_16_45_11combined.avi</td>\n",
       "      <td>99.0</td>\n",
       "      <td>True</td>\n",
       "      <td>0.9</td>\n",
       "      <td>200.0</td>\n",
       "      <td>0.0</td>\n",
       "      <td>0</td>\n",
       "      <td>328.958374</td>\n",
       "      <td>287.030055</td>\n",
       "      <td>0.000000</td>\n",
       "      <td>0.000000</td>\n",
       "    </tr>\n",
       "    <tr>\n",
       "      <th>1</th>\n",
       "      <td>DIO_r2.8_16_45_11combined.avi</td>\n",
       "      <td>99.0</td>\n",
       "      <td>True</td>\n",
       "      <td>0.9</td>\n",
       "      <td>200.0</td>\n",
       "      <td>0.0</td>\n",
       "      <td>1</td>\n",
       "      <td>329.403787</td>\n",
       "      <td>286.394925</td>\n",
       "      <td>0.775746</td>\n",
       "      <td>0.098431</td>\n",
       "    </tr>\n",
       "    <tr>\n",
       "      <th>2</th>\n",
       "      <td>DIO_r2.8_16_45_11combined.avi</td>\n",
       "      <td>99.0</td>\n",
       "      <td>True</td>\n",
       "      <td>0.9</td>\n",
       "      <td>200.0</td>\n",
       "      <td>0.0</td>\n",
       "      <td>2</td>\n",
       "      <td>329.147695</td>\n",
       "      <td>284.883176</td>\n",
       "      <td>1.533287</td>\n",
       "      <td>0.194552</td>\n",
       "    </tr>\n",
       "    <tr>\n",
       "      <th>3</th>\n",
       "      <td>DIO_r2.8_16_45_11combined.avi</td>\n",
       "      <td>99.0</td>\n",
       "      <td>True</td>\n",
       "      <td>0.9</td>\n",
       "      <td>200.0</td>\n",
       "      <td>0.0</td>\n",
       "      <td>3</td>\n",
       "      <td>328.706833</td>\n",
       "      <td>285.104714</td>\n",
       "      <td>0.493394</td>\n",
       "      <td>0.062605</td>\n",
       "    </tr>\n",
       "    <tr>\n",
       "      <th>4</th>\n",
       "      <td>DIO_r2.8_16_45_11combined.avi</td>\n",
       "      <td>99.0</td>\n",
       "      <td>True</td>\n",
       "      <td>0.9</td>\n",
       "      <td>200.0</td>\n",
       "      <td>0.0</td>\n",
       "      <td>4</td>\n",
       "      <td>325.868854</td>\n",
       "      <td>281.986916</td>\n",
       "      <td>4.216016</td>\n",
       "      <td>0.534953</td>\n",
       "    </tr>\n",
       "  </tbody>\n",
       "</table>\n",
       "</div>"
      ],
      "text/plain": [
       "                            File  Location_Thresh  Use_Window  Window_Weight  \\\n",
       "0  DIO_r2.8_16_45_11combined.avi             99.0        True            0.9   \n",
       "1  DIO_r2.8_16_45_11combined.avi             99.0        True            0.9   \n",
       "2  DIO_r2.8_16_45_11combined.avi             99.0        True            0.9   \n",
       "3  DIO_r2.8_16_45_11combined.avi             99.0        True            0.9   \n",
       "4  DIO_r2.8_16_45_11combined.avi             99.0        True            0.9   \n",
       "\n",
       "   Window_Size  Start_Frame  Frame           X           Y  Distance_px  \\\n",
       "0        200.0          0.0      0  328.958374  287.030055     0.000000   \n",
       "1        200.0          0.0      1  329.403787  286.394925     0.775746   \n",
       "2        200.0          0.0      2  329.147695  284.883176     1.533287   \n",
       "3        200.0          0.0      3  328.706833  285.104714     0.493394   \n",
       "4        200.0          0.0      4  325.868854  281.986916     4.216016   \n",
       "\n",
       "   Distance_cm  \n",
       "0     0.000000  \n",
       "1     0.098431  \n",
       "2     0.194552  \n",
       "3     0.062605  \n",
       "4     0.534953  "
      ]
     },
     "execution_count": 303,
     "metadata": {},
     "output_type": "execute_result"
    }
   ],
   "source": [
    "ezTrackOutput.head()"
   ]
  },
  {
   "cell_type": "code",
   "execution_count": 304,
   "metadata": {},
   "outputs": [],
   "source": [
    "# get velocity from frame times \n",
    "velocity = abs(ezTrackOutput['Distance_cm'].diff())/(behavCamFrameTimeDelta/1000)"
   ]
  },
  {
   "cell_type": "code",
   "execution_count": 305,
   "metadata": {},
   "outputs": [],
   "source": [
    "# data frame of mouse velocity \n",
    "veloctiyDataFrame = pd.concat([ezTrackOutput[['Frame', 'X', 'Y', 'Distance_px', 'Distance_cm']], \n",
    "                               behavCamTimes[0:len(ezTrackOutput)],\n",
    "                               pd.DataFrame(velocity, columns=['Velocity'])], axis=1)"
   ]
  },
  {
   "cell_type": "code",
   "execution_count": 306,
   "metadata": {},
   "outputs": [
    {
     "data": {
      "text/html": [
       "<div>\n",
       "<style scoped>\n",
       "    .dataframe tbody tr th:only-of-type {\n",
       "        vertical-align: middle;\n",
       "    }\n",
       "\n",
       "    .dataframe tbody tr th {\n",
       "        vertical-align: top;\n",
       "    }\n",
       "\n",
       "    .dataframe thead th {\n",
       "        text-align: right;\n",
       "    }\n",
       "</style>\n",
       "<table border=\"1\" class=\"dataframe\">\n",
       "  <thead>\n",
       "    <tr style=\"text-align: right;\">\n",
       "      <th></th>\n",
       "      <th>Frame</th>\n",
       "      <th>X</th>\n",
       "      <th>Y</th>\n",
       "      <th>Distance_px</th>\n",
       "      <th>Distance_cm</th>\n",
       "      <th>Time Stamp (ms)</th>\n",
       "      <th>Velocity</th>\n",
       "    </tr>\n",
       "  </thead>\n",
       "  <tbody>\n",
       "    <tr>\n",
       "      <th>0</th>\n",
       "      <td>0</td>\n",
       "      <td>328.958374</td>\n",
       "      <td>287.030055</td>\n",
       "      <td>0.000000</td>\n",
       "      <td>0.000000</td>\n",
       "      <td>-74</td>\n",
       "      <td>NaN</td>\n",
       "    </tr>\n",
       "    <tr>\n",
       "      <th>1</th>\n",
       "      <td>1</td>\n",
       "      <td>329.403787</td>\n",
       "      <td>286.394925</td>\n",
       "      <td>0.775746</td>\n",
       "      <td>0.098431</td>\n",
       "      <td>0</td>\n",
       "      <td>1.330152</td>\n",
       "    </tr>\n",
       "    <tr>\n",
       "      <th>2</th>\n",
       "      <td>2</td>\n",
       "      <td>329.147695</td>\n",
       "      <td>284.883176</td>\n",
       "      <td>1.533287</td>\n",
       "      <td>0.194552</td>\n",
       "      <td>64</td>\n",
       "      <td>1.501894</td>\n",
       "    </tr>\n",
       "    <tr>\n",
       "      <th>3</th>\n",
       "      <td>3</td>\n",
       "      <td>328.706833</td>\n",
       "      <td>285.104714</td>\n",
       "      <td>0.493394</td>\n",
       "      <td>0.062605</td>\n",
       "      <td>128</td>\n",
       "      <td>2.061682</td>\n",
       "    </tr>\n",
       "    <tr>\n",
       "      <th>4</th>\n",
       "      <td>4</td>\n",
       "      <td>325.868854</td>\n",
       "      <td>281.986916</td>\n",
       "      <td>4.216016</td>\n",
       "      <td>0.534953</td>\n",
       "      <td>192</td>\n",
       "      <td>7.380440</td>\n",
       "    </tr>\n",
       "    <tr>\n",
       "      <th>...</th>\n",
       "      <td>...</td>\n",
       "      <td>...</td>\n",
       "      <td>...</td>\n",
       "      <td>...</td>\n",
       "      <td>...</td>\n",
       "      <td>...</td>\n",
       "      <td>...</td>\n",
       "    </tr>\n",
       "    <tr>\n",
       "      <th>27128</th>\n",
       "      <td>27128</td>\n",
       "      <td>252.363277</td>\n",
       "      <td>339.331359</td>\n",
       "      <td>2.551007</td>\n",
       "      <td>0.323687</td>\n",
       "      <td>1805414</td>\n",
       "      <td>12.396048</td>\n",
       "    </tr>\n",
       "    <tr>\n",
       "      <th>27129</th>\n",
       "      <td>27129</td>\n",
       "      <td>278.678970</td>\n",
       "      <td>344.380687</td>\n",
       "      <td>26.795734</td>\n",
       "      <td>3.400000</td>\n",
       "      <td>1805478</td>\n",
       "      <td>48.067400</td>\n",
       "    </tr>\n",
       "    <tr>\n",
       "      <th>27130</th>\n",
       "      <td>27130</td>\n",
       "      <td>260.903226</td>\n",
       "      <td>342.269795</td>\n",
       "      <td>17.900641</td>\n",
       "      <td>2.271339</td>\n",
       "      <td>1805540</td>\n",
       "      <td>18.204222</td>\n",
       "    </tr>\n",
       "    <tr>\n",
       "      <th>27131</th>\n",
       "      <td>27131</td>\n",
       "      <td>264.046805</td>\n",
       "      <td>343.964339</td>\n",
       "      <td>3.571214</td>\n",
       "      <td>0.453137</td>\n",
       "      <td>1805607</td>\n",
       "      <td>27.137342</td>\n",
       "    </tr>\n",
       "    <tr>\n",
       "      <th>27132</th>\n",
       "      <td>27132</td>\n",
       "      <td>246.159675</td>\n",
       "      <td>339.559350</td>\n",
       "      <td>18.421546</td>\n",
       "      <td>2.337434</td>\n",
       "      <td>1805671</td>\n",
       "      <td>29.442148</td>\n",
       "    </tr>\n",
       "  </tbody>\n",
       "</table>\n",
       "<p>27133 rows × 7 columns</p>\n",
       "</div>"
      ],
      "text/plain": [
       "       Frame           X           Y  Distance_px  Distance_cm  \\\n",
       "0          0  328.958374  287.030055     0.000000     0.000000   \n",
       "1          1  329.403787  286.394925     0.775746     0.098431   \n",
       "2          2  329.147695  284.883176     1.533287     0.194552   \n",
       "3          3  328.706833  285.104714     0.493394     0.062605   \n",
       "4          4  325.868854  281.986916     4.216016     0.534953   \n",
       "...      ...         ...         ...          ...          ...   \n",
       "27128  27128  252.363277  339.331359     2.551007     0.323687   \n",
       "27129  27129  278.678970  344.380687    26.795734     3.400000   \n",
       "27130  27130  260.903226  342.269795    17.900641     2.271339   \n",
       "27131  27131  264.046805  343.964339     3.571214     0.453137   \n",
       "27132  27132  246.159675  339.559350    18.421546     2.337434   \n",
       "\n",
       "       Time Stamp (ms)   Velocity  \n",
       "0                  -74        NaN  \n",
       "1                    0   1.330152  \n",
       "2                   64   1.501894  \n",
       "3                  128   2.061682  \n",
       "4                  192   7.380440  \n",
       "...                ...        ...  \n",
       "27128          1805414  12.396048  \n",
       "27129          1805478  48.067400  \n",
       "27130          1805540  18.204222  \n",
       "27131          1805607  27.137342  \n",
       "27132          1805671  29.442148  \n",
       "\n",
       "[27133 rows x 7 columns]"
      ]
     },
     "execution_count": 306,
     "metadata": {},
     "output_type": "execute_result"
    }
   ],
   "source": [
    "veloctiyDataFrame"
   ]
  },
  {
   "cell_type": "code",
   "execution_count": 307,
   "metadata": {
    "scrolled": true
   },
   "outputs": [
    {
     "data": {
      "text/plain": [
       "66.55406899601947"
      ]
     },
     "execution_count": 307,
     "metadata": {},
     "output_type": "execute_result"
    }
   ],
   "source": [
    "#frame rate for behavCam \n",
    "veloctiyDataFrame['Time Stamp (ms)'].diff().mean()"
   ]
  },
  {
   "cell_type": "code",
   "execution_count": 308,
   "metadata": {},
   "outputs": [],
   "source": [
    "frame_rate = int(1000/veloctiyDataFrame['Time Stamp (ms)'].diff().mean())"
   ]
  },
  {
   "cell_type": "code",
   "execution_count": 309,
   "metadata": {},
   "outputs": [
    {
     "data": {
      "text/plain": [
       "15"
      ]
     },
     "execution_count": 309,
     "metadata": {},
     "output_type": "execute_result"
    }
   ],
   "source": [
    "frame_rate"
   ]
  },
  {
   "cell_type": "code",
   "execution_count": 310,
   "metadata": {},
   "outputs": [
    {
     "data": {
      "text/html": [
       "<div>\n",
       "<style scoped>\n",
       "    .dataframe tbody tr th:only-of-type {\n",
       "        vertical-align: middle;\n",
       "    }\n",
       "\n",
       "    .dataframe tbody tr th {\n",
       "        vertical-align: top;\n",
       "    }\n",
       "\n",
       "    .dataframe thead th {\n",
       "        text-align: right;\n",
       "    }\n",
       "</style>\n",
       "<table border=\"1\" class=\"dataframe\">\n",
       "  <thead>\n",
       "    <tr style=\"text-align: right;\">\n",
       "      <th></th>\n",
       "      <th>Frame</th>\n",
       "      <th>X</th>\n",
       "      <th>Y</th>\n",
       "      <th>Distance_px</th>\n",
       "      <th>Distance_cm</th>\n",
       "      <th>Time Stamp (ms)</th>\n",
       "      <th>Velocity</th>\n",
       "    </tr>\n",
       "  </thead>\n",
       "  <tbody>\n",
       "    <tr>\n",
       "      <th>0</th>\n",
       "      <td>0</td>\n",
       "      <td>328.958374</td>\n",
       "      <td>287.030055</td>\n",
       "      <td>0.000000</td>\n",
       "      <td>0.000000</td>\n",
       "      <td>-74</td>\n",
       "      <td>NaN</td>\n",
       "    </tr>\n",
       "    <tr>\n",
       "      <th>1</th>\n",
       "      <td>1</td>\n",
       "      <td>329.403787</td>\n",
       "      <td>286.394925</td>\n",
       "      <td>0.775746</td>\n",
       "      <td>0.098431</td>\n",
       "      <td>0</td>\n",
       "      <td>1.330152</td>\n",
       "    </tr>\n",
       "    <tr>\n",
       "      <th>2</th>\n",
       "      <td>2</td>\n",
       "      <td>329.147695</td>\n",
       "      <td>284.883176</td>\n",
       "      <td>1.533287</td>\n",
       "      <td>0.194552</td>\n",
       "      <td>64</td>\n",
       "      <td>1.501894</td>\n",
       "    </tr>\n",
       "    <tr>\n",
       "      <th>3</th>\n",
       "      <td>3</td>\n",
       "      <td>328.706833</td>\n",
       "      <td>285.104714</td>\n",
       "      <td>0.493394</td>\n",
       "      <td>0.062605</td>\n",
       "      <td>128</td>\n",
       "      <td>2.061682</td>\n",
       "    </tr>\n",
       "    <tr>\n",
       "      <th>4</th>\n",
       "      <td>4</td>\n",
       "      <td>325.868854</td>\n",
       "      <td>281.986916</td>\n",
       "      <td>4.216016</td>\n",
       "      <td>0.534953</td>\n",
       "      <td>192</td>\n",
       "      <td>7.380440</td>\n",
       "    </tr>\n",
       "    <tr>\n",
       "      <th>...</th>\n",
       "      <td>...</td>\n",
       "      <td>...</td>\n",
       "      <td>...</td>\n",
       "      <td>...</td>\n",
       "      <td>...</td>\n",
       "      <td>...</td>\n",
       "      <td>...</td>\n",
       "    </tr>\n",
       "    <tr>\n",
       "      <th>27128</th>\n",
       "      <td>27128</td>\n",
       "      <td>252.363277</td>\n",
       "      <td>339.331359</td>\n",
       "      <td>2.551007</td>\n",
       "      <td>0.323687</td>\n",
       "      <td>1805414</td>\n",
       "      <td>12.396048</td>\n",
       "    </tr>\n",
       "    <tr>\n",
       "      <th>27129</th>\n",
       "      <td>27129</td>\n",
       "      <td>278.678970</td>\n",
       "      <td>344.380687</td>\n",
       "      <td>26.795734</td>\n",
       "      <td>3.400000</td>\n",
       "      <td>1805478</td>\n",
       "      <td>48.067400</td>\n",
       "    </tr>\n",
       "    <tr>\n",
       "      <th>27130</th>\n",
       "      <td>27130</td>\n",
       "      <td>260.903226</td>\n",
       "      <td>342.269795</td>\n",
       "      <td>17.900641</td>\n",
       "      <td>2.271339</td>\n",
       "      <td>1805540</td>\n",
       "      <td>18.204222</td>\n",
       "    </tr>\n",
       "    <tr>\n",
       "      <th>27131</th>\n",
       "      <td>27131</td>\n",
       "      <td>264.046805</td>\n",
       "      <td>343.964339</td>\n",
       "      <td>3.571214</td>\n",
       "      <td>0.453137</td>\n",
       "      <td>1805607</td>\n",
       "      <td>27.137342</td>\n",
       "    </tr>\n",
       "    <tr>\n",
       "      <th>27132</th>\n",
       "      <td>27132</td>\n",
       "      <td>246.159675</td>\n",
       "      <td>339.559350</td>\n",
       "      <td>18.421546</td>\n",
       "      <td>2.337434</td>\n",
       "      <td>1805671</td>\n",
       "      <td>29.442148</td>\n",
       "    </tr>\n",
       "  </tbody>\n",
       "</table>\n",
       "<p>27133 rows × 7 columns</p>\n",
       "</div>"
      ],
      "text/plain": [
       "       Frame           X           Y  Distance_px  Distance_cm  \\\n",
       "0          0  328.958374  287.030055     0.000000     0.000000   \n",
       "1          1  329.403787  286.394925     0.775746     0.098431   \n",
       "2          2  329.147695  284.883176     1.533287     0.194552   \n",
       "3          3  328.706833  285.104714     0.493394     0.062605   \n",
       "4          4  325.868854  281.986916     4.216016     0.534953   \n",
       "...      ...         ...         ...          ...          ...   \n",
       "27128  27128  252.363277  339.331359     2.551007     0.323687   \n",
       "27129  27129  278.678970  344.380687    26.795734     3.400000   \n",
       "27130  27130  260.903226  342.269795    17.900641     2.271339   \n",
       "27131  27131  264.046805  343.964339     3.571214     0.453137   \n",
       "27132  27132  246.159675  339.559350    18.421546     2.337434   \n",
       "\n",
       "       Time Stamp (ms)   Velocity  \n",
       "0                  -74        NaN  \n",
       "1                    0   1.330152  \n",
       "2                   64   1.501894  \n",
       "3                  128   2.061682  \n",
       "4                  192   7.380440  \n",
       "...                ...        ...  \n",
       "27128          1805414  12.396048  \n",
       "27129          1805478  48.067400  \n",
       "27130          1805540  18.204222  \n",
       "27131          1805607  27.137342  \n",
       "27132          1805671  29.442148  \n",
       "\n",
       "[27133 rows x 7 columns]"
      ]
     },
     "execution_count": 310,
     "metadata": {},
     "output_type": "execute_result"
    }
   ],
   "source": [
    "veloctiyDataFrame"
   ]
  },
  {
   "cell_type": "code",
   "execution_count": 311,
   "metadata": {},
   "outputs": [
    {
     "data": {
      "text/html": [
       "<div>\n",
       "<style scoped>\n",
       "    .dataframe tbody tr th:only-of-type {\n",
       "        vertical-align: middle;\n",
       "    }\n",
       "\n",
       "    .dataframe tbody tr th {\n",
       "        vertical-align: top;\n",
       "    }\n",
       "\n",
       "    .dataframe thead th {\n",
       "        text-align: right;\n",
       "    }\n",
       "</style>\n",
       "<table border=\"1\" class=\"dataframe\">\n",
       "  <thead>\n",
       "    <tr style=\"text-align: right;\">\n",
       "      <th></th>\n",
       "      <th>Frame</th>\n",
       "      <th>X</th>\n",
       "      <th>Y</th>\n",
       "      <th>Distance_px</th>\n",
       "      <th>Distance_cm</th>\n",
       "      <th>Time Stamp (ms)</th>\n",
       "      <th>Velocity</th>\n",
       "    </tr>\n",
       "  </thead>\n",
       "  <tbody>\n",
       "    <tr>\n",
       "      <th>0 days 00:00:00</th>\n",
       "      <td>0</td>\n",
       "      <td>328.958374</td>\n",
       "      <td>287.030055</td>\n",
       "      <td>0.000000</td>\n",
       "      <td>0.000000</td>\n",
       "      <td>-74</td>\n",
       "      <td>NaN</td>\n",
       "    </tr>\n",
       "    <tr>\n",
       "      <th>0 days 00:00:00.066666667</th>\n",
       "      <td>1</td>\n",
       "      <td>329.403787</td>\n",
       "      <td>286.394925</td>\n",
       "      <td>0.775746</td>\n",
       "      <td>0.098431</td>\n",
       "      <td>0</td>\n",
       "      <td>1.330152</td>\n",
       "    </tr>\n",
       "    <tr>\n",
       "      <th>0 days 00:00:00.133333333</th>\n",
       "      <td>2</td>\n",
       "      <td>329.147695</td>\n",
       "      <td>284.883176</td>\n",
       "      <td>1.533287</td>\n",
       "      <td>0.194552</td>\n",
       "      <td>64</td>\n",
       "      <td>1.501894</td>\n",
       "    </tr>\n",
       "    <tr>\n",
       "      <th>0 days 00:00:00.200000</th>\n",
       "      <td>3</td>\n",
       "      <td>328.706833</td>\n",
       "      <td>285.104714</td>\n",
       "      <td>0.493394</td>\n",
       "      <td>0.062605</td>\n",
       "      <td>128</td>\n",
       "      <td>2.061682</td>\n",
       "    </tr>\n",
       "    <tr>\n",
       "      <th>0 days 00:00:00.266666667</th>\n",
       "      <td>4</td>\n",
       "      <td>325.868854</td>\n",
       "      <td>281.986916</td>\n",
       "      <td>4.216016</td>\n",
       "      <td>0.534953</td>\n",
       "      <td>192</td>\n",
       "      <td>7.380440</td>\n",
       "    </tr>\n",
       "    <tr>\n",
       "      <th>...</th>\n",
       "      <td>...</td>\n",
       "      <td>...</td>\n",
       "      <td>...</td>\n",
       "      <td>...</td>\n",
       "      <td>...</td>\n",
       "      <td>...</td>\n",
       "      <td>...</td>\n",
       "    </tr>\n",
       "    <tr>\n",
       "      <th>0 days 00:30:08.533333332</th>\n",
       "      <td>27128</td>\n",
       "      <td>252.363277</td>\n",
       "      <td>339.331359</td>\n",
       "      <td>2.551007</td>\n",
       "      <td>0.323687</td>\n",
       "      <td>1805414</td>\n",
       "      <td>12.396048</td>\n",
       "    </tr>\n",
       "    <tr>\n",
       "      <th>0 days 00:30:08.600000</th>\n",
       "      <td>27129</td>\n",
       "      <td>278.678970</td>\n",
       "      <td>344.380687</td>\n",
       "      <td>26.795734</td>\n",
       "      <td>3.400000</td>\n",
       "      <td>1805478</td>\n",
       "      <td>48.067400</td>\n",
       "    </tr>\n",
       "    <tr>\n",
       "      <th>0 days 00:30:08.666666667</th>\n",
       "      <td>27130</td>\n",
       "      <td>260.903226</td>\n",
       "      <td>342.269795</td>\n",
       "      <td>17.900641</td>\n",
       "      <td>2.271339</td>\n",
       "      <td>1805540</td>\n",
       "      <td>18.204222</td>\n",
       "    </tr>\n",
       "    <tr>\n",
       "      <th>0 days 00:30:08.733333333</th>\n",
       "      <td>27131</td>\n",
       "      <td>264.046805</td>\n",
       "      <td>343.964339</td>\n",
       "      <td>3.571214</td>\n",
       "      <td>0.453137</td>\n",
       "      <td>1805607</td>\n",
       "      <td>27.137342</td>\n",
       "    </tr>\n",
       "    <tr>\n",
       "      <th>0 days 00:30:08.800000</th>\n",
       "      <td>27132</td>\n",
       "      <td>246.159675</td>\n",
       "      <td>339.559350</td>\n",
       "      <td>18.421546</td>\n",
       "      <td>2.337434</td>\n",
       "      <td>1805671</td>\n",
       "      <td>29.442148</td>\n",
       "    </tr>\n",
       "  </tbody>\n",
       "</table>\n",
       "<p>27133 rows × 7 columns</p>\n",
       "</div>"
      ],
      "text/plain": [
       "                           Frame           X           Y  Distance_px  \\\n",
       "0 days 00:00:00                0  328.958374  287.030055     0.000000   \n",
       "0 days 00:00:00.066666667      1  329.403787  286.394925     0.775746   \n",
       "0 days 00:00:00.133333333      2  329.147695  284.883176     1.533287   \n",
       "0 days 00:00:00.200000         3  328.706833  285.104714     0.493394   \n",
       "0 days 00:00:00.266666667      4  325.868854  281.986916     4.216016   \n",
       "...                          ...         ...         ...          ...   \n",
       "0 days 00:30:08.533333332  27128  252.363277  339.331359     2.551007   \n",
       "0 days 00:30:08.600000     27129  278.678970  344.380687    26.795734   \n",
       "0 days 00:30:08.666666667  27130  260.903226  342.269795    17.900641   \n",
       "0 days 00:30:08.733333333  27131  264.046805  343.964339     3.571214   \n",
       "0 days 00:30:08.800000     27132  246.159675  339.559350    18.421546   \n",
       "\n",
       "                           Distance_cm  Time Stamp (ms)   Velocity  \n",
       "0 days 00:00:00               0.000000              -74        NaN  \n",
       "0 days 00:00:00.066666667     0.098431                0   1.330152  \n",
       "0 days 00:00:00.133333333     0.194552               64   1.501894  \n",
       "0 days 00:00:00.200000        0.062605              128   2.061682  \n",
       "0 days 00:00:00.266666667     0.534953              192   7.380440  \n",
       "...                                ...              ...        ...  \n",
       "0 days 00:30:08.533333332     0.323687          1805414  12.396048  \n",
       "0 days 00:30:08.600000        3.400000          1805478  48.067400  \n",
       "0 days 00:30:08.666666667     2.271339          1805540  18.204222  \n",
       "0 days 00:30:08.733333333     0.453137          1805607  27.137342  \n",
       "0 days 00:30:08.800000        2.337434          1805671  29.442148  \n",
       "\n",
       "[27133 rows x 7 columns]"
      ]
     },
     "execution_count": 311,
     "metadata": {},
     "output_type": "execute_result"
    }
   ],
   "source": [
    "# create time delta for behavior index\n",
    "# behavCam for v3 should record at 30 fps, can verify in timestamp file, check this is set correctly in concactenated videos\n",
    "veloctiyDataFrame = veloctiyDataFrame.set_index(pd.to_timedelta(np.linspace(0, (len(veloctiyDataFrame)-1)*(1/frame_rate), len(veloctiyDataFrame)), unit='s'))\n",
    "veloctiyDataFrame"
   ]
  },
  {
   "cell_type": "code",
   "execution_count": 312,
   "metadata": {},
   "outputs": [
    {
     "data": {
      "text/plain": [
       "27133"
      ]
     },
     "execution_count": 312,
     "metadata": {},
     "output_type": "execute_result"
    }
   ],
   "source": [
    "len(veloctiyDataFrame)"
   ]
  },
  {
   "cell_type": "code",
   "execution_count": 313,
   "metadata": {},
   "outputs": [],
   "source": [
    "## smooth velocity by upsampling "
   ]
  },
  {
   "cell_type": "code",
   "execution_count": 314,
   "metadata": {},
   "outputs": [
    {
     "data": {
      "image/png": "[encoded data removed]",
      "text/plain": [
       "<Figure size 432x288 with 2 Axes>"
      ]
     },
     "metadata": {
      "needs_background": "light"
     },
     "output_type": "display_data"
    }
   ],
   "source": [
    "xRangeFrames=(0,58000)\n",
    "y = veloctiyDataFrame['Velocity'][xRangeFrames[0]:xRangeFrames[1]]\n",
    "#recording_start_time = datetime.datetime.fromtimestamp(abs(timestampfile[timestampfile['camNum'] == 1]['sysClock'][1]))\n",
    "#plot x axis time\n",
    "recording_start_time = datetime.datetime(1970, 1, 1, hour=0, minute=0, second=0, microsecond=0)\n",
    "x = [recording_start_time+veloctiyDataFrame.index[i] for i in range(len(veloctiyDataFrame.index))][xRangeFrames[0]:xRangeFrames[1]]\n",
    "\n",
    "fig = plt.figure()\n",
    "ax1 = fig.add_subplot(111)\n",
    "ax2 = ax1.twiny()\n",
    "fig.subplots_adjust(bottom=0.2)\n",
    "\n",
    "myFmt = DateFormatter(\"%M:%S:%ms\")\n",
    "ax1.xaxis.set_major_formatter(myFmt)\n",
    "ax1.plot(x, y)\n",
    "plt.gcf().autofmt_xdate()\n",
    "\n",
    "# Move twinned axis ticks and label from top to bottom\n",
    "ax2.xaxis.set_ticks_position(\"bottom\")\n",
    "ax2.xaxis.set_label_position(\"bottom\")\n",
    "# Offset the twin axis below the host\n",
    "ax2.spines[\"bottom\"].set_position((\"axes\", -0.25))\n",
    "\n",
    "plt.show()"
   ]
  },
  {
   "cell_type": "code",
   "execution_count": 315,
   "metadata": {},
   "outputs": [],
   "source": [
    "downsampledDataFrame = veloctiyDataFrame.resample('.2S').mean()[['X', 'Y']]\n",
    "# calculate new euclidean distance based on mean values here \n",
    "## remove frames here to align with miniscope df \n",
    "#downsampledDataFrame = downsampledDataFrameToAlign.iloc[behavCamIdxToAlign]"
   ]
  },
  {
   "cell_type": "code",
   "execution_count": 316,
   "metadata": {
    "scrolled": true
   },
   "outputs": [
    {
     "data": {
      "text/html": [
       "<div>\n",
       "<style scoped>\n",
       "    .dataframe tbody tr th:only-of-type {\n",
       "        vertical-align: middle;\n",
       "    }\n",
       "\n",
       "    .dataframe tbody tr th {\n",
       "        vertical-align: top;\n",
       "    }\n",
       "\n",
       "    .dataframe thead th {\n",
       "        text-align: right;\n",
       "    }\n",
       "</style>\n",
       "<table border=\"1\" class=\"dataframe\">\n",
       "  <thead>\n",
       "    <tr style=\"text-align: right;\">\n",
       "      <th></th>\n",
       "      <th>X</th>\n",
       "      <th>Y</th>\n",
       "    </tr>\n",
       "  </thead>\n",
       "  <tbody>\n",
       "    <tr>\n",
       "      <th>0 days 00:00:00</th>\n",
       "      <td>329.169952</td>\n",
       "      <td>286.102719</td>\n",
       "    </tr>\n",
       "    <tr>\n",
       "      <th>0 days 00:00:00.200000</th>\n",
       "      <td>325.418763</td>\n",
       "      <td>283.116061</td>\n",
       "    </tr>\n",
       "    <tr>\n",
       "      <th>0 days 00:00:00.400000</th>\n",
       "      <td>320.162867</td>\n",
       "      <td>287.652740</td>\n",
       "    </tr>\n",
       "    <tr>\n",
       "      <th>0 days 00:00:00.600000</th>\n",
       "      <td>320.040652</td>\n",
       "      <td>293.575814</td>\n",
       "    </tr>\n",
       "    <tr>\n",
       "      <th>0 days 00:00:00.800000</th>\n",
       "      <td>313.510940</td>\n",
       "      <td>301.149760</td>\n",
       "    </tr>\n",
       "    <tr>\n",
       "      <th>...</th>\n",
       "      <td>...</td>\n",
       "      <td>...</td>\n",
       "    </tr>\n",
       "    <tr>\n",
       "      <th>0 days 00:30:08</th>\n",
       "      <td>253.831850</td>\n",
       "      <td>339.228472</td>\n",
       "    </tr>\n",
       "    <tr>\n",
       "      <th>0 days 00:30:08.200000</th>\n",
       "      <td>255.177272</td>\n",
       "      <td>341.789890</td>\n",
       "    </tr>\n",
       "    <tr>\n",
       "      <th>0 days 00:30:08.400000</th>\n",
       "      <td>256.644550</td>\n",
       "      <td>340.565857</td>\n",
       "    </tr>\n",
       "    <tr>\n",
       "      <th>0 days 00:30:08.600000</th>\n",
       "      <td>267.876334</td>\n",
       "      <td>343.538273</td>\n",
       "    </tr>\n",
       "    <tr>\n",
       "      <th>0 days 00:30:08.800000</th>\n",
       "      <td>246.159675</td>\n",
       "      <td>339.559350</td>\n",
       "    </tr>\n",
       "  </tbody>\n",
       "</table>\n",
       "<p>9045 rows × 2 columns</p>\n",
       "</div>"
      ],
      "text/plain": [
       "                                 X           Y\n",
       "0 days 00:00:00         329.169952  286.102719\n",
       "0 days 00:00:00.200000  325.418763  283.116061\n",
       "0 days 00:00:00.400000  320.162867  287.652740\n",
       "0 days 00:00:00.600000  320.040652  293.575814\n",
       "0 days 00:00:00.800000  313.510940  301.149760\n",
       "...                            ...         ...\n",
       "0 days 00:30:08         253.831850  339.228472\n",
       "0 days 00:30:08.200000  255.177272  341.789890\n",
       "0 days 00:30:08.400000  256.644550  340.565857\n",
       "0 days 00:30:08.600000  267.876334  343.538273\n",
       "0 days 00:30:08.800000  246.159675  339.559350\n",
       "\n",
       "[9045 rows x 2 columns]"
      ]
     },
     "execution_count": 316,
     "metadata": {},
     "output_type": "execute_result"
    }
   ],
   "source": [
    "downsampledDataFrame\n"
   ]
  },
  {
   "cell_type": "code",
   "execution_count": 317,
   "metadata": {},
   "outputs": [
    {
     "name": "stdout",
     "output_type": "stream",
     "text": [
      "0.1268858800773694\n"
     ]
    }
   ],
   "source": [
    "cmPerPixel = veloctiyDataFrame['Distance_cm'][1]/veloctiyDataFrame['Distance_px'][1]\n",
    "#cmPerPixel = 10\n",
    "print(cmPerPixel)\n",
    "\n",
    "def euclideanDistance(row):\n",
    "    return(math.sqrt(row['X']**2+row['Y']**2))\n",
    "\n",
    "def smoothedVelocity(row, cmPerPixel):\n",
    "    #euclidean distance divided by sampling rate, multiplied by cm/pixel\n",
    "    return((math.sqrt(row['X']**2+row['Y']**2)/.2)*cmPerPixel)\n",
    "    \n",
    "downsampledDataFrame['smoothedVelocity'] = downsampledDataFrame.diff().apply(lambda row : smoothedVelocity(row, cmPerPixel), axis=1)"
   ]
  },
  {
   "cell_type": "code",
   "execution_count": 318,
   "metadata": {},
   "outputs": [
    {
     "data": {
      "text/html": [
       "<div>\n",
       "<style scoped>\n",
       "    .dataframe tbody tr th:only-of-type {\n",
       "        vertical-align: middle;\n",
       "    }\n",
       "\n",
       "    .dataframe tbody tr th {\n",
       "        vertical-align: top;\n",
       "    }\n",
       "\n",
       "    .dataframe thead th {\n",
       "        text-align: right;\n",
       "    }\n",
       "</style>\n",
       "<table border=\"1\" class=\"dataframe\">\n",
       "  <thead>\n",
       "    <tr style=\"text-align: right;\">\n",
       "      <th></th>\n",
       "      <th>X</th>\n",
       "      <th>Y</th>\n",
       "      <th>smoothedVelocity</th>\n",
       "    </tr>\n",
       "  </thead>\n",
       "  <tbody>\n",
       "    <tr>\n",
       "      <th>0 days 00:00:00</th>\n",
       "      <td>329.169952</td>\n",
       "      <td>286.102719</td>\n",
       "      <td>NaN</td>\n",
       "    </tr>\n",
       "    <tr>\n",
       "      <th>0 days 00:00:00.200000</th>\n",
       "      <td>325.418763</td>\n",
       "      <td>283.116061</td>\n",
       "      <td>3.042057</td>\n",
       "    </tr>\n",
       "    <tr>\n",
       "      <th>0 days 00:00:00.400000</th>\n",
       "      <td>320.162867</td>\n",
       "      <td>287.652740</td>\n",
       "      <td>4.404873</td>\n",
       "    </tr>\n",
       "    <tr>\n",
       "      <th>0 days 00:00:00.600000</th>\n",
       "      <td>320.040652</td>\n",
       "      <td>293.575814</td>\n",
       "      <td>3.758572</td>\n",
       "    </tr>\n",
       "    <tr>\n",
       "      <th>0 days 00:00:00.800000</th>\n",
       "      <td>313.510940</td>\n",
       "      <td>301.149760</td>\n",
       "      <td>6.344351</td>\n",
       "    </tr>\n",
       "    <tr>\n",
       "      <th>...</th>\n",
       "      <td>...</td>\n",
       "      <td>...</td>\n",
       "      <td>...</td>\n",
       "    </tr>\n",
       "    <tr>\n",
       "      <th>0 days 00:30:08</th>\n",
       "      <td>253.831850</td>\n",
       "      <td>339.228472</td>\n",
       "      <td>4.113976</td>\n",
       "    </tr>\n",
       "    <tr>\n",
       "      <th>0 days 00:30:08.200000</th>\n",
       "      <td>255.177272</td>\n",
       "      <td>341.789890</td>\n",
       "      <td>1.835577</td>\n",
       "    </tr>\n",
       "    <tr>\n",
       "      <th>0 days 00:30:08.400000</th>\n",
       "      <td>256.644550</td>\n",
       "      <td>340.565857</td>\n",
       "      <td>1.212268</td>\n",
       "    </tr>\n",
       "    <tr>\n",
       "      <th>0 days 00:30:08.600000</th>\n",
       "      <td>267.876334</td>\n",
       "      <td>343.538273</td>\n",
       "      <td>7.371082</td>\n",
       "    </tr>\n",
       "    <tr>\n",
       "      <th>0 days 00:30:08.800000</th>\n",
       "      <td>246.159675</td>\n",
       "      <td>339.559350</td>\n",
       "      <td>14.007033</td>\n",
       "    </tr>\n",
       "  </tbody>\n",
       "</table>\n",
       "<p>9045 rows × 3 columns</p>\n",
       "</div>"
      ],
      "text/plain": [
       "                                 X           Y  smoothedVelocity\n",
       "0 days 00:00:00         329.169952  286.102719               NaN\n",
       "0 days 00:00:00.200000  325.418763  283.116061          3.042057\n",
       "0 days 00:00:00.400000  320.162867  287.652740          4.404873\n",
       "0 days 00:00:00.600000  320.040652  293.575814          3.758572\n",
       "0 days 00:00:00.800000  313.510940  301.149760          6.344351\n",
       "...                            ...         ...               ...\n",
       "0 days 00:30:08         253.831850  339.228472          4.113976\n",
       "0 days 00:30:08.200000  255.177272  341.789890          1.835577\n",
       "0 days 00:30:08.400000  256.644550  340.565857          1.212268\n",
       "0 days 00:30:08.600000  267.876334  343.538273          7.371082\n",
       "0 days 00:30:08.800000  246.159675  339.559350         14.007033\n",
       "\n",
       "[9045 rows x 3 columns]"
      ]
     },
     "execution_count": 318,
     "metadata": {},
     "output_type": "execute_result"
    }
   ],
   "source": [
    "downsampledDataFrame"
   ]
  },
  {
   "cell_type": "code",
   "execution_count": 320,
   "metadata": {},
   "outputs": [],
   "source": [
    "#downsample once more to 1S as a \"median filter\"\n",
    "downsampledMedian = downsampledDataFrame.resample('1S').median()\n",
    "resampledToAlign = downsampledMedian.resample('.2S').bfill()\n",
    "#downsampledMedian\n",
    "resampled = resampledToAlign.iloc[behavCamIdxToAlign]"
   ]
  },
  {
   "cell_type": "code",
   "execution_count": 321,
   "metadata": {},
   "outputs": [
    {
     "data": {
      "text/plain": [
       "9040"
      ]
     },
     "execution_count": 321,
     "metadata": {},
     "output_type": "execute_result"
    }
   ],
   "source": [
    "behavCamIdxToAlign[-1]"
   ]
  },
  {
   "cell_type": "code",
   "execution_count": 322,
   "metadata": {},
   "outputs": [
    {
     "data": {
      "text/html": [
       "<div>\n",
       "<style scoped>\n",
       "    .dataframe tbody tr th:only-of-type {\n",
       "        vertical-align: middle;\n",
       "    }\n",
       "\n",
       "    .dataframe tbody tr th {\n",
       "        vertical-align: top;\n",
       "    }\n",
       "\n",
       "    .dataframe thead th {\n",
       "        text-align: right;\n",
       "    }\n",
       "</style>\n",
       "<table border=\"1\" class=\"dataframe\">\n",
       "  <thead>\n",
       "    <tr style=\"text-align: right;\">\n",
       "      <th></th>\n",
       "      <th>X</th>\n",
       "      <th>Y</th>\n",
       "      <th>smoothedVelocity</th>\n",
       "    </tr>\n",
       "  </thead>\n",
       "  <tbody>\n",
       "    <tr>\n",
       "      <th>0 days 00:00:00</th>\n",
       "      <td>320.162867</td>\n",
       "      <td>287.652740</td>\n",
       "      <td>4.081723</td>\n",
       "    </tr>\n",
       "    <tr>\n",
       "      <th>0 days 00:00:00.200000</th>\n",
       "      <td>316.162499</td>\n",
       "      <td>305.784221</td>\n",
       "      <td>0.765492</td>\n",
       "    </tr>\n",
       "    <tr>\n",
       "      <th>0 days 00:00:00.200000</th>\n",
       "      <td>316.162499</td>\n",
       "      <td>305.784221</td>\n",
       "      <td>0.765492</td>\n",
       "    </tr>\n",
       "    <tr>\n",
       "      <th>0 days 00:00:00.200000</th>\n",
       "      <td>316.162499</td>\n",
       "      <td>305.784221</td>\n",
       "      <td>0.765492</td>\n",
       "    </tr>\n",
       "    <tr>\n",
       "      <th>0 days 00:00:00.200000</th>\n",
       "      <td>316.162499</td>\n",
       "      <td>305.784221</td>\n",
       "      <td>0.765492</td>\n",
       "    </tr>\n",
       "    <tr>\n",
       "      <th>...</th>\n",
       "      <td>...</td>\n",
       "      <td>...</td>\n",
       "      <td>...</td>\n",
       "    </tr>\n",
       "    <tr>\n",
       "      <th>0 days 00:30:08</th>\n",
       "      <td>255.177272</td>\n",
       "      <td>340.565857</td>\n",
       "      <td>4.113976</td>\n",
       "    </tr>\n",
       "    <tr>\n",
       "      <th>0 days 00:30:08</th>\n",
       "      <td>255.177272</td>\n",
       "      <td>340.565857</td>\n",
       "      <td>4.113976</td>\n",
       "    </tr>\n",
       "    <tr>\n",
       "      <th>0 days 00:30:08</th>\n",
       "      <td>255.177272</td>\n",
       "      <td>340.565857</td>\n",
       "      <td>4.113976</td>\n",
       "    </tr>\n",
       "    <tr>\n",
       "      <th>0 days 00:30:08</th>\n",
       "      <td>255.177272</td>\n",
       "      <td>340.565857</td>\n",
       "      <td>4.113976</td>\n",
       "    </tr>\n",
       "    <tr>\n",
       "      <th>0 days 00:30:08</th>\n",
       "      <td>255.177272</td>\n",
       "      <td>340.565857</td>\n",
       "      <td>4.113976</td>\n",
       "    </tr>\n",
       "  </tbody>\n",
       "</table>\n",
       "<p>8921 rows × 3 columns</p>\n",
       "</div>"
      ],
      "text/plain": [
       "                                 X           Y  smoothedVelocity\n",
       "0 days 00:00:00         320.162867  287.652740          4.081723\n",
       "0 days 00:00:00.200000  316.162499  305.784221          0.765492\n",
       "0 days 00:00:00.200000  316.162499  305.784221          0.765492\n",
       "0 days 00:00:00.200000  316.162499  305.784221          0.765492\n",
       "0 days 00:00:00.200000  316.162499  305.784221          0.765492\n",
       "...                            ...         ...               ...\n",
       "0 days 00:30:08         255.177272  340.565857          4.113976\n",
       "0 days 00:30:08         255.177272  340.565857          4.113976\n",
       "0 days 00:30:08         255.177272  340.565857          4.113976\n",
       "0 days 00:30:08         255.177272  340.565857          4.113976\n",
       "0 days 00:30:08         255.177272  340.565857          4.113976\n",
       "\n",
       "[8921 rows x 3 columns]"
      ]
     },
     "execution_count": 322,
     "metadata": {},
     "output_type": "execute_result"
    }
   ],
   "source": [
    "resampled"
   ]
  },
  {
   "cell_type": "code",
   "execution_count": 187,
   "metadata": {},
   "outputs": [
    {
     "data": {
      "image/png": "[encoded data removed]",
      "text/plain": [
       "<Figure size 432x288 with 2 Axes>"
      ]
     },
     "metadata": {
      "needs_background": "light"
     },
     "output_type": "display_data"
    }
   ],
   "source": [
    "velocity_resampled = downsampledMedian.resample('.2S').bfill()\n",
    "xRangeFrames=(0,10000)\n",
    "columnToPlot = 'smoothedVelocity'\n",
    "y = velocity_resampled[columnToPlot][xRangeFrames[0]:xRangeFrames[1]]\n",
    "#recording_start_time = datetime.datetime.fromtimestamp(abs(timestampfile[timestampfile['camNum'] == 1]['sysClock'][1]))\n",
    "#plot x axis time\n",
    "recording_start_time = datetime.datetime(1970, 1, 1, hour=0, minute=0, second=0, microsecond=0)\n",
    "x = [recording_start_time+velocity_resampled.index[i] for i in range(len(velocity_resampled.index))][xRangeFrames[0]:xRangeFrames[1]]\n",
    "\n",
    "fig = plt.figure()\n",
    "ax1 = fig.add_subplot(111)\n",
    "ax2 = ax1.twiny()\n",
    "fig.subplots_adjust(bottom=0.2)\n",
    "\n",
    "myFmt = DateFormatter(\"%M:%S:%ms\")\n",
    "ax1.xaxis.set_major_formatter(myFmt)\n",
    "ax1.plot(x, y)\n",
    "plt.gcf().autofmt_xdate()\n",
    "\n",
    "# Move twinned axis ticks and label from top to bottom\n",
    "ax2.xaxis.set_ticks_position(\"bottom\")\n",
    "ax2.xaxis.set_label_position(\"bottom\")\n",
    "# Offset the twin axis below the host\n",
    "ax2.spines[\"bottom\"].set_position((\"axes\", -0.25))\n",
    "\n",
    "plt.show()"
   ]
  },
  {
   "cell_type": "code",
   "execution_count": 188,
   "metadata": {},
   "outputs": [],
   "source": [
    "#velocity_resampled[(velocity_resampled['smoothedVelocity']>0) & (velocity_resampled['smoothedVelocity']<0.5)]\n"
   ]
  },
  {
   "cell_type": "code",
   "execution_count": 727,
   "metadata": {},
   "outputs": [],
   "source": [
    "# define velocity bins and save output to csv files for clustering analysis\n",
    "velocityBins = [(0, 0.5), (0.5, 1), (1, 2), (2, 5), (5, 10), (10, math.inf)]"
   ]
  },
  {
   "cell_type": "code",
   "execution_count": 728,
   "metadata": {},
   "outputs": [],
   "source": [
    "#get indicies corresponding to velocity bins \n",
    "indiciesVbin0 = pd.DataFrame([velocity_resampled.index.get_loc(velocity_resampled[(velocity_resampled['smoothedVelocity']>0) & (velocity_resampled['smoothedVelocity']<0.5)].index[i]) \n",
    " for i in range(len(velocity_resampled[(velocity_resampled['smoothedVelocity']>0) & (velocity_resampled['smoothedVelocity']<0.5)].index))], columns=['Indicies'])\n",
    "indiciesVbin1 = pd.DataFrame([velocity_resampled.index.get_loc(velocity_resampled[(velocity_resampled['smoothedVelocity']>0.5) & (velocity_resampled['smoothedVelocity']<1)].index[i]) \n",
    " for i in range(len(velocity_resampled[(velocity_resampled['smoothedVelocity']>0.5) & (velocity_resampled['smoothedVelocity']<1)].index))], columns=['Indicies'])\n",
    "indiciesVbin2 = pd.DataFrame([velocity_resampled.index.get_loc(velocity_resampled[(velocity_resampled['smoothedVelocity']>1) & (velocity_resampled['smoothedVelocity']<2)].index[i]) \n",
    " for i in range(len(velocity_resampled[(velocity_resampled['smoothedVelocity']>1) & (velocity_resampled['smoothedVelocity']<2)].index))], columns=['Indicies'])\n",
    "indiciesVbin3 = pd.DataFrame([velocity_resampled.index.get_loc(velocity_resampled[(velocity_resampled['smoothedVelocity']>2) & (velocity_resampled['smoothedVelocity']<5)].index[i]) \n",
    " for i in range(len(velocity_resampled[(velocity_resampled['smoothedVelocity']>2) & (velocity_resampled['smoothedVelocity']<5)].index))], columns=['Indicies'])\n",
    "indiciesVbin4 = pd.DataFrame([velocity_resampled.index.get_loc(velocity_resampled[(velocity_resampled['smoothedVelocity']>5) & (velocity_resampled['smoothedVelocity']<10)].index[i]) \n",
    " for i in range(len(velocity_resampled[(velocity_resampled['smoothedVelocity']>5) & (velocity_resampled['smoothedVelocity']<10)].index))], columns=['Indicies'])\n",
    "indiciesVbin5 = pd.DataFrame([velocity_resampled.index.get_loc(velocity_resampled[(velocity_resampled['smoothedVelocity']>10) & (velocity_resampled['smoothedVelocity']<math.inf)].index[i]) \n",
    " for i in range(len(velocity_resampled[(velocity_resampled['smoothedVelocity']>10) & (velocity_resampled['smoothedVelocity']<math.inf)].index))], columns=['Indicies'])"
   ]
  },
  {
   "cell_type": "code",
   "execution_count": 729,
   "metadata": {},
   "outputs": [
    {
     "name": "stdout",
     "output_type": "stream",
     "text": [
      "GRIN041_H16_M35_S12\n"
     ]
    }
   ],
   "source": [
    "#save to csv files \n",
    "basePath=r'F:\\\\JJM\\\\behavCam_videos_for_analysis\\\\dSPNOpenFieldRecordings'\n",
    "indiciesVbin0.to_csv(basePath+'\\\\'+os.path.split(sessionPath)[0].split('\\\\')[-1]+'_movingFrameIndicies5Hz_vbin0.csv')\n",
    "indiciesVbin1.to_csv(basePath+'\\\\'+os.path.split(sessionPath)[0].split('\\\\')[-1]+'_movingFrameIndicies5Hz_vbin1.csv')\n",
    "indiciesVbin2.to_csv(basePath+'\\\\'+os.path.split(sessionPath)[0].split('\\\\')[-1]+'_movingFrameIndicies5Hz_vbin2.csv')\n",
    "indiciesVbin3.to_csv(basePath+'\\\\'+os.path.split(sessionPath)[0].split('\\\\')[-1]+'_movingFrameIndicies5Hz_vbin3.csv')\n",
    "indiciesVbin4.to_csv(basePath+'\\\\'+os.path.split(sessionPath)[0].split('\\\\')[-1]+'_movingFrameIndicies5Hz_vbin4.csv')\n",
    "indiciesVbin5.to_csv(basePath+'\\\\'+os.path.split(sessionPath)[0].split('\\\\')[-1]+'_movingFrameIndicies5Hz_vbin5.csv')\n",
    "print(os.path.split(sessionPath)[0].split('\\\\')[-1])"
   ]
  },
  {
   "cell_type": "code",
   "execution_count": 730,
   "metadata": {},
   "outputs": [
    {
     "data": {
      "text/html": [
       "<div>\n",
       "<style scoped>\n",
       "    .dataframe tbody tr th:only-of-type {\n",
       "        vertical-align: middle;\n",
       "    }\n",
       "\n",
       "    .dataframe tbody tr th {\n",
       "        vertical-align: top;\n",
       "    }\n",
       "\n",
       "    .dataframe thead th {\n",
       "        text-align: right;\n",
       "    }\n",
       "</style>\n",
       "<table border=\"1\" class=\"dataframe\">\n",
       "  <thead>\n",
       "    <tr style=\"text-align: right;\">\n",
       "      <th></th>\n",
       "      <th>Indicies</th>\n",
       "    </tr>\n",
       "  </thead>\n",
       "  <tbody>\n",
       "    <tr>\n",
       "      <th>0</th>\n",
       "      <td>631</td>\n",
       "    </tr>\n",
       "    <tr>\n",
       "      <th>1</th>\n",
       "      <td>632</td>\n",
       "    </tr>\n",
       "    <tr>\n",
       "      <th>2</th>\n",
       "      <td>633</td>\n",
       "    </tr>\n",
       "    <tr>\n",
       "      <th>3</th>\n",
       "      <td>634</td>\n",
       "    </tr>\n",
       "    <tr>\n",
       "      <th>4</th>\n",
       "      <td>635</td>\n",
       "    </tr>\n",
       "    <tr>\n",
       "      <th>5</th>\n",
       "      <td>636</td>\n",
       "    </tr>\n",
       "    <tr>\n",
       "      <th>6</th>\n",
       "      <td>637</td>\n",
       "    </tr>\n",
       "    <tr>\n",
       "      <th>7</th>\n",
       "      <td>638</td>\n",
       "    </tr>\n",
       "    <tr>\n",
       "      <th>8</th>\n",
       "      <td>639</td>\n",
       "    </tr>\n",
       "    <tr>\n",
       "      <th>9</th>\n",
       "      <td>640</td>\n",
       "    </tr>\n",
       "    <tr>\n",
       "      <th>10</th>\n",
       "      <td>731</td>\n",
       "    </tr>\n",
       "    <tr>\n",
       "      <th>11</th>\n",
       "      <td>732</td>\n",
       "    </tr>\n",
       "    <tr>\n",
       "      <th>12</th>\n",
       "      <td>733</td>\n",
       "    </tr>\n",
       "    <tr>\n",
       "      <th>13</th>\n",
       "      <td>734</td>\n",
       "    </tr>\n",
       "    <tr>\n",
       "      <th>14</th>\n",
       "      <td>735</td>\n",
       "    </tr>\n",
       "    <tr>\n",
       "      <th>15</th>\n",
       "      <td>736</td>\n",
       "    </tr>\n",
       "    <tr>\n",
       "      <th>16</th>\n",
       "      <td>737</td>\n",
       "    </tr>\n",
       "    <tr>\n",
       "      <th>17</th>\n",
       "      <td>738</td>\n",
       "    </tr>\n",
       "    <tr>\n",
       "      <th>18</th>\n",
       "      <td>739</td>\n",
       "    </tr>\n",
       "    <tr>\n",
       "      <th>19</th>\n",
       "      <td>740</td>\n",
       "    </tr>\n",
       "    <tr>\n",
       "      <th>20</th>\n",
       "      <td>1321</td>\n",
       "    </tr>\n",
       "    <tr>\n",
       "      <th>21</th>\n",
       "      <td>1322</td>\n",
       "    </tr>\n",
       "    <tr>\n",
       "      <th>22</th>\n",
       "      <td>1323</td>\n",
       "    </tr>\n",
       "    <tr>\n",
       "      <th>23</th>\n",
       "      <td>1324</td>\n",
       "    </tr>\n",
       "    <tr>\n",
       "      <th>24</th>\n",
       "      <td>1325</td>\n",
       "    </tr>\n",
       "    <tr>\n",
       "      <th>25</th>\n",
       "      <td>1326</td>\n",
       "    </tr>\n",
       "    <tr>\n",
       "      <th>26</th>\n",
       "      <td>1327</td>\n",
       "    </tr>\n",
       "    <tr>\n",
       "      <th>27</th>\n",
       "      <td>1328</td>\n",
       "    </tr>\n",
       "    <tr>\n",
       "      <th>28</th>\n",
       "      <td>1329</td>\n",
       "    </tr>\n",
       "    <tr>\n",
       "      <th>29</th>\n",
       "      <td>1330</td>\n",
       "    </tr>\n",
       "    <tr>\n",
       "      <th>30</th>\n",
       "      <td>4861</td>\n",
       "    </tr>\n",
       "    <tr>\n",
       "      <th>31</th>\n",
       "      <td>4862</td>\n",
       "    </tr>\n",
       "    <tr>\n",
       "      <th>32</th>\n",
       "      <td>4863</td>\n",
       "    </tr>\n",
       "    <tr>\n",
       "      <th>33</th>\n",
       "      <td>4864</td>\n",
       "    </tr>\n",
       "    <tr>\n",
       "      <th>34</th>\n",
       "      <td>4865</td>\n",
       "    </tr>\n",
       "    <tr>\n",
       "      <th>35</th>\n",
       "      <td>4866</td>\n",
       "    </tr>\n",
       "    <tr>\n",
       "      <th>36</th>\n",
       "      <td>4867</td>\n",
       "    </tr>\n",
       "    <tr>\n",
       "      <th>37</th>\n",
       "      <td>4868</td>\n",
       "    </tr>\n",
       "    <tr>\n",
       "      <th>38</th>\n",
       "      <td>4869</td>\n",
       "    </tr>\n",
       "    <tr>\n",
       "      <th>39</th>\n",
       "      <td>4870</td>\n",
       "    </tr>\n",
       "  </tbody>\n",
       "</table>\n",
       "</div>"
      ],
      "text/plain": [
       "    Indicies\n",
       "0        631\n",
       "1        632\n",
       "2        633\n",
       "3        634\n",
       "4        635\n",
       "5        636\n",
       "6        637\n",
       "7        638\n",
       "8        639\n",
       "9        640\n",
       "10       731\n",
       "11       732\n",
       "12       733\n",
       "13       734\n",
       "14       735\n",
       "15       736\n",
       "16       737\n",
       "17       738\n",
       "18       739\n",
       "19       740\n",
       "20      1321\n",
       "21      1322\n",
       "22      1323\n",
       "23      1324\n",
       "24      1325\n",
       "25      1326\n",
       "26      1327\n",
       "27      1328\n",
       "28      1329\n",
       "29      1330\n",
       "30      4861\n",
       "31      4862\n",
       "32      4863\n",
       "33      4864\n",
       "34      4865\n",
       "35      4866\n",
       "36      4867\n",
       "37      4868\n",
       "38      4869\n",
       "39      4870"
      ]
     },
     "execution_count": 730,
     "metadata": {},
     "output_type": "execute_result"
    }
   ],
   "source": [
    "indiciesVbin5"
   ]
  },
  {
   "cell_type": "code",
   "execution_count": null,
   "metadata": {},
   "outputs": [],
   "source": [
    "#move to quest\n",
    "#res_files=8f796c9e-f5c8-11e5-9842-22000b9da45e\n",
    "#quest=d5990400-6d04-11e5-ba46-22000b92c6ec\n",
    "#res_files_base_dir = '8f796c9e-f5c8-11e5-9842-22000b9da45e:/rdss/jma819/fsmresfiles/Projects/JJM/MiniscopeMovies/scope_data/'\n",
    "#quest_dir = 'd5990400-6d04-11e5-ba46-22000b92c6ec:/projects/b1118/behaviorvideos/timestampfiles/'"
   ]
  },
  {
   "cell_type": "code",
   "execution_count": null,
   "metadata": {},
   "outputs": [],
   "source": [
    "#for session in list(time_stamp_file_locations.keys()):\n",
    "#    transfer_info = res_files_base_dir+time_stamp_file_locations[session]+' '+quest_dir+session+'_timestamp.dat'\n",
    "#    !eval \"globus transfer\" $transfer_info"
   ]
  },
  {
   "cell_type": "code",
   "execution_count": null,
   "metadata": {},
   "outputs": [],
   "source": [
    "##frame by frame alignment to miniscope camera\n",
    "\n",
    "sessions = [f_path.split('/')[-1].rstrip('_raw_trace.csv') for f_path in mm_raw_traces]\n",
    "\n",
    "sessions = ['GRIN039_H14_M8_S53', 'GRIN026_H16_M35_S34', 'GRIN032_H16_M49_S22']\n",
    "\n",
    "for session in sessions:\n",
    "    print(session)\n",
    "    timestampfile = '/projects/b1118/behaviorvideos/timestampfiles/'+session+'_timestamp.dat'\n",
    "    frame_clock_df = pd.read_table(timestampfile)\n",
    "    output_directory = '/projects/b1118/miniscope/analysis/compiled_data/mm_tracking_output/'\n",
    "\n",
    "    Cam0_timestamps = frame_clock_df[frame_clock_df['camNum'] == 0]  \n",
    "    Cam1_timestamps = frame_clock_df[frame_clock_df['camNum'] == 1]\n",
    "    #beavCam is usually faster framerate \n",
    "    if Cam1_timestamps['sysClock'].iloc[1:].diff().mean()<Cam0_timestamps['sysClock'].iloc[1:].diff().mean():\n",
    "        msCam_camnum=0\n",
    "        behavCam_camnum=1\n",
    "    elif Cam0_timestamps['sysClock'].iloc[1:].diff().mean()<Cam1_timestamps['sysClock'].iloc[1:].diff().mean():\n",
    "        msCam_camnum=1\n",
    "        behavCam_camnum=0\n",
    "\n",
    "    raw_trace = pd.read_csv(data_folder+session+'_raw_trace.csv', names=['velocity'])\n",
    "    raw_trace_filtered = pd.read_csv(data_folder+session+'_raw_trace_median_filter.csv', names=['velocity(20_Hz_filtered)'])\n",
    "    speed_trace = pd.read_csv(data_folder+session+'_speedtrace.csv', names=['speed_trace(velocity_5Hz_filtered)'])\n",
    "    raw_traces = pd.concat([raw_trace, raw_trace_filtered], axis=1)\n",
    "\n",
    "    # align the raw traces for comparison\n",
    "\n",
    "    mm_tracking_aligned = dlc.downsample_mmtracking(raw_traces, timestampfile, msCam_camnum, behavCam_camnum)\n",
    "\n",
    "    # convert to timedelta for downsampling \n",
    "    aligned_td = mm_tracking_aligned.set_index(pd.to_timedelta(np.linspace(0, mm_tracking_aligned['sys_clock_behavCam'].values[-1]/1000, len(mm_tracking_aligned)), unit='s'), drop=False)\n",
    "    aligned_td.to_csv(output_directory+session+'_mm_tracking_foranalysis_unsmoothed'+'.csv')"
   ]
  },
  {
   "cell_type": "code",
   "execution_count": null,
   "metadata": {},
   "outputs": [],
   "source": []
  }
 ],
 "metadata": {
  "kernelspec": {
   "display_name": "2pCNMFEAnalysisEnv",
   "language": "python",
   "name": "2pcnmfeanalysisenv"
  },
  "language_info": {
   "codemirror_mode": {
    "name": "ipython",
    "version": 3
   },
   "file_extension": ".py",
   "mimetype": "text/x-python",
   "name": "python",
   "nbconvert_exporter": "python",
   "pygments_lexer": "ipython3",
   "version": "3.10.4"
  }
 },
 "nbformat": 4,
 "nbformat_minor": 2
}
