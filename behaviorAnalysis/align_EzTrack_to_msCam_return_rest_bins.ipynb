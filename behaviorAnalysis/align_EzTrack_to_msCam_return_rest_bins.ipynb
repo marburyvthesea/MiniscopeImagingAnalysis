{
 "cells": [
  {
   "cell_type": "code",
   "execution_count": 1,
   "metadata": {
    "scrolled": false
   },
   "outputs": [
    {
     "name": "stderr",
     "output_type": "stream",
     "text": [
      "C:\\Users\\scanimage\\AppData\\Local\\Temp\\ipykernel_13880\\912229180.py:1: DeprecationWarning: Importing display from IPython.core.display is deprecated since IPython 7.14, please import from IPython display\n",
      "  from IPython.core.display import display, HTML\n"
     ]
    },
    {
     "data": {
      "text/html": [
       "<style>.container { width:90% !important; }</style>"
      ],
      "text/plain": [
       "<IPython.core.display.HTML object>"
      ]
     },
     "metadata": {},
     "output_type": "display_data"
    }
   ],
   "source": [
    "from IPython.core.display import display, HTML\n",
    "display(HTML(\"<style>.container { width:90% !important; }</style>\"))"
   ]
  },
  {
   "cell_type": "code",
   "execution_count": 2,
   "metadata": {
    "scrolled": true
   },
   "outputs": [],
   "source": [
    "import sys\n",
    "import glob\n",
    "import numpy as np\n",
    "import pandas as pd \n",
    "import matplotlib\n",
    "import matplotlib.pyplot as plt\n",
    "sys.path.append(r\"C:\\Users\\scanimage\\Documents\\JJM\\post_cnmfe_analysis\")\n",
    "import dlc_utils as dlc\n",
    "import os\n",
    "import datetime\n",
    "import math\n",
    "from matplotlib.dates import DateFormatter, date2num"
   ]
  },
  {
   "cell_type": "code",
   "execution_count": 3,
   "metadata": {},
   "outputs": [],
   "source": [
    "data_folder = r\"F:\\JJM\\behavCam_videos_for_analysis\\dSPNOpenFieldRecordings\""
   ]
  },
  {
   "cell_type": "code",
   "execution_count": 7,
   "metadata": {},
   "outputs": [],
   "source": [
    "exTrack_location_files = glob.glob(data_folder+ r\"\\\\*GRIN*\\\\\" + '*LocationOutput.csv')"
   ]
  },
  {
   "cell_type": "code",
   "execution_count": 8,
   "metadata": {},
   "outputs": [
    {
     "data": {
      "text/plain": [
       "26"
      ]
     },
     "execution_count": 8,
     "metadata": {},
     "output_type": "execute_result"
    }
   ],
   "source": [
    "len(exTrack_location_files)"
   ]
  },
  {
   "cell_type": "code",
   "execution_count": 9,
   "metadata": {},
   "outputs": [
    {
     "data": {
      "text/plain": [
       "['F:\\\\JJM\\\\behavCam_videos_for_analysis\\\\dSPNOpenFieldRecordings\\\\GRIN009_H13_M59_S14\\\\concactenated_behavCam01_behavCam38_LocationOutput.csv',\n",
       " 'F:\\\\JJM\\\\behavCam_videos_for_analysis\\\\dSPNOpenFieldRecordings\\\\GRIN011_H10_M19_S59\\\\concactenated_behavCam01_behavCam38_30fps_LocationOutput.csv',\n",
       " 'F:\\\\JJM\\\\behavCam_videos_for_analysis\\\\dSPNOpenFieldRecordings\\\\GRIN012_H16_M57_S23\\\\behavCamGRIN012_H16_M57_S23_gray_LocationOutput.csv',\n",
       " 'F:\\\\JJM\\\\behavCam_videos_for_analysis\\\\dSPNOpenFieldRecordings\\\\GRIN012_H17_M32_S17\\\\GRIN012_H17_M32_S17_gray_LocationOutput.csv',\n",
       " 'F:\\\\JJM\\\\behavCam_videos_for_analysis\\\\dSPNOpenFieldRecordings\\\\GRIN012_H17_M46_S35\\\\concactenated_behavCam01_behavCam27_30fps_LocationOutput.csv',\n",
       " 'F:\\\\JJM\\\\behavCam_videos_for_analysis\\\\dSPNOpenFieldRecordings\\\\GRIN012_H17_M46_S35\\\\concactenated_behavCam01_behavCam27_LocationOutput.csv',\n",
       " 'F:\\\\JJM\\\\behavCam_videos_for_analysis\\\\dSPNOpenFieldRecordings\\\\GRIN013_H13_M33_S54\\\\GRIN013_H13_M33_S54_gray_LocationOutput.csv',\n",
       " 'F:\\\\JJM\\\\behavCam_videos_for_analysis\\\\dSPNOpenFieldRecordings\\\\GRIN018_H16_M13_S53\\\\concactenated_behavCam01_behavCam41_LocationOutput.csv',\n",
       " 'F:\\\\JJM\\\\behavCam_videos_for_analysis\\\\dSPNOpenFieldRecordings\\\\GRIN018_H17_M41_S43\\\\GRIN018_H17_M41_S43_gray_LocationOutput.csv',\n",
       " 'F:\\\\JJM\\\\behavCam_videos_for_analysis\\\\dSPNOpenFieldRecordings\\\\GRIN026_H16_M35_S34\\\\GRIN026_H16_M35_S34_gray_LocationOutput.csv',\n",
       " 'F:\\\\JJM\\\\behavCam_videos_for_analysis\\\\dSPNOpenFieldRecordings\\\\GRIN027_H13_M29_S44\\\\GRIN027_H13_M29_S44_gray_LocationOutput.csv',\n",
       " 'F:\\\\JJM\\\\behavCam_videos_for_analysis\\\\dSPNOpenFieldRecordings\\\\GRIN032_H16_M49_S22\\\\GRIN032_H16_M49_S22_gray_LocationOutput.csv',\n",
       " 'F:\\\\JJM\\\\behavCam_videos_for_analysis\\\\dSPNOpenFieldRecordings\\\\GRIN032_H17_M30_S22\\\\GRIN032_H17_M30_S22_gray_LocationOutput.csv',\n",
       " 'F:\\\\JJM\\\\behavCam_videos_for_analysis\\\\dSPNOpenFieldRecordings\\\\GRIN033_H13_M42_S33\\\\GRIN033_H13_M42_S33_gray_LocationOutput.csv',\n",
       " 'F:\\\\JJM\\\\behavCam_videos_for_analysis\\\\dSPNOpenFieldRecordings\\\\GRIN033_H14_M34_S32\\\\GRIN033_H14_M34_S32_gray_LocationOutput.csv',\n",
       " 'F:\\\\JJM\\\\behavCam_videos_for_analysis\\\\dSPNOpenFieldRecordings\\\\GRIN035_H13_M31_S20\\\\concactenated_behavCam01_behavCam38_LocationOutput.csv',\n",
       " 'F:\\\\JJM\\\\behavCam_videos_for_analysis\\\\dSPNOpenFieldRecordings\\\\GRIN035_H13_M50_S58\\\\concactenated_behavCam01_behavCam38_LocationOutput.csv',\n",
       " 'F:\\\\JJM\\\\behavCam_videos_for_analysis\\\\dSPNOpenFieldRecordings\\\\GRIN035_H14_M40_S34\\\\concactenated_behavCam01_behavCam37_LocationOutput.csv',\n",
       " 'F:\\\\JJM\\\\behavCam_videos_for_analysis\\\\dSPNOpenFieldRecordings\\\\GRIN038_H11_M57_S0\\\\concactenated_behavCam01_behavCam57_LocationOutput.csv',\n",
       " 'F:\\\\JJM\\\\behavCam_videos_for_analysis\\\\dSPNOpenFieldRecordings\\\\GRIN038_H13_M37_S23\\\\concactenated_behavCam01_behavCam59_LocationOutput.csv',\n",
       " 'F:\\\\JJM\\\\behavCam_videos_for_analysis\\\\dSPNOpenFieldRecordings\\\\GRIN038_H15_M39_S40\\\\concactenated_behavCam01_behavCam59_LocationOutput.csv',\n",
       " 'F:\\\\JJM\\\\behavCam_videos_for_analysis\\\\dSPNOpenFieldRecordings\\\\GRIN039_H12_M26_S54\\\\concactenated_behavCam01_behavCam65_LocationOutput.csv',\n",
       " 'F:\\\\JJM\\\\behavCam_videos_for_analysis\\\\dSPNOpenFieldRecordings\\\\GRIN039_H12_M33_S29\\\\concactenated_behavCam01_behavCam65_LocationOutput.csv',\n",
       " 'F:\\\\JJM\\\\behavCam_videos_for_analysis\\\\dSPNOpenFieldRecordings\\\\GRIN039_H14_M8_S53\\\\concactenated_behavCam01_behavCam63_LocationOutput.csv',\n",
       " 'F:\\\\JJM\\\\behavCam_videos_for_analysis\\\\dSPNOpenFieldRecordings\\\\GRIN041_H12_M54_S49\\\\concactenated_behavCam01_behavCam61_LocationOutput.csv',\n",
       " 'F:\\\\JJM\\\\behavCam_videos_for_analysis\\\\dSPNOpenFieldRecordings\\\\GRIN041_H16_M35_S12\\\\concactenated_behavCam01_behavCam43_LocationOutput.csv']"
      ]
     },
     "execution_count": 9,
     "metadata": {},
     "output_type": "execute_result"
    }
   ],
   "source": [
    "exTrack_location_files"
   ]
  },
  {
   "cell_type": "code",
   "execution_count": 56,
   "metadata": {},
   "outputs": [
    {
     "name": "stdout",
     "output_type": "stream",
     "text": [
      "F:\\JJM\\behavCam_videos_for_analysis\\dSPNOpenFieldRecordings\\GRIN041_H16_M35_S12\\concactenated_behavCam01_behavCam43_LocationOutput.csv\n",
      "0.11473923410161976\n"
     ]
    },
    {
     "name": "stderr",
     "output_type": "stream",
     "text": [
      "C:\\Users\\scanimage\\AppData\\Local\\Temp\\ipykernel_13880\\3321749993.py:18: SettingWithCopyWarning: \n",
      "A value is trying to be set on a copy of a slice from a DataFrame\n",
      "\n",
      "See the caveats in the documentation: https://pandas.pydata.org/pandas-docs/stable/user_guide/indexing.html#returning-a-view-versus-a-copy\n",
      "  behavCamTimes[1] = 0\n"
     ]
    }
   ],
   "source": [
    "sessionPath = exTrack_location_files[25]\n",
    "print(sessionPath)\n",
    "\n",
    "'\\\\'.join(sessionPath.split(os.sep)[:-1])+'\\\\timestamp.dat'\n",
    "\n",
    "# load eZ track output and behavior camera timestamps from miniscope software \n",
    "ezTrackOutput = pd.read_csv(sessionPath)\n",
    "timestampfile = pd.read_table('\\\\'.join(sessionPath.split(os.sep)[:-1])+'\\\\timestamp.dat')\n",
    "\n",
    "#ezTrackOutput\n",
    "\n",
    "# separate behavCam time stamps\n",
    "behavCamTimeStamps = timestampfile[timestampfile['camNum'] == 1]\n",
    "behavCamTimeStamps['frameNum'][0:len(ezTrackOutput)]\n",
    "# get times of frames\n",
    "behavCamTimes = behavCamTimeStamps['sysClock']\n",
    "# set 1st frame to 0 \n",
    "behavCamTimes[1] = 0 \n",
    "# reset index to 0 \n",
    "behavCamTimes = behavCamTimes.reset_index()\n",
    "\n",
    "# delta T between frames for analyzed videos \n",
    "behavCamFrameTimeDelta = behavCamTimes['sysClock'].diff()[0:len(ezTrackOutput)]\n",
    "\n",
    "# get velocity from frame times \n",
    "velocity = abs(ezTrackOutput['Distance_cm'].diff())/(behavCamFrameTimeDelta/1000)\n",
    "\n",
    "# data frame of mouse velocity \n",
    "veloctiyDataFrame = pd.concat([ezTrackOutput[['Frame', 'X', 'Y', 'Distance_px', 'Distance_cm']], \n",
    "                               behavCamTimes[0:len(ezTrackOutput)]['sysClock'],\n",
    "                               pd.DataFrame(velocity, columns=['Velocity'])], axis=1)\n",
    "\n",
    "#plt.plot(veloctiyDataFrame['sysClock'].diff()[10:500])\n",
    "\n",
    "#frame rate for behavCam \n",
    "#veloctiyDataFrame['sysClock'].diff().mean()\n",
    "\n",
    "# create time delta for behavior index\n",
    "# behavCam for v3 should record at 30 fps, can verify in timestamp file, check this is set correctly in concactenated videos\n",
    "veloctiyDataFrame = veloctiyDataFrame.set_index(pd.to_timedelta(np.linspace(0, (len(veloctiyDataFrame)-1)*(1/30), len(veloctiyDataFrame)), unit='s'))\n",
    "veloctiyDataFrame\n",
    "\n",
    "#len(veloctiyDataFrame)\n",
    "\n",
    "## smooth velocity by downsampling to 5Hz to calculate distance travelled \n",
    "downsampledDataFrame = veloctiyDataFrame.resample('.2S').mean()[['X', 'Y']]\n",
    "# calculate new euclidean distance based on mean values here \n",
    "downsampledDataFrame\n",
    "\n",
    "cmPerPixel = veloctiyDataFrame['Distance_cm'][1]/veloctiyDataFrame['Distance_px'][1]\n",
    "#cmPerPixel = 10\n",
    "print(cmPerPixel)\n",
    "\n",
    "def euclideanDistance(row):\n",
    "    return(math.sqrt(row['X']**2+row['Y']**2))\n",
    "\n",
    "def smoothedVelocity(row, cmPerPixel):\n",
    "    #euclidean distance divided by sampling rate, multiplied by cm/pixel\n",
    "    return((math.sqrt(row['X']**2+row['Y']**2)/.2)*cmPerPixel)\n",
    "    \n",
    "downsampledDataFrame['smoothedVelocity'] = downsampledDataFrame.diff().apply(lambda row : smoothedVelocity(row, cmPerPixel), axis=1)\n",
    "\n",
    "downsampledDataFrame\n",
    "\n",
    "#downsample once more to 1S as a \"median filter\"\n",
    "downsampledMedian = downsampledDataFrame.resample('2S').median()\n",
    "\n",
    "#resample to 5Hz for alignment with imaging data\n",
    "velocity_resampled = downsampledMedian.resample('.2S').bfill()\n",
    "\n",
    "## save speed bins\n",
    "#velocity_resampled[(velocity_resampled['smoothedVelocity']>0) & (velocity_resampled['smoothedVelocity']<0.5)]\n",
    "\n",
    "# for \"rest\" analysis maybe further split < 0.5 cm/sec bins e.g. (0, 0.25) (0, 0.5)\n",
    "\n",
    "# define velocity bins and save output to csv files for clustering analysis\n",
    "velocityBins = [(0, 0.125), (0.125, 0.25), (0.25, 0.5), (0.5, math.inf)]\n",
    "\n",
    "#get indicies corresponding to velocity bins \n",
    "indiciesRestbin0 = pd.DataFrame([velocity_resampled.index.get_loc(velocity_resampled[(velocity_resampled['smoothedVelocity']>0) & (velocity_resampled['smoothedVelocity']<0.5)].index[i]) \n",
    " for i in range(len(velocity_resampled[(velocity_resampled['smoothedVelocity']>0) & (velocity_resampled['smoothedVelocity']<0.5)].index))], columns=['Indicies'])\n",
    "indiciesRestbin1 = pd.DataFrame([velocity_resampled.index.get_loc(velocity_resampled[(velocity_resampled['smoothedVelocity']>0.5) & (velocity_resampled['smoothedVelocity']<1)].index[i]) \n",
    " for i in range(len(velocity_resampled[(velocity_resampled['smoothedVelocity']>0.5) & (velocity_resampled['smoothedVelocity']<1)].index))], columns=['Indicies'])\n",
    "indiciesRestbin2 = pd.DataFrame([velocity_resampled.index.get_loc(velocity_resampled[(velocity_resampled['smoothedVelocity']>1) & (velocity_resampled['smoothedVelocity']<2)].index[i]) \n",
    " for i in range(len(velocity_resampled[(velocity_resampled['smoothedVelocity']>1) & (velocity_resampled['smoothedVelocity']<2)].index))], columns=['Indicies'])\n",
    "indiciesRestbin3 = pd.DataFrame([velocity_resampled.index.get_loc(velocity_resampled[(velocity_resampled['smoothedVelocity']>2) & (velocity_resampled['smoothedVelocity']<5)].index[i]) \n",
    " for i in range(len(velocity_resampled[(velocity_resampled['smoothedVelocity']>2) & (velocity_resampled['smoothedVelocity']<5)].index))], columns=['Indicies'])\n",
    "#indiciesVbin4 = pd.DataFrame([velocity_resampled.index.get_loc(velocity_resampled[(velocity_resampled['smoothedVelocity']>5) & (velocity_resampled['smoothedVelocity']<10)].index[i]) \n",
    "# for i in range(len(velocity_resampled[(velocity_resampled['smoothedVelocity']>5) & (velocity_resampled['smoothedVelocity']<10)].index))], columns=['Indicies'])\n",
    "#indiciesVbin5 = pd.DataFrame([velocity_resampled.index.get_loc(velocity_resampled[(velocity_resampled['smoothedVelocity']>10) & (velocity_resampled['smoothedVelocity']<math.inf)].index[i]) \n",
    "# for i in range(len(velocity_resampled[(velocity_resampled['smoothedVelocity']>10) & (velocity_resampled['smoothedVelocity']<math.inf)].index))], columns=['Indicies'])\n",
    "\n",
    "#save to csv files \n",
    "basePath=r'F:\\\\JJM\\\\behavCam_videos_for_analysis\\\\dSPNOpenFieldRecordings'\n",
    "indiciesRestbin0.to_csv(basePath+'\\\\'+os.path.split(sessionPath)[0].split('\\\\')[-1]+'_movingFrameIndicies5Hz_Restbin0.csv')\n",
    "indiciesRestbin1.to_csv(basePath+'\\\\'+os.path.split(sessionPath)[0].split('\\\\')[-1]+'_movingFrameIndicies5Hz_Restbin1.csv')\n",
    "indiciesRestbin2.to_csv(basePath+'\\\\'+os.path.split(sessionPath)[0].split('\\\\')[-1]+'_movingFrameIndicies5Hz_Restbin2.csv')\n",
    "indiciesRestbin3.to_csv(basePath+'\\\\'+os.path.split(sessionPath)[0].split('\\\\')[-1]+'_movingFrameIndicies5Hz_Restbin3.csv')"
   ]
  },
  {
   "cell_type": "code",
   "execution_count": 20,
   "metadata": {},
   "outputs": [
    {
     "data": {
      "image/png": "[encoded data removed]",
      "text/plain": [
       "<Figure size 432x288 with 2 Axes>"
      ]
     },
     "metadata": {
      "needs_background": "light"
     },
     "output_type": "display_data"
    }
   ],
   "source": [
    "## velocity dataframe plot unsmoothed\n",
    "xRangeFrames=(0,58000)\n",
    "y = veloctiyDataFrame['Velocity'][xRangeFrames[0]:xRangeFrames[1]]\n",
    "#recording_start_time = datetime.datetime.fromtimestamp(abs(timestampfile[timestampfile['camNum'] == 1]['sysClock'][1]))\n",
    "#plot x axis time\n",
    "recording_start_time = datetime.datetime(1970, 1, 1, hour=0, minute=0, second=0, microsecond=0)\n",
    "x = [recording_start_time+veloctiyDataFrame.index[i] for i in range(len(veloctiyDataFrame.index))][xRangeFrames[0]:xRangeFrames[1]]\n",
    "\n",
    "fig = plt.figure()\n",
    "ax1 = fig.add_subplot(111)\n",
    "ax2 = ax1.twiny()\n",
    "fig.subplots_adjust(bottom=0.2)\n",
    "\n",
    "myFmt = DateFormatter(\"%M:%S:%ms\")\n",
    "ax1.xaxis.set_major_formatter(myFmt)\n",
    "ax1.plot(x, y)\n",
    "plt.gcf().autofmt_xdate()\n",
    "\n",
    "# Move twinned axis ticks and label from top to bottom\n",
    "ax2.set_xlim(0, len(veloctiyDataFrame))\n",
    "ax2.xaxis.set_ticks_position(\"bottom\")\n",
    "ax2.xaxis.set_label_position(\"bottom\")\n",
    "# Offset the twin axis below the host\n",
    "ax2.spines[\"bottom\"].set_position((\"axes\", -0.25))\n",
    "\n",
    "plt.show()"
   ]
  },
  {
   "cell_type": "code",
   "execution_count": 22,
   "metadata": {},
   "outputs": [
    {
     "data": {
      "text/plain": [
       "6331"
      ]
     },
     "execution_count": 22,
     "metadata": {},
     "output_type": "execute_result"
    }
   ],
   "source": [
    "len(velocity_resampled)"
   ]
  },
  {
   "cell_type": "code",
   "execution_count": 23,
   "metadata": {},
   "outputs": [
    {
     "data": {
      "image/png": "[encoded data removed]",
      "text/plain": [
       "<Figure size 432x288 with 2 Axes>"
      ]
     },
     "metadata": {
      "needs_background": "light"
     },
     "output_type": "display_data"
    }
   ],
   "source": [
    "## plot smoothed frames \n",
    "velocity_resampled = downsampledMedian.resample('.2S').bfill()\n",
    "xRangeFrames=(0,len(velocity_resampled))\n",
    "columnToPlot = 'smoothedVelocity'\n",
    "y = velocity_resampled[columnToPlot][xRangeFrames[0]:xRangeFrames[1]]\n",
    "#recording_start_time = datetime.datetime.fromtimestamp(abs(timestampfile[timestampfile['camNum'] == 1]['sysClock'][1]))\n",
    "#plot x axis time\n",
    "recording_start_time = datetime.datetime(1970, 1, 1, hour=0, minute=0, second=0, microsecond=0)\n",
    "x = [recording_start_time+velocity_resampled.index[i] for i in range(len(velocity_resampled.index))][xRangeFrames[0]:xRangeFrames[1]]\n",
    "\n",
    "fig = plt.figure()\n",
    "ax1 = fig.add_subplot(111)\n",
    "ax2 = ax1.twiny()\n",
    "fig.subplots_adjust(bottom=0.2)\n",
    "\n",
    "myFmt = DateFormatter(\"%M:%S:%ms\")\n",
    "ax1.xaxis.set_major_formatter(myFmt)\n",
    "ax1.plot(x, y)\n",
    "plt.gcf().autofmt_xdate()\n",
    "\n",
    "# Move twinned axis ticks and label from top to bottom\n",
    "ax2.set_xlim(0, len(velocity_resampled))\n",
    "ax2.xaxis.set_ticks_position(\"bottom\")\n",
    "ax2.xaxis.set_label_position(\"bottom\")\n",
    "# Offset the twin axis below the host\n",
    "ax2.spines[\"bottom\"].set_position((\"axes\", -0.25))\n",
    "\n",
    "plt.show()"
   ]
  },
  {
   "cell_type": "code",
   "execution_count": 29,
   "metadata": {
    "scrolled": true
   },
   "outputs": [
    {
     "data": {
      "text/html": [
       "<div>\n",
       "<style scoped>\n",
       "    .dataframe tbody tr th:only-of-type {\n",
       "        vertical-align: middle;\n",
       "    }\n",
       "\n",
       "    .dataframe tbody tr th {\n",
       "        vertical-align: top;\n",
       "    }\n",
       "\n",
       "    .dataframe thead th {\n",
       "        text-align: right;\n",
       "    }\n",
       "</style>\n",
       "<table border=\"1\" class=\"dataframe\">\n",
       "  <thead>\n",
       "    <tr style=\"text-align: right;\">\n",
       "      <th></th>\n",
       "      <th>Indicies</th>\n",
       "    </tr>\n",
       "  </thead>\n",
       "  <tbody>\n",
       "    <tr>\n",
       "      <th>0</th>\n",
       "      <td>2221</td>\n",
       "    </tr>\n",
       "    <tr>\n",
       "      <th>1</th>\n",
       "      <td>2222</td>\n",
       "    </tr>\n",
       "    <tr>\n",
       "      <th>2</th>\n",
       "      <td>2223</td>\n",
       "    </tr>\n",
       "    <tr>\n",
       "      <th>3</th>\n",
       "      <td>2224</td>\n",
       "    </tr>\n",
       "    <tr>\n",
       "      <th>4</th>\n",
       "      <td>2225</td>\n",
       "    </tr>\n",
       "    <tr>\n",
       "      <th>...</th>\n",
       "      <td>...</td>\n",
       "    </tr>\n",
       "    <tr>\n",
       "      <th>665</th>\n",
       "      <td>5296</td>\n",
       "    </tr>\n",
       "    <tr>\n",
       "      <th>666</th>\n",
       "      <td>5297</td>\n",
       "    </tr>\n",
       "    <tr>\n",
       "      <th>667</th>\n",
       "      <td>5298</td>\n",
       "    </tr>\n",
       "    <tr>\n",
       "      <th>668</th>\n",
       "      <td>5299</td>\n",
       "    </tr>\n",
       "    <tr>\n",
       "      <th>669</th>\n",
       "      <td>5300</td>\n",
       "    </tr>\n",
       "  </tbody>\n",
       "</table>\n",
       "<p>670 rows × 1 columns</p>\n",
       "</div>"
      ],
      "text/plain": [
       "     Indicies\n",
       "0        2221\n",
       "1        2222\n",
       "2        2223\n",
       "3        2224\n",
       "4        2225\n",
       "..        ...\n",
       "665      5296\n",
       "666      5297\n",
       "667      5298\n",
       "668      5299\n",
       "669      5300\n",
       "\n",
       "[670 rows x 1 columns]"
      ]
     },
     "execution_count": 29,
     "metadata": {},
     "output_type": "execute_result"
    }
   ],
   "source": [
    "indiciesRestbin3"
   ]
  },
  {
   "cell_type": "code",
   "execution_count": 87,
   "metadata": {},
   "outputs": [],
   "source": [
    "#move to quest\n",
    "#res_files=8f796c9e-f5c8-11e5-9842-22000b9da45e\n",
    "#quest=d5990400-6d04-11e5-ba46-22000b92c6ec\n",
    "#res_files_base_dir = '8f796c9e-f5c8-11e5-9842-22000b9da45e:/rdss/jma819/fsmresfiles/Projects/JJM/MiniscopeMovies/scope_data/'\n",
    "#quest_dir = 'd5990400-6d04-11e5-ba46-22000b92c6ec:/projects/b1118/behaviorvideos/timestampfiles/'"
   ]
  },
  {
   "cell_type": "code",
   "execution_count": 88,
   "metadata": {},
   "outputs": [],
   "source": [
    "#for session in list(time_stamp_file_locations.keys()):\n",
    "#    transfer_info = res_files_base_dir+time_stamp_file_locations[session]+' '+quest_dir+session+'_timestamp.dat'\n",
    "#    !eval \"globus transfer\" $transfer_info"
   ]
  },
  {
   "cell_type": "code",
   "execution_count": null,
   "metadata": {},
   "outputs": [],
   "source": [
    "##frame by frame alignment to miniscope camera\n",
    "\n",
    "sessions = [f_path.split('/')[-1].rstrip('_raw_trace.csv') for f_path in mm_raw_traces]\n",
    "\n",
    "sessions = ['GRIN039_H14_M8_S53', 'GRIN026_H16_M35_S34', 'GRIN032_H16_M49_S22']\n",
    "\n",
    "for session in sessions:\n",
    "    print(session)\n",
    "    timestampfile = '/projects/b1118/behaviorvideos/timestampfiles/'+session+'_timestamp.dat'\n",
    "    frame_clock_df = pd.read_table(timestampfile)\n",
    "    output_directory = '/projects/b1118/miniscope/analysis/compiled_data/mm_tracking_output/'\n",
    "\n",
    "    Cam0_timestamps = frame_clock_df[frame_clock_df['camNum'] == 0]  \n",
    "    Cam1_timestamps = frame_clock_df[frame_clock_df['camNum'] == 1]\n",
    "    #beavCam is usually faster framerate \n",
    "    if Cam1_timestamps['sysClock'].iloc[1:].diff().mean()<Cam0_timestamps['sysClock'].iloc[1:].diff().mean():\n",
    "        msCam_camnum=0\n",
    "        behavCam_camnum=1\n",
    "    elif Cam0_timestamps['sysClock'].iloc[1:].diff().mean()<Cam1_timestamps['sysClock'].iloc[1:].diff().mean():\n",
    "        msCam_camnum=1\n",
    "        behavCam_camnum=0\n",
    "\n",
    "    raw_trace = pd.read_csv(data_folder+session+'_raw_trace.csv', names=['velocity'])\n",
    "    raw_trace_filtered = pd.read_csv(data_folder+session+'_raw_trace_median_filter.csv', names=['velocity(20_Hz_filtered)'])\n",
    "    speed_trace = pd.read_csv(data_folder+session+'_speedtrace.csv', names=['speed_trace(velocity_5Hz_filtered)'])\n",
    "    raw_traces = pd.concat([raw_trace, raw_trace_filtered], axis=1)\n",
    "\n",
    "    # align the raw traces for comparison\n",
    "\n",
    "    mm_tracking_aligned = dlc.downsample_mmtracking(raw_traces, timestampfile, msCam_camnum, behavCam_camnum)\n",
    "\n",
    "    # convert to timedelta for downsampling \n",
    "    aligned_td = mm_tracking_aligned.set_index(pd.to_timedelta(np.linspace(0, mm_tracking_aligned['sys_clock_behavCam'].values[-1]/1000, len(mm_tracking_aligned)), unit='s'), drop=False)\n",
    "    aligned_td.to_csv(output_directory+session+'_mm_tracking_foranalysis_unsmoothed'+'.csv')"
   ]
  },
  {
   "cell_type": "code",
   "execution_count": null,
   "metadata": {},
   "outputs": [],
   "source": []
  }
 ],
 "metadata": {
  "kernelspec": {
   "display_name": "2pCNMFEAnalysisEnv",
   "language": "python",
   "name": "2pcnmfeanalysisenv"
  },
  "language_info": {
   "codemirror_mode": {
    "name": "ipython",
    "version": 3
   },
   "file_extension": ".py",
   "mimetype": "text/x-python",
   "name": "python",
   "nbconvert_exporter": "python",
   "pygments_lexer": "ipython3",
   "version": "3.10.4"
  }
 },
 "nbformat": 4,
 "nbformat_minor": 2
}
