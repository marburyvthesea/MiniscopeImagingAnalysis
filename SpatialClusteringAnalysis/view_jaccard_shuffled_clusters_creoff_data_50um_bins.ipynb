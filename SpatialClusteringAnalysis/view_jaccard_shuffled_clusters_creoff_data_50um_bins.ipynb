{
 "cells": [
  {
   "cell_type": "code",
   "execution_count": 12,
   "metadata": {
    "collapsed": false
   },
   "outputs": [
    {
     "data": {
      "text/html": [
       "<style>.container { width:90% !important; }</style>"
      ],
      "text/plain": [
       "<IPython.core.display.HTML object>"
      ]
     },
     "metadata": {},
     "output_type": "display_data"
    }
   ],
   "source": [
    "from IPython.core.display import display, HTML\n",
    "display(HTML(\"<style>.container { width:90% !important; }</style>\"))\n",
    "from matplotlib import pyplot as plt\n",
    "import numpy as np\n",
    "import pandas as pd\n",
    "import glob\n",
    "import math"
   ]
  },
  {
   "cell_type": "code",
   "execution_count": 13,
   "metadata": {
    "collapsed": true
   },
   "outputs": [],
   "source": [
    "data_directory = '/projects/b1118/miniscope/analysis/spatial_data/spatial_clustering/jones_script_analysis/fenobam_data_50um_bins/'\n",
    "data_directory_ko = '/projects/b1118/miniscope/analysis/spatial_data/spatial_clustering/jones_script_analysis/fenobam_data_50um_bins/'"
   ]
  },
  {
   "cell_type": "code",
   "execution_count": 14,
   "metadata": {
    "collapsed": true
   },
   "outputs": [],
   "source": [
    "WT_sessions = ['DO_1_Day1_motion_corrected_h5', 'DO_1_Day2_motion_corrected_h5', 'DO_1_Day3_motion_corrected_h5',\n",
    "               'DO_2_Day2_16_11_47', 'DO_2_Day1_16_46_28', 'DO_2_Day1_16_46_28_08_35', 'DO_3_Day_1_motion_corrected_h5', \n",
    "               'DO_3_Day2_15_41_21', 'DO_3_Day3_15_41_20', 'DO_3_Day3_15_49_55', 'DO_3_Day_3_16_06_35'] ; \n",
    "\n",
    "KO_sessions = ['DO_4_Day1_17_04_56', 'DO_4_Day_2_16_19_46', 'DO_4_Day_3_18_17_02', 'DO_5_Day_1_17_55_43', \n",
    "               'DO_5_Day_2_16_47_35', 'DO_5_Day_2_17_02_17', 'DO_5_Day_2_17_22_37', 'DO_5_Day_3_16_41_58', \n",
    "               'DO_6_Day_1_17_03_46', 'DO_6_Day_2_15_57_05', 'DO_6_Day_3_14_59_55'] ;"
   ]
  },
  {
   "cell_type": "markdown",
   "metadata": {},
   "source": [
    "## compile and plot genotype data"
   ]
  },
  {
   "cell_type": "code",
   "execution_count": 15,
   "metadata": {
    "collapsed": false,
    "scrolled": true
   },
   "outputs": [
    {
     "name": "stdout",
     "output_type": "stream",
     "text": [
      "DO_1_Day1_motion_corrected_h5\n",
      "DO_1_Day2_motion_corrected_h5\n",
      "DO_1_Day3_motion_corrected_h5\n",
      "DO_2_Day2_16_11_47\n",
      "DO_2_Day1_16_46_28\n",
      "DO_2_Day1_16_46_28_08_35\n",
      "DO_3_Day_1_motion_corrected_h5\n",
      "DO_3_Day2_15_41_21\n",
      "DO_3_Day3_15_41_20\n",
      "DO_3_Day3_15_49_55\n",
      "DO_3_Day_3_16_06_35\n",
      "DO_4_Day1_17_04_56\n",
      "DO_4_Day_2_16_19_46\n",
      "DO_4_Day_3_18_17_02\n",
      "DO_5_Day_1_17_55_43\n",
      "DO_5_Day_2_16_47_35\n",
      "DO_5_Day_2_17_02_17\n",
      "DO_5_Day_2_17_22_37\n",
      "DO_5_Day_3_16_41_58\n",
      "DO_6_Day_1_17_03_46\n",
      "DO_6_Day_2_15_57_05\n",
      "DO_6_Day_3_14_59_55\n"
     ]
    }
   ],
   "source": [
    "#compile in dictionaries\n",
    "#might need to shift matlab pair inidcies due to 1-indexing\n",
    "jaccard_analysis_by_session = {}\n",
    "for session in WT_sessions:\n",
    "    print(session)\n",
    "    session_output = {}\n",
    "    for file in glob.glob(data_directory+'/'+session+'*normlBinnedCellJaccards.csv'):\n",
    "        session_output[file.split('_')[-1][:-4]] = pd.read_csv(file, header=None)\n",
    "    jaccard_analysis_by_session[session] = session_output\n",
    "    \n",
    "#compile in dictionaries\n",
    "#might need to shift matlab pair inidcies due to 1-indexing\n",
    "jaccard_analysis_by_session_ko = {}\n",
    "for session in KO_sessions:\n",
    "    print(session)\n",
    "    session_output = {}\n",
    "    for file in glob.glob(data_directory_ko+'/'+session+'*normlBinnedCellJaccards.csv'):\n",
    "        session_output[file.split('_')[-1][:-4]] = pd.read_csv(file, header=None)\n",
    "    jaccard_analysis_by_session_ko[session] = session_output"
   ]
  },
  {
   "cell_type": "code",
   "execution_count": 16,
   "metadata": {
    "collapsed": false
   },
   "outputs": [
    {
     "data": {
      "text/plain": [
       "{'DO_1_Day1_motion_corrected_h5': {'normlBinnedCellJaccards':         0       1       2       3       4       5       6       7        8\n",
       "  0  4.9452  2.5402  2.0364  1.8084  1.6285  1.3494  1.2618  1.3547  0.44669},\n",
       " 'DO_1_Day2_motion_corrected_h5': {'normlBinnedCellJaccards':         0       1      2       3       4       5       6   7   8\n",
       "  0  8.6725  4.2407  3.973  4.3009  5.9951  3.3532  2.3889 NaN NaN},\n",
       " 'DO_1_Day3_motion_corrected_h5': {'normlBinnedCellJaccards':        0       1       2       3      4       5       6       7       8\n",
       "  0  12.01  5.5348  3.9343  3.5056  2.986  2.2054  2.2908  2.9741  4.7637},\n",
       " 'DO_2_Day2_16_11_47': {'normlBinnedCellJaccards':         0       1       2       3       4       5      6       7       8\n",
       "  0  5.1437  3.3647  3.0948  2.9674  2.9607  2.8501  2.612  2.3099  1.6023},\n",
       " 'DO_2_Day1_16_46_28': {'normlBinnedCellJaccards':        0       1       2       3       4       5       6       7       8\n",
       "  0  6.309  3.6391  3.4492  2.9873  2.8277  2.5236  1.9802  1.9031  1.6957},\n",
       " 'DO_2_Day1_16_46_28_08_35': {'normlBinnedCellJaccards':         0       1       2       3       4       5       6       7      8\n",
       "  0  4.9238  3.1617  2.8898  2.9715  3.0311  2.8146  2.6127  1.8907  1.925},\n",
       " 'DO_3_Day_1_motion_corrected_h5': {'normlBinnedCellJaccards':         0       1       2       3      4       5       6   7   8\n",
       "  0  24.233  12.139  11.722  10.917  10.21  9.9507  9.8951 NaN NaN},\n",
       " 'DO_3_Day2_15_41_21': {'normlBinnedCellJaccards':         0       1       2       3       4       5       6      7       8\n",
       "  0  18.365  7.6226  6.3729  5.8467  5.6385  5.3046  3.3787  3.323  2.4839},\n",
       " 'DO_3_Day3_15_41_20': {'normlBinnedCellJaccards':        0       1       2       3      4       5       6       7       8\n",
       "  0  5.333  2.1237  1.8297  1.4987  1.297  1.2443  1.3293  1.2641  1.0469},\n",
       " 'DO_3_Day3_15_49_55': {'normlBinnedCellJaccards':         0       1       2       3       4       5     6       7  8\n",
       "  0  9.0371  4.4911  3.5933  3.5015  3.1298  3.0197  2.55  1.6348  0},\n",
       " 'DO_3_Day_3_16_06_35': {'normlBinnedCellJaccards':       0       1      2       3       4       5      6       7   8\n",
       "  0  12.8  6.3697  5.415  5.2174  4.9744  4.8663  3.677  3.3349 NaN}}"
      ]
     },
     "execution_count": 16,
     "metadata": {},
     "output_type": "execute_result"
    }
   ],
   "source": [
    "jaccard_analysis_by_session"
   ]
  },
  {
   "cell_type": "code",
   "execution_count": 25,
   "metadata": {
    "collapsed": false
   },
   "outputs": [],
   "source": [
    "#plot across sessions\n",
    "genotype_compiled = pd.concat([jaccard_analysis_by_session[session]['normlBinnedCellJaccards'] for session in WT_sessions], keys=WT_sessions)\n",
    "genotype_compiled_ko = pd.concat([jaccard_analysis_by_session_ko[session]['normlBinnedCellJaccards'] for session in KO_sessions], keys=KO_sessions)\n",
    "\n",
    "genotype_compiled.to_csv('/projects/b1118/miniscope/analysis/summaryfigures/coactivity_iSPNs_50um_bins.csv')\n",
    "genotype_compiled_ko.to_csv('/projects/b1118/miniscope/analysis/summaryfigures/coactivity_ko_iSPNs_50um_bins.csv')"
   ]
  },
  {
   "cell_type": "code",
   "execution_count": 26,
   "metadata": {
    "collapsed": false
   },
   "outputs": [],
   "source": [
    "#genotype_compiled_ko"
   ]
  },
  {
   "cell_type": "code",
   "execution_count": 27,
   "metadata": {
    "collapsed": false
   },
   "outputs": [],
   "source": [
    "#average multiple sessions per day\n",
    "\n",
    "#wt \n",
    "wt_by_day = {}\n",
    "wt_by_day['DO_1_Day1'] = genotype_compiled.loc['DO_1_Day1_motion_corrected_h5']\n",
    "wt_by_day['DO_1_Day2'] = genotype_compiled.loc['DO_1_Day2_motion_corrected_h5']\n",
    "wt_by_day['DO_1_Day3'] = genotype_compiled.loc['DO_1_Day3_motion_corrected_h5']\n",
    "wt_by_day['DO_2_Day1'] = pd.DataFrame(genotype_compiled.loc[['DO_2_Day1_16_46_28','DO_2_Day1_16_46_28_08_35']].mean(axis=0)).transpose()\n",
    "wt_by_day['DO_2_Day2'] = genotype_compiled.loc['DO_2_Day2_16_11_47']\n",
    "wt_by_day['DO_3_Day1'] = genotype_compiled.loc['DO_3_Day_1_motion_corrected_h5']\n",
    "wt_by_day['DO_3_Day2'] = genotype_compiled.loc['DO_3_Day2_15_41_21']\n",
    "wt_by_day['DO_3_Day3'] = pd.DataFrame(genotype_compiled.loc[['DO_3_Day3_15_41_20', 'DO_3_Day3_15_49_55', 'DO_3_Day_3_16_06_35']].mean(axis=0)).transpose()\n",
    "\n",
    "wt_by_day = pd.concat(wt_by_day.values(), keys=wt_by_day.keys())\n",
    "\n",
    "#ko \n",
    "ko_by_day = {}\n",
    "ko_by_day['DO_4_Day1'] = genotype_compiled_ko.loc['DO_4_Day1_17_04_56']\n",
    "ko_by_day['DO_4_Day2'] = genotype_compiled_ko.loc['DO_4_Day_2_16_19_46']\n",
    "ko_by_day['DO_4_Day3'] = genotype_compiled_ko.loc['DO_4_Day_3_18_17_02']\n",
    "ko_by_day['DO_5_Day1'] = genotype_compiled_ko.loc['DO_5_Day_1_17_55_43']\n",
    "ko_by_day['DO_5_Day2'] = pd.DataFrame(genotype_compiled_ko.loc[['DO_5_Day_2_16_47_35', 'DO_5_Day_2_17_02_17', 'DO_5_Day_2_17_22_37']].mean(axis=0)).transpose() \n",
    "ko_by_day['DO_5_Day3'] = genotype_compiled_ko.loc['DO_5_Day_3_16_41_58']\n",
    "ko_by_day['DO_6_Day1'] = genotype_compiled_ko.loc['DO_6_Day_1_17_03_46']\n",
    "ko_by_day['DO_6_Day2'] = genotype_compiled_ko.loc['DO_6_Day_2_15_57_05']\n",
    "ko_by_day['DO_6_Day3'] = genotype_compiled_ko.loc['DO_6_Day_3_14_59_55']\n",
    "\n",
    "ko_by_day = pd.concat(ko_by_day.values(), keys=ko_by_day.keys())"
   ]
  },
  {
   "cell_type": "code",
   "execution_count": 28,
   "metadata": {
    "collapsed": false
   },
   "outputs": [
    {
     "data": {
      "text/html": [
       "<div>\n",
       "<style scoped>\n",
       "    .dataframe tbody tr th:only-of-type {\n",
       "        vertical-align: middle;\n",
       "    }\n",
       "\n",
       "    .dataframe tbody tr th {\n",
       "        vertical-align: top;\n",
       "    }\n",
       "\n",
       "    .dataframe thead th {\n",
       "        text-align: right;\n",
       "    }\n",
       "</style>\n",
       "<table border=\"1\" class=\"dataframe\">\n",
       "  <thead>\n",
       "    <tr style=\"text-align: right;\">\n",
       "      <th></th>\n",
       "      <th></th>\n",
       "      <th>0</th>\n",
       "      <th>1</th>\n",
       "      <th>2</th>\n",
       "      <th>3</th>\n",
       "      <th>4</th>\n",
       "      <th>5</th>\n",
       "      <th>6</th>\n",
       "      <th>7</th>\n",
       "      <th>8</th>\n",
       "    </tr>\n",
       "  </thead>\n",
       "  <tbody>\n",
       "    <tr>\n",
       "      <th>DO_1_Day1</th>\n",
       "      <th>0</th>\n",
       "      <td>4.9452</td>\n",
       "      <td>2.540200</td>\n",
       "      <td>2.036400</td>\n",
       "      <td>1.808400</td>\n",
       "      <td>1.628500</td>\n",
       "      <td>1.349400</td>\n",
       "      <td>1.261800</td>\n",
       "      <td>1.354700</td>\n",
       "      <td>0.44669</td>\n",
       "    </tr>\n",
       "    <tr>\n",
       "      <th>DO_1_Day2</th>\n",
       "      <th>0</th>\n",
       "      <td>8.6725</td>\n",
       "      <td>4.240700</td>\n",
       "      <td>3.973000</td>\n",
       "      <td>4.300900</td>\n",
       "      <td>5.995100</td>\n",
       "      <td>3.353200</td>\n",
       "      <td>2.388900</td>\n",
       "      <td>NaN</td>\n",
       "      <td>NaN</td>\n",
       "    </tr>\n",
       "    <tr>\n",
       "      <th>DO_1_Day3</th>\n",
       "      <th>0</th>\n",
       "      <td>12.0100</td>\n",
       "      <td>5.534800</td>\n",
       "      <td>3.934300</td>\n",
       "      <td>3.505600</td>\n",
       "      <td>2.986000</td>\n",
       "      <td>2.205400</td>\n",
       "      <td>2.290800</td>\n",
       "      <td>2.974100</td>\n",
       "      <td>4.76370</td>\n",
       "    </tr>\n",
       "    <tr>\n",
       "      <th>DO_2_Day1</th>\n",
       "      <th>0</th>\n",
       "      <td>5.6164</td>\n",
       "      <td>3.400400</td>\n",
       "      <td>3.169500</td>\n",
       "      <td>2.979400</td>\n",
       "      <td>2.929400</td>\n",
       "      <td>2.669100</td>\n",
       "      <td>2.296450</td>\n",
       "      <td>1.896900</td>\n",
       "      <td>1.81035</td>\n",
       "    </tr>\n",
       "    <tr>\n",
       "      <th>DO_2_Day2</th>\n",
       "      <th>0</th>\n",
       "      <td>5.1437</td>\n",
       "      <td>3.364700</td>\n",
       "      <td>3.094800</td>\n",
       "      <td>2.967400</td>\n",
       "      <td>2.960700</td>\n",
       "      <td>2.850100</td>\n",
       "      <td>2.612000</td>\n",
       "      <td>2.309900</td>\n",
       "      <td>1.60230</td>\n",
       "    </tr>\n",
       "    <tr>\n",
       "      <th>DO_3_Day1</th>\n",
       "      <th>0</th>\n",
       "      <td>24.2330</td>\n",
       "      <td>12.139000</td>\n",
       "      <td>11.722000</td>\n",
       "      <td>10.917000</td>\n",
       "      <td>10.210000</td>\n",
       "      <td>9.950700</td>\n",
       "      <td>9.895100</td>\n",
       "      <td>NaN</td>\n",
       "      <td>NaN</td>\n",
       "    </tr>\n",
       "    <tr>\n",
       "      <th>DO_3_Day2</th>\n",
       "      <th>0</th>\n",
       "      <td>18.3650</td>\n",
       "      <td>7.622600</td>\n",
       "      <td>6.372900</td>\n",
       "      <td>5.846700</td>\n",
       "      <td>5.638500</td>\n",
       "      <td>5.304600</td>\n",
       "      <td>3.378700</td>\n",
       "      <td>3.323000</td>\n",
       "      <td>2.48390</td>\n",
       "    </tr>\n",
       "    <tr>\n",
       "      <th>DO_3_Day3</th>\n",
       "      <th>0</th>\n",
       "      <td>9.0567</td>\n",
       "      <td>4.328167</td>\n",
       "      <td>3.612667</td>\n",
       "      <td>3.405867</td>\n",
       "      <td>3.133733</td>\n",
       "      <td>3.043433</td>\n",
       "      <td>2.518767</td>\n",
       "      <td>2.077933</td>\n",
       "      <td>0.52345</td>\n",
       "    </tr>\n",
       "  </tbody>\n",
       "</table>\n",
       "</div>"
      ],
      "text/plain": [
       "                   0          1          2          3          4         5  \\\n",
       "DO_1_Day1 0   4.9452   2.540200   2.036400   1.808400   1.628500  1.349400   \n",
       "DO_1_Day2 0   8.6725   4.240700   3.973000   4.300900   5.995100  3.353200   \n",
       "DO_1_Day3 0  12.0100   5.534800   3.934300   3.505600   2.986000  2.205400   \n",
       "DO_2_Day1 0   5.6164   3.400400   3.169500   2.979400   2.929400  2.669100   \n",
       "DO_2_Day2 0   5.1437   3.364700   3.094800   2.967400   2.960700  2.850100   \n",
       "DO_3_Day1 0  24.2330  12.139000  11.722000  10.917000  10.210000  9.950700   \n",
       "DO_3_Day2 0  18.3650   7.622600   6.372900   5.846700   5.638500  5.304600   \n",
       "DO_3_Day3 0   9.0567   4.328167   3.612667   3.405867   3.133733  3.043433   \n",
       "\n",
       "                    6         7        8  \n",
       "DO_1_Day1 0  1.261800  1.354700  0.44669  \n",
       "DO_1_Day2 0  2.388900       NaN      NaN  \n",
       "DO_1_Day3 0  2.290800  2.974100  4.76370  \n",
       "DO_2_Day1 0  2.296450  1.896900  1.81035  \n",
       "DO_2_Day2 0  2.612000  2.309900  1.60230  \n",
       "DO_3_Day1 0  9.895100       NaN      NaN  \n",
       "DO_3_Day2 0  3.378700  3.323000  2.48390  \n",
       "DO_3_Day3 0  2.518767  2.077933  0.52345  "
      ]
     },
     "execution_count": 28,
     "metadata": {},
     "output_type": "execute_result"
    }
   ],
   "source": [
    "wt_by_day.to_csv('/projects/b1118/miniscope/analysis/summaryfigures/coactivity_iSPNs_50um_bins.csv')\n",
    "wt_by_day\n"
   ]
  },
  {
   "cell_type": "code",
   "execution_count": 29,
   "metadata": {
    "collapsed": false
   },
   "outputs": [
    {
     "data": {
      "text/html": [
       "<div>\n",
       "<style scoped>\n",
       "    .dataframe tbody tr th:only-of-type {\n",
       "        vertical-align: middle;\n",
       "    }\n",
       "\n",
       "    .dataframe tbody tr th {\n",
       "        vertical-align: top;\n",
       "    }\n",
       "\n",
       "    .dataframe thead th {\n",
       "        text-align: right;\n",
       "    }\n",
       "</style>\n",
       "<table border=\"1\" class=\"dataframe\">\n",
       "  <thead>\n",
       "    <tr style=\"text-align: right;\">\n",
       "      <th></th>\n",
       "      <th></th>\n",
       "      <th>0</th>\n",
       "      <th>1</th>\n",
       "      <th>2</th>\n",
       "      <th>3</th>\n",
       "      <th>4</th>\n",
       "      <th>5</th>\n",
       "      <th>6</th>\n",
       "      <th>7</th>\n",
       "      <th>8</th>\n",
       "    </tr>\n",
       "  </thead>\n",
       "  <tbody>\n",
       "    <tr>\n",
       "      <th>DO_4_Day1</th>\n",
       "      <th>0</th>\n",
       "      <td>6.772800</td>\n",
       "      <td>3.7902</td>\n",
       "      <td>3.690000</td>\n",
       "      <td>3.007000</td>\n",
       "      <td>2.48930</td>\n",
       "      <td>2.22620</td>\n",
       "      <td>2.25150</td>\n",
       "      <td>2.2948</td>\n",
       "      <td>1.516500</td>\n",
       "    </tr>\n",
       "    <tr>\n",
       "      <th>DO_4_Day2</th>\n",
       "      <th>0</th>\n",
       "      <td>13.609000</td>\n",
       "      <td>8.2950</td>\n",
       "      <td>5.673300</td>\n",
       "      <td>4.184800</td>\n",
       "      <td>3.69880</td>\n",
       "      <td>3.80720</td>\n",
       "      <td>3.94620</td>\n",
       "      <td>4.0004</td>\n",
       "      <td>3.168400</td>\n",
       "    </tr>\n",
       "    <tr>\n",
       "      <th>DO_4_Day3</th>\n",
       "      <th>0</th>\n",
       "      <td>7.394200</td>\n",
       "      <td>4.6751</td>\n",
       "      <td>3.387400</td>\n",
       "      <td>2.918400</td>\n",
       "      <td>2.45520</td>\n",
       "      <td>1.77710</td>\n",
       "      <td>2.35450</td>\n",
       "      <td>1.9398</td>\n",
       "      <td>2.544400</td>\n",
       "    </tr>\n",
       "    <tr>\n",
       "      <th>DO_5_Day1</th>\n",
       "      <th>0</th>\n",
       "      <td>38.849000</td>\n",
       "      <td>16.1070</td>\n",
       "      <td>10.385000</td>\n",
       "      <td>10.442000</td>\n",
       "      <td>9.68400</td>\n",
       "      <td>7.53470</td>\n",
       "      <td>7.44370</td>\n",
       "      <td>5.3780</td>\n",
       "      <td>5.102400</td>\n",
       "    </tr>\n",
       "    <tr>\n",
       "      <th>DO_5_Day2</th>\n",
       "      <th>0</th>\n",
       "      <td>15.912333</td>\n",
       "      <td>9.3079</td>\n",
       "      <td>8.297067</td>\n",
       "      <td>8.257833</td>\n",
       "      <td>8.19220</td>\n",
       "      <td>8.44860</td>\n",
       "      <td>7.85510</td>\n",
       "      <td>6.9539</td>\n",
       "      <td>5.521467</td>\n",
       "    </tr>\n",
       "    <tr>\n",
       "      <th>DO_5_Day3</th>\n",
       "      <th>0</th>\n",
       "      <td>9.692300</td>\n",
       "      <td>5.2795</td>\n",
       "      <td>4.373400</td>\n",
       "      <td>3.829900</td>\n",
       "      <td>4.22130</td>\n",
       "      <td>4.03980</td>\n",
       "      <td>4.11560</td>\n",
       "      <td>3.5219</td>\n",
       "      <td>6.138100</td>\n",
       "    </tr>\n",
       "    <tr>\n",
       "      <th>DO_6_Day1</th>\n",
       "      <th>0</th>\n",
       "      <td>7.339800</td>\n",
       "      <td>4.4197</td>\n",
       "      <td>3.464800</td>\n",
       "      <td>2.961000</td>\n",
       "      <td>2.68540</td>\n",
       "      <td>2.38060</td>\n",
       "      <td>2.65320</td>\n",
       "      <td>2.6914</td>\n",
       "      <td>2.232400</td>\n",
       "    </tr>\n",
       "    <tr>\n",
       "      <th>DO_6_Day2</th>\n",
       "      <th>0</th>\n",
       "      <td>4.234500</td>\n",
       "      <td>2.2144</td>\n",
       "      <td>1.644200</td>\n",
       "      <td>1.244900</td>\n",
       "      <td>0.91096</td>\n",
       "      <td>0.74812</td>\n",
       "      <td>0.76029</td>\n",
       "      <td>1.4912</td>\n",
       "      <td>NaN</td>\n",
       "    </tr>\n",
       "    <tr>\n",
       "      <th>DO_6_Day3</th>\n",
       "      <th>0</th>\n",
       "      <td>8.066600</td>\n",
       "      <td>2.7689</td>\n",
       "      <td>1.296000</td>\n",
       "      <td>1.107600</td>\n",
       "      <td>1.14340</td>\n",
       "      <td>0.72383</td>\n",
       "      <td>1.04080</td>\n",
       "      <td>1.2492</td>\n",
       "      <td>NaN</td>\n",
       "    </tr>\n",
       "  </tbody>\n",
       "</table>\n",
       "</div>"
      ],
      "text/plain": [
       "                     0        1          2          3        4        5  \\\n",
       "DO_4_Day1 0   6.772800   3.7902   3.690000   3.007000  2.48930  2.22620   \n",
       "DO_4_Day2 0  13.609000   8.2950   5.673300   4.184800  3.69880  3.80720   \n",
       "DO_4_Day3 0   7.394200   4.6751   3.387400   2.918400  2.45520  1.77710   \n",
       "DO_5_Day1 0  38.849000  16.1070  10.385000  10.442000  9.68400  7.53470   \n",
       "DO_5_Day2 0  15.912333   9.3079   8.297067   8.257833  8.19220  8.44860   \n",
       "DO_5_Day3 0   9.692300   5.2795   4.373400   3.829900  4.22130  4.03980   \n",
       "DO_6_Day1 0   7.339800   4.4197   3.464800   2.961000  2.68540  2.38060   \n",
       "DO_6_Day2 0   4.234500   2.2144   1.644200   1.244900  0.91096  0.74812   \n",
       "DO_6_Day3 0   8.066600   2.7689   1.296000   1.107600  1.14340  0.72383   \n",
       "\n",
       "                   6       7         8  \n",
       "DO_4_Day1 0  2.25150  2.2948  1.516500  \n",
       "DO_4_Day2 0  3.94620  4.0004  3.168400  \n",
       "DO_4_Day3 0  2.35450  1.9398  2.544400  \n",
       "DO_5_Day1 0  7.44370  5.3780  5.102400  \n",
       "DO_5_Day2 0  7.85510  6.9539  5.521467  \n",
       "DO_5_Day3 0  4.11560  3.5219  6.138100  \n",
       "DO_6_Day1 0  2.65320  2.6914  2.232400  \n",
       "DO_6_Day2 0  0.76029  1.4912       NaN  \n",
       "DO_6_Day3 0  1.04080  1.2492       NaN  "
      ]
     },
     "execution_count": 29,
     "metadata": {},
     "output_type": "execute_result"
    }
   ],
   "source": [
    "ko_by_day.to_csv('/projects/b1118/miniscope/analysis/summaryfigures/coactivity_ko_iSPNs_50um_bins.csv')\n",
    "ko_by_day"
   ]
  },
  {
   "cell_type": "code",
   "execution_count": 22,
   "metadata": {
    "collapsed": false
   },
   "outputs": [
    {
     "data": {
      "image/png": "[encoded data removed]",
      "text/plain": [
       "<Figure size 1080x432 with 2 Axes>"
      ]
     },
     "metadata": {
      "needs_background": "light"
     },
     "output_type": "display_data"
    }
   ],
   "source": [
    "fig = plt.figure()\n",
    "plt.subplot(1, 2, 1)\n",
    "\n",
    "for session in range(len(wt_by_day)):\n",
    "    bin_vector = np.linspace(20, 500, len(wt_by_day.iloc[session,:].values))\n",
    "    plt.plot(bin_vector, wt_by_day.iloc[session,:].values, label=list(wt_by_day.index)[session][0])\n",
    "plt.legend(bbox_to_anchor=(0., 1.02, 1., .102), loc='lower left', ncol=2, mode=\"expand\", borderaxespad=0.)\n",
    "\n",
    "fig.set_size_inches(15, 6)\n",
    "\n",
    "plt.subplot(1, 2, 2)\n",
    "\n",
    "for session in range(len(ko_by_day)):\n",
    "    bin_vector = np.linspace(20, 500, len(ko_by_day.iloc[session,:].values))\n",
    "    plt.plot(bin_vector, ko_by_day.iloc[session,:].values, label=list(ko_by_day.index)[session][0])\n",
    "plt.legend(bbox_to_anchor=(0., 1.02, 1., .102), loc='lower left', ncol=2, mode=\"expand\", borderaxespad=0.)\n",
    "\n",
    "fig.set_size_inches(15, 6)\n",
    "#fig.savefig('/projects/b1118/miniscope/analysis/summaryfigures/coactivity_data_bysession_sidebyside_indiv_creoff.pdf', transparent=True)\n",
    "plt.show()"
   ]
  },
  {
   "cell_type": "code",
   "execution_count": 23,
   "metadata": {
    "collapsed": false,
    "scrolled": true
   },
   "outputs": [
    {
     "data": {
      "image/png": "[encoded data removed]",
      "text/plain": [
       "<Figure size 1080x432 with 2 Axes>"
      ]
     },
     "metadata": {
      "needs_background": "light"
     },
     "output_type": "display_data"
    }
   ],
   "source": [
    "#plot average for genotype\n",
    "fig = plt.figure()\n",
    "plt.subplot(1, 2, 1)\n",
    "plt.plot(bin_vector, wt_by_day.mean())\n",
    "ax = plt.gca()\n",
    "ax.set_ylabel('shuffle-normalized cell-cell coactivity (jaccard)')\n",
    "ax.set_xlabel('cell-cell distance bin (um)')\n",
    "ax.set_ylim((0,12))\n",
    "#plot average for genotype\n",
    "plt.subplot(1, 2, 2)\n",
    "plt.plot(bin_vector, ko_by_day.mean())\n",
    "ax = plt.gca()\n",
    "ax.set_ylabel('shuffle-normalized cell-cell coactivity (jaccard)')\n",
    "ax.set_xlabel('cell-cell distance bin (um)')\n",
    "ax.set_ylim((0,12))\n",
    "\n",
    "\n",
    "fig.set_size_inches(15, 6)\n",
    "fig.savefig('/projects/b1118/miniscope/analysis/summaryfigures/coactivity_data_sidebyside_group_creoff.pdf', transparent=True)\n",
    "plt.show()"
   ]
  },
  {
   "cell_type": "markdown",
   "metadata": {},
   "source": [
    "## compile ko data"
   ]
  },
  {
   "cell_type": "markdown",
   "metadata": {},
   "source": [
    "## overlay ko and wt "
   ]
  },
  {
   "cell_type": "code",
   "execution_count": 24,
   "metadata": {
    "collapsed": false
   },
   "outputs": [
    {
     "data": {
      "image/png": "[encoded data removed]",
      "text/plain": [
       "<Figure size 504x432 with 1 Axes>"
      ]
     },
     "metadata": {
      "needs_background": "light"
     },
     "output_type": "display_data"
    }
   ],
   "source": [
    "mean = wt_by_day.mean()\n",
    "mean_ko = ko_by_day.mean()\n",
    "std_error = wt_by_day.std()/math.sqrt(4)\n",
    "std_error_ko = ko_by_day.std()/math.sqrt(7)\n",
    "plt.plot(bin_vector, mean)\n",
    "plt.plot(bin_vector, mean_ko)\n",
    "plt.fill_between(bin_vector, mean-std_error, mean+std_error)\n",
    "plt.fill_between(bin_vector, mean_ko-std_error_ko, mean_ko+std_error_ko)\n",
    "ax = plt.gca()\n",
    "ax.set_ylabel('shuffle-normalized cell-cell coactivity (jaccard)')\n",
    "ax.set_xlabel('cell-cell distance bin (um)')\n",
    "ax.set_ylim((0,25))\n",
    "ax.set_xlim((0,475))\n",
    "fig = plt.gcf()\n",
    "fig.set_size_inches(7, 6)\n",
    "fig.savefig('/projects/b1118/miniscope/analysis/summaryfigures/combined_coactivity_creoff_50um_bins.jpg', transparent=True)\n",
    "plt.show()"
   ]
  },
  {
   "cell_type": "code",
   "execution_count": null,
   "metadata": {
    "collapsed": true
   },
   "outputs": [],
   "source": []
  },
  {
   "cell_type": "code",
   "execution_count": null,
   "metadata": {
    "collapsed": true
   },
   "outputs": [],
   "source": []
  }
 ],
 "metadata": {
  "kernelspec": {
   "display_name": "caiman",
   "language": "python",
   "name": "caiman"
  },
  "language_info": {
   "codemirror_mode": {
    "name": "ipython",
    "version": 3
   },
   "file_extension": ".py",
   "mimetype": "text/x-python",
   "name": "python",
   "nbconvert_exporter": "python",
   "pygments_lexer": "ipython3",
   "version": "3.7.10"
  }
 },
 "nbformat": 4,
 "nbformat_minor": 4
}
