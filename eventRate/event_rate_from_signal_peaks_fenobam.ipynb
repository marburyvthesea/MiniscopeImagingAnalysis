{
 "cells": [
  {
   "cell_type": "code",
   "execution_count": 51,
   "id": "1ff7d9e5",
   "metadata": {},
   "outputs": [
    {
     "name": "stderr",
     "output_type": "stream",
     "text": [
      "C:\\Users\\scanimage\\AppData\\Local\\Temp\\ipykernel_10884\\919602113.py:1: DeprecationWarning: Importing display from IPython.core.display is deprecated since IPython 7.14, please import from IPython display\n",
      "  from IPython.core.display import display, HTML\n"
     ]
    },
    {
     "data": {
      "text/html": [
       "<style>.container { width:90% !important; }</style>"
      ],
      "text/plain": [
       "<IPython.core.display.HTML object>"
      ]
     },
     "metadata": {},
     "output_type": "display_data"
    }
   ],
   "source": [
    "from IPython.core.display import display, HTML\n",
    "display(HTML(\"<style>.container { width:90% !important; }</style>\"))\n",
    "import pandas as pd\n",
    "import numpy as np\n",
    "import math\n",
    "from matplotlib import pyplot as plt\n",
    "from tqdm import tqdm \n",
    "import glob"
   ]
  },
  {
   "cell_type": "code",
   "execution_count": 52,
   "id": "033902e6",
   "metadata": {},
   "outputs": [],
   "source": [
    "data_directory = r'F:\\\\JJM\\\\miniscope_analysis\\\\mGluR5_NAM\\\\clustering_analysis\\\\all_frames_2023-02-24-16-33-41_analysisOutput\\\\'"
   ]
  },
  {
   "cell_type": "code",
   "execution_count": 53,
   "id": "b9bef37b",
   "metadata": {},
   "outputs": [],
   "source": [
    "session_list = ['DIO_r2.7_15_20_30', 'DIO_r2.7_15_51_07',\n",
    "                   'DIO_r2.8_16_45_11', 'DIO_r2.8_17_16_03',\n",
    "                   'DIO_r2.14_17_25_26', 'DIO_r2.14_17_40_46', 'DIO_r2.14_18_11_01',\n",
    "                    #'DIO_r2.19_13_45_01', 'DIO_r2.19_14_15_20',\n",
    "                    'DIO_r2.7_17_00_12', 'DIO_r2.7_17_30_50',\n",
    "                   'DIO_r2.8_16_00_28', 'DIO_r2.8_16_30_39', \n",
    "                   'DIO_r2.14_14_00_13', 'DIO_r2.14_14_30_28',\n",
    "                   #'DIO_r2.19_16_04_27', 'DIO_r2.19_16_34_31'\n",
    "               ] ;"
   ]
  },
  {
   "cell_type": "code",
   "execution_count": 54,
   "id": "61260e87",
   "metadata": {},
   "outputs": [],
   "source": [
    "#signalPeaks = pd.read_csv(data_directory+session+'_signalPeaks.csv')"
   ]
  },
  {
   "cell_type": "code",
   "execution_count": 55,
   "id": "c9556e6a",
   "metadata": {},
   "outputs": [],
   "source": [
    "def getEventRateForAnimals(signalPeaks):\n",
    "    cell_dict = {}\n",
    "    for cell in range(0, signalPeaks.shape[0]):\n",
    "        #calculate event rates for each cell\n",
    "        cell_peaks = np.where(signalPeaks.loc[cell]==1)[0]\n",
    "        event_rate = np.zeros(signalPeaks.shape[1]-5)\n",
    "        #sampling rate is 5Hz so 5 samples is 1 sec \n",
    "        for sIdx in range(0, signalPeaks.shape[1]-5):\n",
    "            windowIdxs = (sIdx, sIdx+5)\n",
    "            num_peaks = ((windowIdxs[0] < cell_peaks) & (cell_peaks < windowIdxs[1])).sum()\n",
    "            event_rate[sIdx] = num_peaks\n",
    "        cell_dict[cell] = event_rate\n",
    "    eventRatePerCell_ = pd.DataFrame(cell_dict)\n",
    "    eventRatePerCell = eventRatePerCell_.transpose()    \n",
    "    return(eventRatePerCell)"
   ]
  },
  {
   "cell_type": "code",
   "execution_count": 56,
   "id": "51b072e0",
   "metadata": {},
   "outputs": [],
   "source": [
    "#data_directory\n",
    "#session='DIO_r2.7_15_20_30'\n",
    "#glob.glob(data_directory+'*'+ session+'_signalPeaks.csv')"
   ]
  },
  {
   "cell_type": "code",
   "execution_count": 57,
   "id": "d1227a2f",
   "metadata": {
    "scrolled": true
   },
   "outputs": [
    {
     "name": "stderr",
     "output_type": "stream",
     "text": [
      "\r",
      "  0%|                                                                                           | 0/13 [00:00<?, ?it/s]"
     ]
    },
    {
     "name": "stdout",
     "output_type": "stream",
     "text": [
      "DIO_r2.7_15_20_30\n",
      "['F:\\\\\\\\JJM\\\\\\\\miniscope_analysis\\\\\\\\mGluR5_NAM\\\\\\\\clustering_analysis\\\\\\\\all_frames_2023-02-24-16-33-41_analysisOutput\\\\Vehicle_DIO_r2.7_15_20_30_signalPeaks.csv']\n"
     ]
    },
    {
     "name": "stderr",
     "output_type": "stream",
     "text": [
      "\r",
      "  8%|██████▍                                                                            | 1/13 [00:04<00:55,  4.66s/it]"
     ]
    },
    {
     "name": "stdout",
     "output_type": "stream",
     "text": [
      "DIO_r2.7_15_51_07\n",
      "['F:\\\\\\\\JJM\\\\\\\\miniscope_analysis\\\\\\\\mGluR5_NAM\\\\\\\\clustering_analysis\\\\\\\\all_frames_2023-02-24-16-33-41_analysisOutput\\\\Vehicle_DIO_r2.7_15_51_07_signalPeaks.csv']\n"
     ]
    },
    {
     "name": "stderr",
     "output_type": "stream",
     "text": [
      "\r",
      " 15%|████████████▊                                                                      | 2/13 [00:07<00:39,  3.58s/it]"
     ]
    },
    {
     "name": "stdout",
     "output_type": "stream",
     "text": [
      "DIO_r2.8_16_45_11\n",
      "['F:\\\\\\\\JJM\\\\\\\\miniscope_analysis\\\\\\\\mGluR5_NAM\\\\\\\\clustering_analysis\\\\\\\\all_frames_2023-02-24-16-33-41_analysisOutput\\\\Vehicle_DIO_r2.8_16_45_11_signalPeaks.csv']\n"
     ]
    },
    {
     "name": "stderr",
     "output_type": "stream",
     "text": [
      "\r",
      " 23%|███████████████████▏                                                               | 3/13 [00:09<00:30,  3.01s/it]"
     ]
    },
    {
     "name": "stdout",
     "output_type": "stream",
     "text": [
      "DIO_r2.8_17_16_03\n",
      "['F:\\\\\\\\JJM\\\\\\\\miniscope_analysis\\\\\\\\mGluR5_NAM\\\\\\\\clustering_analysis\\\\\\\\all_frames_2023-02-24-16-33-41_analysisOutput\\\\Vehicle_DIO_r2.8_17_16_03_signalPeaks.csv']\n"
     ]
    },
    {
     "name": "stderr",
     "output_type": "stream",
     "text": [
      "\r",
      " 31%|█████████████████████████▌                                                         | 4/13 [00:11<00:21,  2.35s/it]"
     ]
    },
    {
     "name": "stdout",
     "output_type": "stream",
     "text": [
      "DIO_r2.14_17_25_26\n",
      "['F:\\\\\\\\JJM\\\\\\\\miniscope_analysis\\\\\\\\mGluR5_NAM\\\\\\\\clustering_analysis\\\\\\\\all_frames_2023-02-24-16-33-41_analysisOutput\\\\Vehicle_DIO_r2.14_17_25_26_signalPeaks.csv']\n"
     ]
    },
    {
     "name": "stderr",
     "output_type": "stream",
     "text": [
      "\r",
      " 38%|███████████████████████████████▉                                                   | 5/13 [00:12<00:16,  2.01s/it]"
     ]
    },
    {
     "name": "stdout",
     "output_type": "stream",
     "text": [
      "DIO_r2.14_17_40_46\n",
      "['F:\\\\\\\\JJM\\\\\\\\miniscope_analysis\\\\\\\\mGluR5_NAM\\\\\\\\clustering_analysis\\\\\\\\all_frames_2023-02-24-16-33-41_analysisOutput\\\\Vehicle_DIO_r2.14_17_40_46_signalPeaks.csv']\n"
     ]
    },
    {
     "name": "stderr",
     "output_type": "stream",
     "text": [
      "\r",
      " 46%|██████████████████████████████████████▎                                            | 6/13 [00:14<00:14,  2.06s/it]"
     ]
    },
    {
     "name": "stdout",
     "output_type": "stream",
     "text": [
      "DIO_r2.14_18_11_01\n",
      "['F:\\\\\\\\JJM\\\\\\\\miniscope_analysis\\\\\\\\mGluR5_NAM\\\\\\\\clustering_analysis\\\\\\\\all_frames_2023-02-24-16-33-41_analysisOutput\\\\Vehicle_DIO_r2.14_18_11_01_signalPeaks.csv']\n"
     ]
    },
    {
     "name": "stderr",
     "output_type": "stream",
     "text": [
      "\r",
      " 54%|████████████████████████████████████████████▋                                      | 7/13 [00:15<00:10,  1.81s/it]"
     ]
    },
    {
     "name": "stdout",
     "output_type": "stream",
     "text": [
      "DIO_r2.7_17_00_12\n",
      "['F:\\\\\\\\JJM\\\\\\\\miniscope_analysis\\\\\\\\mGluR5_NAM\\\\\\\\clustering_analysis\\\\\\\\all_frames_2023-02-24-16-33-41_analysisOutput\\\\Fenobam_DIO_r2.7_17_00_12_signalPeaks.csv']\n"
     ]
    },
    {
     "name": "stderr",
     "output_type": "stream",
     "text": [
      "\r",
      " 62%|███████████████████████████████████████████████████                                | 8/13 [00:21<00:14,  2.88s/it]"
     ]
    },
    {
     "name": "stdout",
     "output_type": "stream",
     "text": [
      "DIO_r2.7_17_30_50\n",
      "['F:\\\\\\\\JJM\\\\\\\\miniscope_analysis\\\\\\\\mGluR5_NAM\\\\\\\\clustering_analysis\\\\\\\\all_frames_2023-02-24-16-33-41_analysisOutput\\\\Fenobam_DIO_r2.7_17_30_50_signalPeaks.csv']\n"
     ]
    },
    {
     "name": "stderr",
     "output_type": "stream",
     "text": [
      "\r",
      " 69%|█████████████████████████████████████████████████████████▍                         | 9/13 [00:23<00:10,  2.72s/it]"
     ]
    },
    {
     "name": "stdout",
     "output_type": "stream",
     "text": [
      "DIO_r2.8_16_00_28\n",
      "['F:\\\\\\\\JJM\\\\\\\\miniscope_analysis\\\\\\\\mGluR5_NAM\\\\\\\\clustering_analysis\\\\\\\\all_frames_2023-02-24-16-33-41_analysisOutput\\\\Fenobam_DIO_r2.8_16_00_28_signalPeaks.csv']\n"
     ]
    },
    {
     "name": "stderr",
     "output_type": "stream",
     "text": [
      "\r",
      " 77%|███████████████████████████████████████████████████████████████                   | 10/13 [00:26<00:07,  2.65s/it]"
     ]
    },
    {
     "name": "stdout",
     "output_type": "stream",
     "text": [
      "DIO_r2.8_16_30_39\n",
      "['F:\\\\\\\\JJM\\\\\\\\miniscope_analysis\\\\\\\\mGluR5_NAM\\\\\\\\clustering_analysis\\\\\\\\all_frames_2023-02-24-16-33-41_analysisOutput\\\\Fenobam_DIO_r2.8_16_30_39_signalPeaks.csv']\n"
     ]
    },
    {
     "name": "stderr",
     "output_type": "stream",
     "text": [
      "\r",
      " 85%|█████████████████████████████████████████████████████████████████████▍            | 11/13 [00:28<00:04,  2.49s/it]"
     ]
    },
    {
     "name": "stdout",
     "output_type": "stream",
     "text": [
      "DIO_r2.14_14_00_13\n",
      "['F:\\\\\\\\JJM\\\\\\\\miniscope_analysis\\\\\\\\mGluR5_NAM\\\\\\\\clustering_analysis\\\\\\\\all_frames_2023-02-24-16-33-41_analysisOutput\\\\Fenobam_DIO_r2.14_14_00_13_signalPeaks.csv']\n"
     ]
    },
    {
     "name": "stderr",
     "output_type": "stream",
     "text": [
      "\r",
      " 92%|███████████████████████████████████████████████████████████████████████████▋      | 12/13 [00:33<00:03,  3.46s/it]"
     ]
    },
    {
     "name": "stdout",
     "output_type": "stream",
     "text": [
      "DIO_r2.14_14_30_28\n",
      "['F:\\\\\\\\JJM\\\\\\\\miniscope_analysis\\\\\\\\mGluR5_NAM\\\\\\\\clustering_analysis\\\\\\\\all_frames_2023-02-24-16-33-41_analysisOutput\\\\Fenobam_DIO_r2.14_14_30_28_signalPeaks.csv']\n"
     ]
    },
    {
     "name": "stderr",
     "output_type": "stream",
     "text": [
      "100%|██████████████████████████████████████████████████████████████████████████████████| 13/13 [00:34<00:00,  2.65s/it]\n"
     ]
    }
   ],
   "source": [
    "sessionDfsDict = {}\n",
    "for session in tqdm(session_list):\n",
    "    print(session)\n",
    "    print(glob.glob(data_directory+ '*'+ session+'_signalPeaks.csv'))\n",
    "    fmatch = glob.glob(data_directory+ '*'+ session+'_signalPeaks.csv')[0]\n",
    "    signalPeaksSession = pd.read_csv(fmatch)\n",
    "    sessionEventRate = getEventRateForAnimals(signalPeaksSession)\n",
    "    sessionDfsDict[session] = sessionEventRate"
   ]
  },
  {
   "cell_type": "code",
   "execution_count": 58,
   "id": "8bd99521",
   "metadata": {},
   "outputs": [
    {
     "data": {
      "text/plain": [
       "[<matplotlib.lines.Line2D at 0x13d43c74400>]"
      ]
     },
     "execution_count": 58,
     "metadata": {},
     "output_type": "execute_result"
    },
    {
     "data": {
      "image/png": "[encoded data removed]",
      "text/plain": [
       "<Figure size 432x288 with 1 Axes>"
      ]
     },
     "metadata": {
      "needs_background": "light"
     },
     "output_type": "display_data"
    }
   ],
   "source": [
    "plt.plot(sessionDfsDict['DIO_r2.8_16_45_11'].mean(axis=0))"
   ]
  },
  {
   "cell_type": "code",
   "execution_count": 59,
   "id": "9f2f44fb",
   "metadata": {},
   "outputs": [
    {
     "data": {
      "text/plain": [
       "[<matplotlib.lines.Line2D at 0x13d43ba1cf0>]"
      ]
     },
     "execution_count": 59,
     "metadata": {},
     "output_type": "execute_result"
    },
    {
     "data": {
      "image/png": "[encoded data removed]",
      "text/plain": [
       "<Figure size 432x288 with 1 Axes>"
      ]
     },
     "metadata": {
      "needs_background": "light"
     },
     "output_type": "display_data"
    }
   ],
   "source": [
    "plt.plot(sessionDfsDict['DIO_r2.8_16_45_11'].mean(axis=0))"
   ]
  },
  {
   "cell_type": "code",
   "execution_count": 60,
   "id": "3fb294be",
   "metadata": {},
   "outputs": [
    {
     "data": {
      "text/plain": [
       "{'DIO_r2.7_15_20_30':     0     1     2     3     4     5     6     7     8     9     ...  8908  \\\n",
       " 0    0.0   0.0   0.0   1.0   1.0   1.0   1.0   0.0   0.0   0.0  ...   0.0   \n",
       " 1    1.0   1.0   0.0   0.0   0.0   0.0   0.0   0.0   0.0   0.0  ...   0.0   \n",
       " 2    0.0   0.0   0.0   0.0   0.0   0.0   0.0   0.0   0.0   0.0  ...   0.0   \n",
       " 3    0.0   0.0   0.0   0.0   0.0   0.0   0.0   0.0   0.0   0.0  ...   0.0   \n",
       " 4    1.0   1.0   0.0   0.0   0.0   0.0   0.0   0.0   0.0   0.0  ...   0.0   \n",
       " ..   ...   ...   ...   ...   ...   ...   ...   ...   ...   ...  ...   ...   \n",
       " 60   0.0   0.0   0.0   0.0   0.0   0.0   0.0   0.0   0.0   0.0  ...   0.0   \n",
       " 61   0.0   0.0   0.0   0.0   0.0   0.0   0.0   0.0   0.0   0.0  ...   0.0   \n",
       " 62   0.0   0.0   0.0   0.0   0.0   0.0   0.0   0.0   0.0   0.0  ...   0.0   \n",
       " 63   0.0   0.0   0.0   0.0   0.0   0.0   0.0   0.0   0.0   0.0  ...   0.0   \n",
       " 64   0.0   0.0   0.0   0.0   0.0   0.0   0.0   0.0   0.0   0.0  ...   0.0   \n",
       " \n",
       "     8909  8910  8911  8912  8913  8914  8915  8916  8917  \n",
       " 0    0.0   0.0   0.0   0.0   0.0   0.0   0.0   0.0   0.0  \n",
       " 1    0.0   0.0   0.0   0.0   0.0   0.0   0.0   0.0   0.0  \n",
       " 2    0.0   0.0   0.0   0.0   0.0   0.0   0.0   0.0   0.0  \n",
       " 3    0.0   0.0   0.0   0.0   0.0   0.0   0.0   0.0   0.0  \n",
       " 4    0.0   0.0   0.0   0.0   0.0   0.0   0.0   0.0   0.0  \n",
       " ..   ...   ...   ...   ...   ...   ...   ...   ...   ...  \n",
       " 60   0.0   0.0   0.0   0.0   0.0   0.0   0.0   0.0   0.0  \n",
       " 61   0.0   0.0   0.0   0.0   0.0   0.0   0.0   1.0   1.0  \n",
       " 62   0.0   0.0   0.0   0.0   0.0   0.0   0.0   0.0   0.0  \n",
       " 63   0.0   0.0   0.0   0.0   0.0   0.0   0.0   0.0   0.0  \n",
       " 64   0.0   0.0   0.0   0.0   0.0   0.0   0.0   0.0   1.0  \n",
       " \n",
       " [65 rows x 8918 columns],\n",
       " 'DIO_r2.7_15_51_07':     0     1     2     3     4     5     6     7     8     9     ...  8904  \\\n",
       " 0    0.0   0.0   0.0   0.0   0.0   0.0   0.0   0.0   0.0   0.0  ...   0.0   \n",
       " 1    0.0   0.0   0.0   0.0   0.0   0.0   0.0   0.0   0.0   0.0  ...   0.0   \n",
       " 2    0.0   0.0   0.0   0.0   0.0   0.0   0.0   0.0   0.0   0.0  ...   0.0   \n",
       " 3    0.0   0.0   0.0   0.0   0.0   0.0   0.0   0.0   0.0   0.0  ...   0.0   \n",
       " 4    0.0   0.0   0.0   0.0   0.0   0.0   0.0   0.0   0.0   0.0  ...   0.0   \n",
       " 5    0.0   0.0   0.0   0.0   0.0   0.0   0.0   0.0   0.0   0.0  ...   0.0   \n",
       " 6    0.0   0.0   0.0   0.0   0.0   0.0   0.0   0.0   0.0   0.0  ...   0.0   \n",
       " 7    0.0   0.0   0.0   0.0   0.0   0.0   0.0   0.0   0.0   0.0  ...   0.0   \n",
       " 8    0.0   0.0   0.0   0.0   0.0   0.0   0.0   0.0   0.0   0.0  ...   0.0   \n",
       " 9    0.0   0.0   0.0   0.0   0.0   0.0   0.0   0.0   0.0   0.0  ...   0.0   \n",
       " 10   0.0   0.0   0.0   0.0   0.0   0.0   0.0   0.0   0.0   0.0  ...   0.0   \n",
       " 11   0.0   0.0   0.0   0.0   0.0   0.0   0.0   0.0   0.0   0.0  ...   0.0   \n",
       " 12   0.0   0.0   0.0   0.0   0.0   0.0   0.0   0.0   0.0   0.0  ...   0.0   \n",
       " 13   0.0   0.0   0.0   0.0   0.0   0.0   0.0   0.0   0.0   0.0  ...   0.0   \n",
       " 14   0.0   0.0   0.0   0.0   0.0   0.0   0.0   0.0   0.0   0.0  ...   0.0   \n",
       " 15   0.0   0.0   0.0   0.0   0.0   0.0   0.0   0.0   0.0   0.0  ...   0.0   \n",
       " 16   0.0   0.0   0.0   0.0   0.0   0.0   0.0   0.0   0.0   0.0  ...   0.0   \n",
       " 17   0.0   0.0   0.0   0.0   0.0   0.0   0.0   0.0   0.0   0.0  ...   0.0   \n",
       " 18   0.0   0.0   0.0   0.0   0.0   0.0   0.0   0.0   0.0   0.0  ...   0.0   \n",
       " 19   0.0   0.0   0.0   0.0   0.0   0.0   0.0   0.0   0.0   0.0  ...   0.0   \n",
       " 20   0.0   0.0   0.0   0.0   0.0   0.0   0.0   0.0   0.0   0.0  ...   0.0   \n",
       " 21   0.0   0.0   0.0   0.0   0.0   0.0   0.0   0.0   0.0   0.0  ...   0.0   \n",
       " 22   0.0   0.0   0.0   0.0   0.0   0.0   0.0   0.0   0.0   0.0  ...   0.0   \n",
       " 23   0.0   0.0   0.0   0.0   0.0   0.0   0.0   0.0   0.0   0.0  ...   0.0   \n",
       " 24   0.0   0.0   0.0   0.0   0.0   0.0   0.0   0.0   0.0   0.0  ...   0.0   \n",
       " 25   0.0   0.0   0.0   0.0   0.0   0.0   0.0   0.0   0.0   0.0  ...   0.0   \n",
       " 26   0.0   0.0   0.0   0.0   0.0   0.0   0.0   0.0   0.0   0.0  ...   0.0   \n",
       " 27   0.0   0.0   0.0   0.0   0.0   0.0   0.0   0.0   0.0   0.0  ...   0.0   \n",
       " 28   0.0   0.0   0.0   0.0   0.0   0.0   0.0   0.0   0.0   0.0  ...   0.0   \n",
       " 29   0.0   0.0   0.0   0.0   0.0   0.0   0.0   0.0   0.0   0.0  ...   0.0   \n",
       " 30   0.0   0.0   0.0   0.0   0.0   0.0   0.0   0.0   0.0   0.0  ...   0.0   \n",
       " \n",
       "     8905  8906  8907  8908  8909  8910  8911  8912  8913  \n",
       " 0    0.0   0.0   0.0   0.0   0.0   0.0   0.0   0.0   0.0  \n",
       " 1    0.0   0.0   0.0   0.0   0.0   0.0   0.0   0.0   0.0  \n",
       " 2    0.0   0.0   0.0   0.0   0.0   0.0   0.0   0.0   0.0  \n",
       " 3    0.0   0.0   0.0   0.0   0.0   0.0   0.0   0.0   0.0  \n",
       " 4    0.0   0.0   0.0   0.0   0.0   0.0   0.0   0.0   0.0  \n",
       " 5    0.0   0.0   0.0   0.0   0.0   0.0   0.0   0.0   0.0  \n",
       " 6    0.0   0.0   0.0   0.0   0.0   0.0   0.0   0.0   0.0  \n",
       " 7    0.0   0.0   0.0   0.0   0.0   0.0   0.0   0.0   0.0  \n",
       " 8    0.0   0.0   0.0   0.0   0.0   0.0   0.0   0.0   0.0  \n",
       " 9    0.0   0.0   0.0   0.0   0.0   0.0   0.0   0.0   0.0  \n",
       " 10   0.0   0.0   0.0   0.0   0.0   0.0   0.0   0.0   0.0  \n",
       " 11   0.0   0.0   0.0   0.0   0.0   0.0   0.0   0.0   0.0  \n",
       " 12   0.0   0.0   0.0   0.0   0.0   0.0   0.0   0.0   0.0  \n",
       " 13   0.0   0.0   0.0   0.0   0.0   0.0   0.0   0.0   0.0  \n",
       " 14   0.0   0.0   0.0   0.0   0.0   0.0   0.0   0.0   0.0  \n",
       " 15   0.0   0.0   0.0   0.0   0.0   0.0   0.0   0.0   0.0  \n",
       " 16   0.0   0.0   0.0   0.0   0.0   0.0   0.0   0.0   0.0  \n",
       " 17   0.0   0.0   0.0   0.0   0.0   0.0   0.0   0.0   0.0  \n",
       " 18   0.0   0.0   0.0   0.0   0.0   0.0   0.0   0.0   0.0  \n",
       " 19   0.0   0.0   0.0   0.0   0.0   0.0   0.0   0.0   0.0  \n",
       " 20   0.0   0.0   0.0   0.0   0.0   0.0   0.0   0.0   0.0  \n",
       " 21   0.0   0.0   0.0   0.0   0.0   0.0   0.0   0.0   0.0  \n",
       " 22   0.0   0.0   0.0   0.0   0.0   0.0   0.0   0.0   0.0  \n",
       " 23   0.0   0.0   0.0   0.0   0.0   0.0   0.0   0.0   0.0  \n",
       " 24   0.0   0.0   0.0   0.0   0.0   0.0   0.0   0.0   0.0  \n",
       " 25   0.0   0.0   0.0   0.0   0.0   0.0   0.0   0.0   0.0  \n",
       " 26   0.0   0.0   0.0   0.0   0.0   0.0   0.0   0.0   0.0  \n",
       " 27   0.0   0.0   0.0   0.0   0.0   0.0   0.0   0.0   0.0  \n",
       " 28   0.0   0.0   0.0   0.0   0.0   0.0   0.0   0.0   0.0  \n",
       " 29   0.0   0.0   0.0   0.0   0.0   0.0   0.0   0.0   0.0  \n",
       " 30   0.0   0.0   0.0   0.0   0.0   0.0   0.0   0.0   0.0  \n",
       " \n",
       " [31 rows x 8914 columns],\n",
       " 'DIO_r2.8_16_45_11':     0     1     2     3     4     5     6     7     8     9     ...  8906  \\\n",
       " 0    1.0   1.0   1.0   0.0   0.0   0.0   0.0   0.0   0.0   0.0  ...   0.0   \n",
       " 1    1.0   1.0   1.0   0.0   0.0   0.0   0.0   0.0   0.0   0.0  ...   0.0   \n",
       " 2    0.0   0.0   0.0   0.0   0.0   0.0   0.0   0.0   0.0   0.0  ...   0.0   \n",
       " 3    0.0   0.0   0.0   0.0   0.0   0.0   0.0   0.0   0.0   0.0  ...   0.0   \n",
       " 4    0.0   0.0   0.0   0.0   1.0   1.0   1.0   1.0   0.0   0.0  ...   0.0   \n",
       " 5    0.0   0.0   1.0   1.0   1.0   1.0   0.0   0.0   0.0   0.0  ...   0.0   \n",
       " 6    0.0   0.0   0.0   0.0   0.0   0.0   0.0   0.0   0.0   0.0  ...   0.0   \n",
       " 7    0.0   0.0   0.0   0.0   0.0   1.0   1.0   1.0   1.0   0.0  ...   0.0   \n",
       " 8    0.0   0.0   0.0   0.0   0.0   0.0   0.0   0.0   0.0   0.0  ...   0.0   \n",
       " 9    0.0   0.0   0.0   0.0   0.0   0.0   0.0   0.0   0.0   0.0  ...   0.0   \n",
       " 10   0.0   0.0   0.0   0.0   1.0   1.0   1.0   1.0   0.0   0.0  ...   0.0   \n",
       " 11   0.0   0.0   0.0   0.0   1.0   1.0   1.0   1.0   0.0   0.0  ...   0.0   \n",
       " 12   0.0   0.0   0.0   0.0   0.0   0.0   0.0   0.0   0.0   0.0  ...   0.0   \n",
       " 13   0.0   0.0   0.0   0.0   0.0   0.0   0.0   0.0   0.0   0.0  ...   0.0   \n",
       " 14   0.0   0.0   0.0   0.0   0.0   0.0   0.0   0.0   0.0   0.0  ...   0.0   \n",
       " 15   0.0   0.0   0.0   0.0   0.0   0.0   0.0   0.0   0.0   0.0  ...   0.0   \n",
       " 16   0.0   0.0   0.0   0.0   0.0   0.0   0.0   0.0   0.0   0.0  ...   0.0   \n",
       " 17   0.0   0.0   0.0   0.0   0.0   0.0   0.0   0.0   0.0   0.0  ...   0.0   \n",
       " 18   0.0   0.0   0.0   0.0   1.0   1.0   1.0   1.0   0.0   0.0  ...   0.0   \n",
       " 19   0.0   0.0   0.0   0.0   0.0   0.0   0.0   0.0   0.0   0.0  ...   0.0   \n",
       " 20   0.0   0.0   0.0   0.0   0.0   0.0   0.0   0.0   0.0   0.0  ...   0.0   \n",
       " \n",
       "     8907  8908  8909  8910  8911  8912  8913  8914  8915  \n",
       " 0    0.0   0.0   0.0   0.0   0.0   0.0   0.0   0.0   0.0  \n",
       " 1    0.0   0.0   0.0   0.0   0.0   0.0   0.0   0.0   0.0  \n",
       " 2    0.0   0.0   0.0   0.0   0.0   0.0   0.0   0.0   0.0  \n",
       " 3    0.0   0.0   0.0   0.0   0.0   0.0   0.0   0.0   0.0  \n",
       " 4    0.0   0.0   0.0   0.0   0.0   0.0   0.0   0.0   0.0  \n",
       " 5    0.0   0.0   0.0   0.0   0.0   0.0   0.0   0.0   0.0  \n",
       " 6    0.0   0.0   0.0   0.0   0.0   0.0   0.0   0.0   0.0  \n",
       " 7    0.0   0.0   0.0   0.0   0.0   0.0   0.0   0.0   0.0  \n",
       " 8    0.0   0.0   0.0   0.0   0.0   0.0   0.0   0.0   0.0  \n",
       " 9    0.0   0.0   0.0   0.0   0.0   0.0   0.0   0.0   0.0  \n",
       " 10   0.0   0.0   0.0   0.0   0.0   0.0   0.0   0.0   0.0  \n",
       " 11   0.0   0.0   0.0   0.0   0.0   0.0   0.0   0.0   0.0  \n",
       " 12   0.0   0.0   0.0   0.0   0.0   0.0   0.0   0.0   0.0  \n",
       " 13   0.0   0.0   0.0   0.0   0.0   0.0   0.0   0.0   0.0  \n",
       " 14   0.0   0.0   0.0   0.0   0.0   0.0   0.0   0.0   0.0  \n",
       " 15   0.0   0.0   0.0   0.0   0.0   0.0   0.0   0.0   0.0  \n",
       " 16   0.0   0.0   0.0   0.0   0.0   0.0   0.0   0.0   0.0  \n",
       " 17   0.0   0.0   0.0   0.0   0.0   0.0   0.0   0.0   0.0  \n",
       " 18   0.0   0.0   0.0   0.0   0.0   0.0   0.0   0.0   0.0  \n",
       " 19   0.0   0.0   0.0   0.0   0.0   0.0   0.0   0.0   0.0  \n",
       " 20   0.0   0.0   0.0   0.0   0.0   0.0   0.0   0.0   0.0  \n",
       " \n",
       " [21 rows x 8916 columns],\n",
       " 'DIO_r2.8_17_16_03':     0     1     2     3     4     5     6     7     8     9     ...  6235  \\\n",
       " 0    0.0   0.0   0.0   0.0   0.0   0.0   0.0   0.0   0.0   0.0  ...   0.0   \n",
       " 1    0.0   0.0   0.0   0.0   0.0   0.0   0.0   0.0   0.0   0.0  ...   0.0   \n",
       " 2    0.0   0.0   0.0   0.0   0.0   0.0   0.0   0.0   0.0   0.0  ...   0.0   \n",
       " 3    0.0   0.0   0.0   0.0   0.0   0.0   0.0   0.0   0.0   0.0  ...   0.0   \n",
       " 4    0.0   0.0   0.0   0.0   0.0   0.0   0.0   0.0   0.0   0.0  ...   0.0   \n",
       " 5    0.0   0.0   0.0   0.0   0.0   0.0   0.0   0.0   0.0   0.0  ...   0.0   \n",
       " 6    0.0   0.0   0.0   0.0   0.0   0.0   0.0   0.0   0.0   0.0  ...   0.0   \n",
       " 7    0.0   0.0   0.0   0.0   0.0   0.0   0.0   0.0   0.0   0.0  ...   0.0   \n",
       " 8    0.0   0.0   0.0   0.0   0.0   0.0   1.0   1.0   1.0   1.0  ...   0.0   \n",
       " 9    0.0   0.0   0.0   0.0   0.0   0.0   0.0   0.0   0.0   0.0  ...   0.0   \n",
       " 10   0.0   0.0   0.0   0.0   0.0   0.0   0.0   0.0   0.0   0.0  ...   0.0   \n",
       " 11   0.0   0.0   0.0   0.0   0.0   0.0   0.0   0.0   0.0   1.0  ...   0.0   \n",
       " 12   0.0   0.0   0.0   0.0   0.0   0.0   0.0   0.0   0.0   0.0  ...   0.0   \n",
       " 13   0.0   0.0   0.0   0.0   0.0   0.0   0.0   0.0   0.0   0.0  ...   0.0   \n",
       " 14   0.0   0.0   0.0   0.0   0.0   0.0   0.0   0.0   0.0   0.0  ...   0.0   \n",
       " 15   0.0   0.0   0.0   0.0   0.0   0.0   1.0   1.0   1.0   1.0  ...   0.0   \n",
       " 16   0.0   0.0   0.0   0.0   0.0   0.0   0.0   0.0   0.0   0.0  ...   0.0   \n",
       " 17   0.0   0.0   0.0   0.0   0.0   0.0   0.0   0.0   1.0   1.0  ...   0.0   \n",
       " 18   0.0   0.0   0.0   0.0   0.0   0.0   0.0   0.0   0.0   0.0  ...   0.0   \n",
       " \n",
       "     6236  6237  6238  6239  6240  6241  6242  6243  6244  \n",
       " 0    0.0   0.0   0.0   0.0   0.0   0.0   0.0   0.0   0.0  \n",
       " 1    0.0   0.0   0.0   0.0   0.0   0.0   0.0   0.0   0.0  \n",
       " 2    0.0   0.0   0.0   0.0   0.0   0.0   0.0   0.0   0.0  \n",
       " 3    0.0   0.0   0.0   0.0   0.0   0.0   0.0   0.0   0.0  \n",
       " 4    0.0   0.0   0.0   0.0   0.0   0.0   0.0   0.0   0.0  \n",
       " 5    0.0   0.0   0.0   0.0   0.0   0.0   0.0   0.0   0.0  \n",
       " 6    0.0   0.0   0.0   0.0   0.0   0.0   0.0   0.0   0.0  \n",
       " 7    0.0   0.0   0.0   0.0   0.0   0.0   0.0   0.0   0.0  \n",
       " 8    0.0   0.0   0.0   0.0   0.0   0.0   0.0   0.0   0.0  \n",
       " 9    0.0   0.0   0.0   0.0   0.0   0.0   0.0   0.0   0.0  \n",
       " 10   0.0   0.0   0.0   0.0   0.0   0.0   0.0   0.0   0.0  \n",
       " 11   0.0   0.0   0.0   0.0   0.0   0.0   0.0   0.0   0.0  \n",
       " 12   0.0   0.0   0.0   0.0   0.0   0.0   0.0   0.0   0.0  \n",
       " 13   0.0   0.0   0.0   0.0   0.0   0.0   0.0   0.0   0.0  \n",
       " 14   0.0   0.0   0.0   0.0   0.0   0.0   0.0   0.0   0.0  \n",
       " 15   0.0   0.0   0.0   0.0   0.0   0.0   0.0   0.0   0.0  \n",
       " 16   0.0   0.0   0.0   0.0   0.0   0.0   0.0   0.0   0.0  \n",
       " 17   0.0   0.0   0.0   0.0   0.0   0.0   0.0   0.0   0.0  \n",
       " 18   0.0   0.0   0.0   0.0   0.0   0.0   0.0   0.0   0.0  \n",
       " \n",
       " [19 rows x 6245 columns],\n",
       " 'DIO_r2.14_17_25_26':     0     1     2     3     4     5     6     7     8     9     ...  4453  \\\n",
       " 0    0.0   0.0   0.0   0.0   0.0   0.0   0.0   0.0   0.0   0.0  ...   0.0   \n",
       " 1    0.0   0.0   0.0   0.0   0.0   0.0   0.0   0.0   0.0   0.0  ...   0.0   \n",
       " 2    0.0   0.0   0.0   0.0   0.0   0.0   0.0   0.0   0.0   0.0  ...   0.0   \n",
       " 3    0.0   0.0   0.0   0.0   0.0   0.0   0.0   0.0   0.0   0.0  ...   0.0   \n",
       " 4    0.0   0.0   0.0   0.0   0.0   0.0   0.0   0.0   0.0   0.0  ...   0.0   \n",
       " 5    0.0   0.0   0.0   0.0   0.0   0.0   0.0   0.0   0.0   0.0  ...   0.0   \n",
       " 6    0.0   0.0   0.0   0.0   0.0   0.0   0.0   0.0   0.0   0.0  ...   0.0   \n",
       " 7    0.0   0.0   0.0   0.0   0.0   0.0   0.0   0.0   0.0   0.0  ...   0.0   \n",
       " 8    0.0   0.0   0.0   0.0   0.0   0.0   0.0   0.0   0.0   0.0  ...   0.0   \n",
       " 9    0.0   0.0   0.0   0.0   0.0   0.0   0.0   0.0   0.0   0.0  ...   0.0   \n",
       " 10   0.0   0.0   0.0   0.0   0.0   0.0   0.0   0.0   0.0   0.0  ...   0.0   \n",
       " 11   0.0   0.0   0.0   0.0   0.0   0.0   0.0   0.0   0.0   0.0  ...   0.0   \n",
       " 12   0.0   0.0   0.0   0.0   0.0   0.0   0.0   0.0   0.0   0.0  ...   0.0   \n",
       " 13   0.0   0.0   0.0   0.0   0.0   0.0   0.0   0.0   0.0   0.0  ...   0.0   \n",
       " 14   0.0   0.0   0.0   0.0   0.0   0.0   0.0   0.0   0.0   0.0  ...   0.0   \n",
       " 15   0.0   0.0   0.0   0.0   0.0   0.0   0.0   0.0   0.0   0.0  ...   0.0   \n",
       " 16   0.0   0.0   0.0   0.0   0.0   0.0   0.0   0.0   0.0   0.0  ...   0.0   \n",
       " 17   0.0   0.0   0.0   0.0   0.0   0.0   0.0   0.0   0.0   0.0  ...   0.0   \n",
       " 18   0.0   0.0   0.0   0.0   0.0   0.0   0.0   0.0   0.0   0.0  ...   0.0   \n",
       " 19   0.0   0.0   0.0   0.0   0.0   0.0   0.0   0.0   0.0   0.0  ...   0.0   \n",
       " 20   0.0   0.0   0.0   0.0   0.0   0.0   0.0   0.0   0.0   0.0  ...   0.0   \n",
       " 21   0.0   0.0   0.0   0.0   0.0   0.0   0.0   0.0   0.0   0.0  ...   0.0   \n",
       " 22   0.0   0.0   0.0   0.0   0.0   0.0   0.0   0.0   0.0   0.0  ...   0.0   \n",
       " 23   0.0   0.0   0.0   0.0   0.0   0.0   0.0   0.0   0.0   0.0  ...   0.0   \n",
       " 24   0.0   0.0   0.0   0.0   0.0   0.0   0.0   0.0   0.0   0.0  ...   0.0   \n",
       " 25   0.0   0.0   0.0   0.0   0.0   0.0   0.0   0.0   0.0   0.0  ...   0.0   \n",
       " 26   0.0   0.0   0.0   0.0   0.0   0.0   0.0   0.0   0.0   0.0  ...   0.0   \n",
       " 27   0.0   0.0   0.0   0.0   0.0   0.0   0.0   0.0   0.0   0.0  ...   0.0   \n",
       " 28   0.0   0.0   0.0   0.0   0.0   0.0   0.0   0.0   0.0   0.0  ...   0.0   \n",
       " 29   0.0   0.0   0.0   0.0   0.0   0.0   0.0   0.0   0.0   0.0  ...   0.0   \n",
       " 30   0.0   0.0   0.0   0.0   0.0   0.0   0.0   0.0   0.0   0.0  ...   0.0   \n",
       " 31   0.0   0.0   0.0   0.0   0.0   0.0   0.0   0.0   0.0   0.0  ...   0.0   \n",
       " 32   0.0   0.0   0.0   0.0   0.0   0.0   0.0   0.0   0.0   0.0  ...   0.0   \n",
       " 33   0.0   0.0   0.0   0.0   0.0   0.0   0.0   0.0   0.0   0.0  ...   0.0   \n",
       " 34   0.0   0.0   0.0   0.0   0.0   0.0   0.0   0.0   0.0   0.0  ...   0.0   \n",
       " 35   0.0   0.0   0.0   0.0   0.0   0.0   0.0   0.0   0.0   0.0  ...   0.0   \n",
       " 36   0.0   0.0   0.0   0.0   0.0   0.0   0.0   0.0   0.0   0.0  ...   0.0   \n",
       " 37   0.0   0.0   0.0   0.0   0.0   0.0   0.0   0.0   0.0   0.0  ...   0.0   \n",
       " 38   0.0   0.0   0.0   0.0   0.0   0.0   0.0   0.0   0.0   0.0  ...   0.0   \n",
       " 39   0.0   0.0   0.0   0.0   0.0   0.0   0.0   0.0   0.0   0.0  ...   0.0   \n",
       " \n",
       "     4454  4455  4456  4457  4458  4459  4460  4461  4462  \n",
       " 0    0.0   0.0   0.0   0.0   0.0   0.0   0.0   0.0   0.0  \n",
       " 1    0.0   0.0   0.0   0.0   0.0   0.0   0.0   0.0   0.0  \n",
       " 2    0.0   0.0   0.0   0.0   0.0   0.0   0.0   0.0   0.0  \n",
       " 3    0.0   0.0   0.0   0.0   0.0   0.0   0.0   0.0   0.0  \n",
       " 4    0.0   0.0   0.0   0.0   0.0   0.0   0.0   0.0   0.0  \n",
       " 5    0.0   0.0   0.0   0.0   0.0   0.0   0.0   0.0   0.0  \n",
       " 6    0.0   0.0   0.0   0.0   0.0   0.0   0.0   0.0   0.0  \n",
       " 7    0.0   0.0   0.0   0.0   0.0   0.0   0.0   0.0   0.0  \n",
       " 8    0.0   0.0   0.0   0.0   0.0   0.0   0.0   0.0   0.0  \n",
       " 9    0.0   0.0   0.0   0.0   0.0   0.0   0.0   0.0   0.0  \n",
       " 10   0.0   0.0   0.0   0.0   0.0   0.0   0.0   0.0   0.0  \n",
       " 11   0.0   0.0   0.0   0.0   0.0   0.0   0.0   0.0   0.0  \n",
       " 12   0.0   0.0   0.0   0.0   0.0   0.0   0.0   0.0   0.0  \n",
       " 13   0.0   0.0   0.0   0.0   0.0   0.0   0.0   0.0   0.0  \n",
       " 14   0.0   0.0   0.0   0.0   0.0   0.0   0.0   0.0   0.0  \n",
       " 15   0.0   0.0   0.0   0.0   0.0   0.0   0.0   0.0   0.0  \n",
       " 16   0.0   0.0   0.0   0.0   0.0   0.0   0.0   0.0   0.0  \n",
       " 17   0.0   0.0   0.0   0.0   0.0   0.0   0.0   0.0   0.0  \n",
       " 18   0.0   0.0   0.0   0.0   0.0   0.0   0.0   0.0   0.0  \n",
       " 19   0.0   0.0   0.0   0.0   0.0   0.0   0.0   0.0   0.0  \n",
       " 20   0.0   0.0   0.0   0.0   0.0   0.0   0.0   0.0   0.0  \n",
       " 21   0.0   0.0   0.0   0.0   0.0   0.0   0.0   0.0   0.0  \n",
       " 22   0.0   0.0   0.0   0.0   0.0   0.0   0.0   0.0   0.0  \n",
       " 23   0.0   0.0   0.0   0.0   0.0   0.0   0.0   0.0   0.0  \n",
       " 24   0.0   0.0   0.0   0.0   0.0   0.0   0.0   1.0   1.0  \n",
       " 25   0.0   0.0   0.0   0.0   0.0   0.0   0.0   0.0   0.0  \n",
       " 26   0.0   0.0   0.0   0.0   0.0   0.0   0.0   0.0   0.0  \n",
       " 27   0.0   0.0   0.0   0.0   0.0   0.0   0.0   0.0   0.0  \n",
       " 28   0.0   0.0   0.0   0.0   0.0   0.0   0.0   0.0   0.0  \n",
       " 29   0.0   0.0   0.0   0.0   0.0   0.0   0.0   0.0   0.0  \n",
       " 30   0.0   0.0   0.0   0.0   0.0   0.0   0.0   0.0   0.0  \n",
       " 31   0.0   0.0   0.0   0.0   0.0   0.0   0.0   0.0   0.0  \n",
       " 32   0.0   0.0   0.0   0.0   0.0   0.0   0.0   0.0   0.0  \n",
       " 33   0.0   0.0   0.0   0.0   0.0   0.0   0.0   0.0   0.0  \n",
       " 34   0.0   0.0   0.0   0.0   0.0   0.0   0.0   0.0   0.0  \n",
       " 35   0.0   0.0   0.0   0.0   0.0   0.0   0.0   0.0   0.0  \n",
       " 36   0.0   0.0   0.0   0.0   0.0   0.0   0.0   0.0   0.0  \n",
       " 37   0.0   0.0   0.0   0.0   0.0   0.0   0.0   0.0   0.0  \n",
       " 38   0.0   0.0   0.0   0.0   0.0   0.0   0.0   0.0   0.0  \n",
       " 39   0.0   0.0   0.0   0.0   0.0   0.0   0.0   0.0   0.0  \n",
       " \n",
       " [40 rows x 4463 columns],\n",
       " 'DIO_r2.14_17_40_46':     0     1     2     3     4     5     6     7     8     9     ...  8906  \\\n",
       " 0    0.0   0.0   0.0   0.0   0.0   0.0   0.0   0.0   0.0   0.0  ...   0.0   \n",
       " 1    0.0   0.0   0.0   0.0   0.0   0.0   0.0   0.0   0.0   0.0  ...   0.0   \n",
       " 2    0.0   0.0   0.0   0.0   0.0   0.0   0.0   0.0   0.0   0.0  ...   0.0   \n",
       " 3    0.0   0.0   0.0   0.0   0.0   0.0   0.0   0.0   0.0   0.0  ...   0.0   \n",
       " 4    0.0   0.0   0.0   0.0   0.0   0.0   0.0   0.0   0.0   0.0  ...   0.0   \n",
       " 5    0.0   0.0   0.0   0.0   0.0   0.0   0.0   0.0   0.0   0.0  ...   0.0   \n",
       " 6    0.0   0.0   0.0   0.0   0.0   0.0   0.0   0.0   0.0   0.0  ...   0.0   \n",
       " 7    0.0   0.0   0.0   0.0   0.0   0.0   0.0   0.0   0.0   0.0  ...   0.0   \n",
       " 8    1.0   1.0   0.0   0.0   0.0   0.0   0.0   0.0   0.0   0.0  ...   0.0   \n",
       " 9    0.0   0.0   0.0   0.0   0.0   0.0   0.0   0.0   0.0   0.0  ...   0.0   \n",
       " 10   0.0   0.0   0.0   0.0   0.0   0.0   0.0   0.0   0.0   0.0  ...   0.0   \n",
       " 11   0.0   0.0   0.0   0.0   0.0   0.0   0.0   0.0   0.0   0.0  ...   0.0   \n",
       " 12   0.0   0.0   0.0   0.0   0.0   0.0   0.0   0.0   0.0   0.0  ...   0.0   \n",
       " 13   0.0   0.0   0.0   0.0   0.0   0.0   0.0   0.0   0.0   0.0  ...   0.0   \n",
       " 14   0.0   0.0   0.0   0.0   0.0   0.0   0.0   0.0   0.0   0.0  ...   0.0   \n",
       " 15   0.0   0.0   0.0   0.0   0.0   0.0   0.0   0.0   0.0   0.0  ...   0.0   \n",
       " 16   0.0   0.0   0.0   0.0   0.0   0.0   0.0   0.0   0.0   0.0  ...   0.0   \n",
       " 17   0.0   0.0   0.0   0.0   0.0   0.0   0.0   0.0   0.0   0.0  ...   0.0   \n",
       " \n",
       "     8907  8908  8909  8910  8911  8912  8913  8914  8915  \n",
       " 0    0.0   0.0   0.0   0.0   0.0   0.0   0.0   0.0   0.0  \n",
       " 1    0.0   0.0   0.0   0.0   0.0   0.0   0.0   0.0   0.0  \n",
       " 2    0.0   0.0   0.0   0.0   0.0   0.0   0.0   0.0   0.0  \n",
       " 3    0.0   0.0   0.0   0.0   0.0   0.0   0.0   0.0   0.0  \n",
       " 4    0.0   0.0   0.0   0.0   0.0   0.0   0.0   0.0   0.0  \n",
       " 5    0.0   0.0   0.0   0.0   0.0   0.0   0.0   0.0   0.0  \n",
       " 6    0.0   0.0   0.0   0.0   0.0   0.0   0.0   0.0   0.0  \n",
       " 7    0.0   0.0   0.0   0.0   0.0   0.0   0.0   0.0   0.0  \n",
       " 8    0.0   0.0   0.0   0.0   0.0   0.0   0.0   0.0   0.0  \n",
       " 9    0.0   0.0   0.0   0.0   0.0   0.0   0.0   0.0   0.0  \n",
       " 10   0.0   0.0   0.0   0.0   0.0   0.0   0.0   0.0   0.0  \n",
       " 11   0.0   0.0   0.0   0.0   0.0   0.0   0.0   0.0   0.0  \n",
       " 12   0.0   0.0   0.0   0.0   0.0   0.0   0.0   0.0   0.0  \n",
       " 13   0.0   0.0   0.0   0.0   0.0   0.0   0.0   0.0   0.0  \n",
       " 14   0.0   0.0   0.0   0.0   0.0   0.0   0.0   0.0   0.0  \n",
       " 15   0.0   0.0   0.0   0.0   0.0   0.0   0.0   0.0   0.0  \n",
       " 16   0.0   0.0   0.0   0.0   0.0   0.0   0.0   0.0   0.0  \n",
       " 17   0.0   0.0   0.0   0.0   0.0   0.0   0.0   0.0   0.0  \n",
       " \n",
       " [18 rows x 8916 columns],\n",
       " 'DIO_r2.14_18_11_01':     0     1     2     3     4     5     6     7     8     9     ...  5235  \\\n",
       " 0    0.0   0.0   0.0   0.0   0.0   0.0   0.0   0.0   0.0   0.0  ...   0.0   \n",
       " 1    0.0   0.0   0.0   0.0   0.0   0.0   0.0   0.0   0.0   0.0  ...   0.0   \n",
       " 2    0.0   0.0   0.0   0.0   0.0   0.0   0.0   0.0   0.0   0.0  ...   0.0   \n",
       " 3    0.0   0.0   0.0   0.0   0.0   0.0   0.0   0.0   0.0   0.0  ...   0.0   \n",
       " 4    0.0   0.0   0.0   0.0   0.0   0.0   0.0   0.0   0.0   0.0  ...   0.0   \n",
       " 5    0.0   0.0   0.0   0.0   0.0   0.0   0.0   0.0   0.0   0.0  ...   0.0   \n",
       " 6    0.0   0.0   0.0   0.0   0.0   0.0   0.0   0.0   0.0   0.0  ...   0.0   \n",
       " 7    0.0   0.0   0.0   0.0   0.0   0.0   0.0   0.0   0.0   0.0  ...   0.0   \n",
       " 8    0.0   0.0   0.0   0.0   0.0   0.0   0.0   0.0   0.0   0.0  ...   0.0   \n",
       " 9    0.0   0.0   0.0   0.0   0.0   0.0   0.0   0.0   0.0   0.0  ...   0.0   \n",
       " 10   0.0   0.0   0.0   0.0   0.0   0.0   0.0   0.0   0.0   0.0  ...   0.0   \n",
       " 11   0.0   0.0   0.0   0.0   0.0   0.0   0.0   0.0   0.0   0.0  ...   0.0   \n",
       " 12   0.0   0.0   0.0   0.0   0.0   0.0   0.0   0.0   0.0   0.0  ...   0.0   \n",
       " 13   0.0   0.0   0.0   0.0   0.0   0.0   0.0   0.0   0.0   0.0  ...   0.0   \n",
       " 14   0.0   0.0   0.0   0.0   0.0   0.0   0.0   0.0   0.0   0.0  ...   0.0   \n",
       " 15   0.0   0.0   0.0   0.0   0.0   0.0   0.0   0.0   0.0   0.0  ...   0.0   \n",
       " 16   0.0   0.0   0.0   0.0   0.0   0.0   0.0   0.0   0.0   0.0  ...   0.0   \n",
       " 17   0.0   0.0   0.0   0.0   0.0   0.0   0.0   0.0   0.0   0.0  ...   0.0   \n",
       " 18   0.0   0.0   0.0   0.0   0.0   0.0   0.0   0.0   0.0   0.0  ...   0.0   \n",
       " 19   0.0   0.0   0.0   0.0   0.0   0.0   0.0   0.0   0.0   0.0  ...   0.0   \n",
       " 20   0.0   0.0   0.0   0.0   0.0   0.0   0.0   0.0   0.0   0.0  ...   0.0   \n",
       " 21   0.0   0.0   0.0   0.0   0.0   0.0   0.0   0.0   0.0   0.0  ...   0.0   \n",
       " 22   0.0   0.0   0.0   0.0   0.0   0.0   0.0   0.0   0.0   0.0  ...   0.0   \n",
       " 23   0.0   0.0   0.0   0.0   0.0   0.0   0.0   0.0   0.0   0.0  ...   0.0   \n",
       " 24   0.0   0.0   0.0   0.0   0.0   0.0   0.0   0.0   0.0   0.0  ...   0.0   \n",
       " 25   0.0   0.0   0.0   0.0   0.0   0.0   0.0   0.0   0.0   0.0  ...   0.0   \n",
       " \n",
       "     5236  5237  5238  5239  5240  5241  5242  5243  5244  \n",
       " 0    0.0   0.0   0.0   0.0   0.0   0.0   0.0   0.0   0.0  \n",
       " 1    0.0   0.0   0.0   0.0   0.0   0.0   0.0   0.0   0.0  \n",
       " 2    0.0   0.0   0.0   0.0   0.0   0.0   0.0   0.0   0.0  \n",
       " 3    0.0   0.0   0.0   0.0   0.0   0.0   0.0   0.0   0.0  \n",
       " 4    0.0   0.0   0.0   0.0   0.0   0.0   0.0   0.0   0.0  \n",
       " 5    0.0   0.0   0.0   0.0   0.0   0.0   0.0   0.0   0.0  \n",
       " 6    0.0   0.0   0.0   0.0   0.0   0.0   0.0   0.0   0.0  \n",
       " 7    0.0   0.0   0.0   0.0   0.0   0.0   0.0   0.0   0.0  \n",
       " 8    0.0   0.0   0.0   0.0   0.0   0.0   0.0   0.0   0.0  \n",
       " 9    0.0   0.0   0.0   0.0   0.0   0.0   0.0   0.0   0.0  \n",
       " 10   0.0   0.0   0.0   0.0   0.0   0.0   0.0   0.0   0.0  \n",
       " 11   0.0   0.0   0.0   0.0   0.0   0.0   0.0   0.0   0.0  \n",
       " 12   0.0   0.0   0.0   0.0   0.0   0.0   0.0   0.0   0.0  \n",
       " 13   0.0   0.0   0.0   0.0   0.0   0.0   0.0   0.0   0.0  \n",
       " 14   0.0   0.0   0.0   0.0   0.0   0.0   0.0   0.0   0.0  \n",
       " 15   0.0   0.0   0.0   0.0   0.0   0.0   0.0   0.0   0.0  \n",
       " 16   0.0   0.0   0.0   0.0   0.0   0.0   0.0   0.0   0.0  \n",
       " 17   0.0   0.0   0.0   0.0   0.0   0.0   0.0   0.0   0.0  \n",
       " 18   0.0   0.0   0.0   0.0   0.0   0.0   0.0   0.0   0.0  \n",
       " 19   0.0   0.0   0.0   0.0   0.0   0.0   0.0   0.0   0.0  \n",
       " 20   0.0   0.0   0.0   0.0   0.0   0.0   0.0   0.0   0.0  \n",
       " 21   0.0   0.0   0.0   0.0   0.0   0.0   0.0   0.0   0.0  \n",
       " 22   0.0   0.0   0.0   0.0   0.0   0.0   0.0   0.0   0.0  \n",
       " 23   0.0   0.0   0.0   0.0   0.0   0.0   0.0   0.0   0.0  \n",
       " 24   0.0   0.0   0.0   0.0   0.0   0.0   0.0   0.0   0.0  \n",
       " 25   0.0   0.0   0.0   0.0   0.0   0.0   0.0   0.0   0.0  \n",
       " \n",
       " [26 rows x 5245 columns],\n",
       " 'DIO_r2.7_17_00_12':     0     1     2     3     4     5     6     7     8     9     ...  8880  \\\n",
       " 0    0.0   0.0   0.0   0.0   0.0   0.0   0.0   0.0   0.0   0.0  ...   0.0   \n",
       " 1    0.0   0.0   0.0   0.0   0.0   0.0   0.0   0.0   0.0   0.0  ...   0.0   \n",
       " 2    1.0   0.0   0.0   0.0   0.0   0.0   0.0   0.0   1.0   1.0  ...   0.0   \n",
       " 3    0.0   0.0   0.0   0.0   0.0   0.0   0.0   0.0   0.0   0.0  ...   0.0   \n",
       " 4    0.0   0.0   0.0   0.0   0.0   0.0   0.0   0.0   0.0   0.0  ...   0.0   \n",
       " ..   ...   ...   ...   ...   ...   ...   ...   ...   ...   ...  ...   ...   \n",
       " 71   0.0   0.0   0.0   0.0   0.0   0.0   0.0   0.0   0.0   0.0  ...   0.0   \n",
       " 72   0.0   0.0   0.0   0.0   0.0   0.0   0.0   0.0   0.0   0.0  ...   0.0   \n",
       " 73   1.0   1.0   0.0   0.0   0.0   0.0   0.0   0.0   0.0   0.0  ...   0.0   \n",
       " 74   0.0   0.0   0.0   0.0   0.0   0.0   0.0   0.0   0.0   0.0  ...   0.0   \n",
       " 75   0.0   0.0   0.0   0.0   0.0   0.0   0.0   0.0   0.0   0.0  ...   0.0   \n",
       " \n",
       "     8881  8882  8883  8884  8885  8886  8887  8888  8889  \n",
       " 0    0.0   0.0   0.0   0.0   0.0   0.0   0.0   0.0   0.0  \n",
       " 1    0.0   0.0   0.0   0.0   0.0   0.0   0.0   0.0   0.0  \n",
       " 2    0.0   0.0   0.0   0.0   0.0   0.0   0.0   0.0   0.0  \n",
       " 3    0.0   0.0   0.0   0.0   0.0   0.0   0.0   0.0   0.0  \n",
       " 4    0.0   0.0   0.0   0.0   0.0   0.0   0.0   0.0   0.0  \n",
       " ..   ...   ...   ...   ...   ...   ...   ...   ...   ...  \n",
       " 71   0.0   0.0   0.0   0.0   0.0   0.0   0.0   0.0   0.0  \n",
       " 72   0.0   0.0   0.0   0.0   0.0   0.0   0.0   0.0   0.0  \n",
       " 73   0.0   0.0   0.0   0.0   0.0   0.0   0.0   0.0   0.0  \n",
       " 74   0.0   0.0   0.0   0.0   0.0   0.0   0.0   0.0   0.0  \n",
       " 75   0.0   0.0   1.0   1.0   1.0   1.0   0.0   0.0   0.0  \n",
       " \n",
       " [76 rows x 8890 columns],\n",
       " 'DIO_r2.7_17_30_50':     0     1     2     3     4     5     6     7     8     9     ...  8879  \\\n",
       " 0    0.0   0.0   0.0   0.0   0.0   0.0   0.0   0.0   0.0   0.0  ...   0.0   \n",
       " 1    0.0   0.0   0.0   0.0   0.0   0.0   0.0   0.0   0.0   0.0  ...   0.0   \n",
       " 2    0.0   0.0   0.0   0.0   0.0   0.0   0.0   0.0   0.0   0.0  ...   0.0   \n",
       " 3    0.0   0.0   0.0   0.0   0.0   0.0   0.0   0.0   0.0   0.0  ...   0.0   \n",
       " 4    0.0   0.0   0.0   0.0   0.0   0.0   0.0   0.0   0.0   0.0  ...   0.0   \n",
       " 5    0.0   0.0   0.0   0.0   0.0   0.0   0.0   0.0   0.0   0.0  ...   0.0   \n",
       " 6    0.0   0.0   0.0   0.0   0.0   0.0   0.0   0.0   0.0   0.0  ...   0.0   \n",
       " 7    0.0   0.0   0.0   0.0   0.0   0.0   0.0   0.0   0.0   0.0  ...   0.0   \n",
       " 8    0.0   0.0   0.0   0.0   0.0   0.0   0.0   0.0   0.0   0.0  ...   0.0   \n",
       " 9    0.0   0.0   0.0   0.0   0.0   0.0   0.0   0.0   0.0   0.0  ...   0.0   \n",
       " 10   0.0   0.0   0.0   0.0   0.0   0.0   0.0   0.0   0.0   0.0  ...   0.0   \n",
       " 11   0.0   0.0   0.0   0.0   0.0   0.0   0.0   0.0   0.0   0.0  ...   0.0   \n",
       " 12   0.0   0.0   0.0   0.0   0.0   0.0   0.0   0.0   0.0   0.0  ...   0.0   \n",
       " 13   0.0   0.0   0.0   0.0   0.0   0.0   0.0   0.0   0.0   0.0  ...   0.0   \n",
       " 14   0.0   0.0   0.0   0.0   0.0   0.0   0.0   0.0   0.0   0.0  ...   0.0   \n",
       " 15   0.0   0.0   0.0   0.0   0.0   0.0   0.0   0.0   0.0   0.0  ...   0.0   \n",
       " 16   0.0   0.0   0.0   0.0   0.0   0.0   0.0   0.0   0.0   0.0  ...   0.0   \n",
       " 17   0.0   0.0   0.0   0.0   0.0   0.0   0.0   0.0   0.0   0.0  ...   0.0   \n",
       " 18   0.0   0.0   0.0   0.0   0.0   0.0   0.0   0.0   0.0   0.0  ...   0.0   \n",
       " 19   0.0   0.0   0.0   0.0   0.0   0.0   0.0   0.0   0.0   0.0  ...   0.0   \n",
       " 20   0.0   0.0   0.0   0.0   0.0   0.0   0.0   0.0   0.0   0.0  ...   0.0   \n",
       " 21   0.0   0.0   0.0   0.0   0.0   0.0   0.0   0.0   0.0   0.0  ...   0.0   \n",
       " 22   0.0   0.0   0.0   0.0   0.0   0.0   0.0   0.0   0.0   0.0  ...   0.0   \n",
       " 23   0.0   0.0   0.0   0.0   0.0   0.0   0.0   0.0   0.0   0.0  ...   0.0   \n",
       " \n",
       "     8880  8881  8882  8883  8884  8885  8886  8887  8888  \n",
       " 0    0.0   0.0   0.0   0.0   0.0   0.0   0.0   0.0   0.0  \n",
       " 1    0.0   0.0   0.0   0.0   0.0   0.0   0.0   0.0   0.0  \n",
       " 2    0.0   0.0   0.0   0.0   0.0   0.0   0.0   0.0   0.0  \n",
       " 3    0.0   0.0   0.0   0.0   0.0   0.0   0.0   0.0   0.0  \n",
       " 4    0.0   0.0   0.0   0.0   0.0   0.0   0.0   0.0   0.0  \n",
       " 5    0.0   0.0   0.0   0.0   0.0   0.0   0.0   0.0   0.0  \n",
       " 6    0.0   0.0   0.0   0.0   0.0   0.0   0.0   0.0   0.0  \n",
       " 7    0.0   0.0   0.0   0.0   0.0   0.0   0.0   0.0   0.0  \n",
       " 8    0.0   0.0   0.0   0.0   0.0   0.0   0.0   0.0   0.0  \n",
       " 9    0.0   0.0   0.0   0.0   0.0   0.0   0.0   0.0   0.0  \n",
       " 10   0.0   0.0   0.0   0.0   0.0   0.0   0.0   0.0   0.0  \n",
       " 11   0.0   0.0   0.0   0.0   0.0   0.0   0.0   0.0   0.0  \n",
       " 12   0.0   0.0   0.0   0.0   0.0   0.0   0.0   0.0   0.0  \n",
       " 13   0.0   0.0   0.0   0.0   0.0   0.0   0.0   0.0   0.0  \n",
       " 14   0.0   0.0   0.0   0.0   0.0   0.0   0.0   0.0   0.0  \n",
       " 15   0.0   0.0   0.0   0.0   0.0   0.0   0.0   0.0   0.0  \n",
       " 16   0.0   0.0   0.0   0.0   0.0   0.0   0.0   0.0   0.0  \n",
       " 17   0.0   0.0   0.0   0.0   0.0   0.0   0.0   0.0   0.0  \n",
       " 18   0.0   0.0   0.0   0.0   0.0   0.0   0.0   0.0   0.0  \n",
       " 19   0.0   0.0   0.0   0.0   0.0   0.0   0.0   0.0   0.0  \n",
       " 20   0.0   0.0   0.0   0.0   0.0   1.0   1.0   1.0   1.0  \n",
       " 21   0.0   0.0   0.0   0.0   0.0   0.0   0.0   0.0   0.0  \n",
       " 22   0.0   0.0   0.0   0.0   0.0   0.0   0.0   0.0   0.0  \n",
       " 23   0.0   0.0   0.0   0.0   0.0   0.0   0.0   0.0   0.0  \n",
       " \n",
       " [24 rows x 8889 columns],\n",
       " 'DIO_r2.8_16_00_28':     0     1     2     3     4     5     6     7     8     9     ...  8883  \\\n",
       " 0    0.0   0.0   0.0   0.0   0.0   0.0   0.0   0.0   0.0   0.0  ...   0.0   \n",
       " 1    0.0   1.0   1.0   1.0   1.0   0.0   0.0   0.0   0.0   0.0  ...   0.0   \n",
       " 2    0.0   1.0   1.0   1.0   1.0   0.0   0.0   0.0   0.0   0.0  ...   0.0   \n",
       " 3    0.0   0.0   0.0   0.0   0.0   0.0   0.0   0.0   0.0   0.0  ...   0.0   \n",
       " 4    0.0   0.0   0.0   0.0   0.0   0.0   0.0   0.0   0.0   0.0  ...   0.0   \n",
       " 5    0.0   0.0   0.0   0.0   0.0   0.0   0.0   0.0   0.0   0.0  ...   0.0   \n",
       " 6    0.0   0.0   0.0   0.0   0.0   0.0   0.0   0.0   0.0   0.0  ...   0.0   \n",
       " 7    0.0   0.0   0.0   0.0   0.0   0.0   0.0   0.0   0.0   0.0  ...   0.0   \n",
       " 8    0.0   0.0   0.0   0.0   0.0   0.0   0.0   0.0   0.0   0.0  ...   0.0   \n",
       " 9    0.0   0.0   0.0   0.0   0.0   0.0   0.0   0.0   0.0   0.0  ...   0.0   \n",
       " 10   0.0   0.0   0.0   0.0   0.0   0.0   0.0   0.0   0.0   0.0  ...   0.0   \n",
       " 11   0.0   0.0   0.0   0.0   0.0   0.0   0.0   0.0   0.0   0.0  ...   0.0   \n",
       " 12   0.0   0.0   0.0   0.0   0.0   0.0   0.0   0.0   0.0   0.0  ...   0.0   \n",
       " 13   0.0   0.0   0.0   0.0   0.0   0.0   0.0   0.0   0.0   0.0  ...   0.0   \n",
       " 14   0.0   0.0   0.0   0.0   0.0   0.0   0.0   0.0   0.0   0.0  ...   0.0   \n",
       " 15   0.0   0.0   0.0   0.0   0.0   0.0   0.0   0.0   0.0   0.0  ...   0.0   \n",
       " 16   0.0   0.0   0.0   0.0   0.0   0.0   0.0   0.0   0.0   0.0  ...   0.0   \n",
       " 17   0.0   0.0   0.0   0.0   0.0   0.0   0.0   0.0   0.0   0.0  ...   0.0   \n",
       " 18   0.0   0.0   0.0   0.0   0.0   0.0   0.0   0.0   0.0   0.0  ...   0.0   \n",
       " 19   0.0   0.0   0.0   0.0   0.0   0.0   0.0   0.0   0.0   0.0  ...   0.0   \n",
       " 20   0.0   0.0   0.0   0.0   0.0   0.0   0.0   0.0   0.0   0.0  ...   0.0   \n",
       " 21   0.0   0.0   0.0   0.0   0.0   0.0   0.0   0.0   0.0   0.0  ...   0.0   \n",
       " 22   0.0   0.0   0.0   0.0   0.0   0.0   0.0   0.0   0.0   0.0  ...   0.0   \n",
       " 23   0.0   0.0   0.0   0.0   0.0   0.0   0.0   0.0   0.0   0.0  ...   0.0   \n",
       " 24   0.0   0.0   0.0   0.0   0.0   0.0   0.0   0.0   0.0   0.0  ...   0.0   \n",
       " \n",
       "     8884  8885  8886  8887  8888  8889  8890  8891  8892  \n",
       " 0    0.0   0.0   0.0   0.0   0.0   0.0   0.0   0.0   0.0  \n",
       " 1    0.0   0.0   0.0   0.0   0.0   0.0   0.0   0.0   0.0  \n",
       " 2    0.0   0.0   0.0   0.0   0.0   0.0   0.0   0.0   0.0  \n",
       " 3    0.0   0.0   0.0   0.0   0.0   0.0   0.0   0.0   0.0  \n",
       " 4    0.0   0.0   0.0   0.0   0.0   0.0   0.0   0.0   0.0  \n",
       " 5    0.0   0.0   0.0   0.0   0.0   0.0   0.0   0.0   0.0  \n",
       " 6    0.0   0.0   0.0   0.0   0.0   0.0   0.0   0.0   0.0  \n",
       " 7    0.0   0.0   0.0   0.0   0.0   0.0   0.0   0.0   0.0  \n",
       " 8    0.0   0.0   0.0   0.0   0.0   0.0   0.0   0.0   0.0  \n",
       " 9    0.0   0.0   0.0   0.0   0.0   0.0   0.0   0.0   0.0  \n",
       " 10   0.0   0.0   0.0   0.0   0.0   0.0   0.0   0.0   0.0  \n",
       " 11   0.0   0.0   0.0   0.0   0.0   0.0   0.0   0.0   1.0  \n",
       " 12   0.0   0.0   0.0   0.0   0.0   0.0   0.0   0.0   0.0  \n",
       " 13   0.0   0.0   0.0   0.0   0.0   0.0   0.0   0.0   0.0  \n",
       " 14   0.0   0.0   0.0   0.0   0.0   0.0   0.0   0.0   0.0  \n",
       " 15   0.0   0.0   0.0   0.0   0.0   0.0   0.0   0.0   0.0  \n",
       " 16   0.0   0.0   0.0   0.0   0.0   0.0   0.0   0.0   0.0  \n",
       " 17   0.0   0.0   0.0   0.0   0.0   0.0   0.0   0.0   0.0  \n",
       " 18   0.0   0.0   0.0   0.0   0.0   0.0   0.0   0.0   0.0  \n",
       " 19   0.0   0.0   0.0   0.0   0.0   0.0   0.0   0.0   0.0  \n",
       " 20   0.0   0.0   0.0   0.0   0.0   0.0   0.0   0.0   0.0  \n",
       " 21   0.0   0.0   0.0   0.0   0.0   0.0   0.0   0.0   1.0  \n",
       " 22   0.0   0.0   0.0   0.0   0.0   0.0   0.0   0.0   1.0  \n",
       " 23   0.0   0.0   0.0   0.0   0.0   0.0   0.0   0.0   0.0  \n",
       " 24   0.0   0.0   0.0   0.0   0.0   0.0   0.0   0.0   0.0  \n",
       " \n",
       " [25 rows x 8893 columns],\n",
       " 'DIO_r2.8_16_30_39':     0     1     2     3     4     5     6     7     8     9     ...  8885  \\\n",
       " 0    0.0   0.0   0.0   0.0   0.0   0.0   0.0   0.0   0.0   0.0  ...   0.0   \n",
       " 1    0.0   0.0   0.0   0.0   0.0   0.0   0.0   0.0   0.0   0.0  ...   0.0   \n",
       " 2    0.0   0.0   0.0   0.0   0.0   0.0   0.0   0.0   0.0   0.0  ...   0.0   \n",
       " 3    0.0   0.0   0.0   0.0   0.0   0.0   0.0   0.0   0.0   0.0  ...   0.0   \n",
       " 4    0.0   0.0   0.0   0.0   0.0   0.0   0.0   0.0   0.0   0.0  ...   0.0   \n",
       " 5    0.0   0.0   0.0   0.0   0.0   0.0   0.0   0.0   0.0   0.0  ...   0.0   \n",
       " 6    0.0   0.0   0.0   0.0   0.0   0.0   0.0   0.0   0.0   0.0  ...   0.0   \n",
       " 7    0.0   0.0   0.0   0.0   0.0   0.0   0.0   0.0   0.0   0.0  ...   0.0   \n",
       " 8    0.0   0.0   0.0   0.0   0.0   0.0   0.0   0.0   0.0   0.0  ...   0.0   \n",
       " 9    1.0   1.0   1.0   1.0   0.0   0.0   0.0   0.0   0.0   0.0  ...   0.0   \n",
       " 10   0.0   0.0   0.0   0.0   0.0   0.0   0.0   0.0   0.0   0.0  ...   0.0   \n",
       " 11   0.0   0.0   0.0   0.0   0.0   0.0   0.0   0.0   0.0   0.0  ...   0.0   \n",
       " 12   0.0   0.0   0.0   0.0   0.0   0.0   0.0   0.0   0.0   0.0  ...   0.0   \n",
       " 13   0.0   0.0   0.0   0.0   0.0   0.0   0.0   0.0   0.0   0.0  ...   0.0   \n",
       " 14   0.0   0.0   0.0   0.0   0.0   0.0   0.0   0.0   0.0   0.0  ...   0.0   \n",
       " 15   0.0   0.0   0.0   0.0   0.0   0.0   0.0   0.0   0.0   0.0  ...   0.0   \n",
       " \n",
       "     8886  8887  8888  8889  8890  8891  8892  8893  8894  \n",
       " 0    0.0   0.0   0.0   0.0   0.0   0.0   0.0   0.0   0.0  \n",
       " 1    0.0   0.0   0.0   0.0   0.0   0.0   0.0   0.0   0.0  \n",
       " 2    0.0   0.0   0.0   0.0   0.0   0.0   0.0   0.0   0.0  \n",
       " 3    0.0   0.0   0.0   0.0   0.0   0.0   0.0   0.0   0.0  \n",
       " 4    0.0   0.0   0.0   0.0   0.0   0.0   0.0   0.0   0.0  \n",
       " 5    0.0   0.0   0.0   0.0   0.0   0.0   0.0   0.0   0.0  \n",
       " 6    0.0   0.0   0.0   0.0   0.0   0.0   0.0   0.0   0.0  \n",
       " 7    0.0   0.0   0.0   0.0   0.0   0.0   0.0   0.0   0.0  \n",
       " 8    0.0   0.0   0.0   0.0   0.0   0.0   0.0   0.0   0.0  \n",
       " 9    0.0   0.0   0.0   0.0   0.0   0.0   0.0   0.0   0.0  \n",
       " 10   0.0   0.0   0.0   0.0   0.0   0.0   0.0   0.0   0.0  \n",
       " 11   0.0   0.0   0.0   0.0   0.0   0.0   0.0   0.0   0.0  \n",
       " 12   0.0   0.0   0.0   0.0   0.0   0.0   0.0   0.0   0.0  \n",
       " 13   0.0   0.0   0.0   0.0   0.0   0.0   0.0   0.0   0.0  \n",
       " 14   0.0   0.0   0.0   0.0   0.0   0.0   0.0   0.0   0.0  \n",
       " 15   0.0   0.0   0.0   0.0   0.0   0.0   0.0   0.0   0.0  \n",
       " \n",
       " [16 rows x 8895 columns],\n",
       " 'DIO_r2.14_14_00_13':     0     1     2     3     4     5     6     7     8     9     ...  8906  \\\n",
       " 0    0.0   0.0   0.0   0.0   0.0   0.0   0.0   0.0   0.0   0.0  ...   0.0   \n",
       " 1    0.0   0.0   0.0   0.0   0.0   0.0   0.0   0.0   0.0   0.0  ...   0.0   \n",
       " 2    0.0   0.0   0.0   0.0   0.0   0.0   0.0   0.0   0.0   0.0  ...   0.0   \n",
       " 3    0.0   0.0   0.0   0.0   0.0   0.0   0.0   0.0   0.0   0.0  ...   0.0   \n",
       " 4    0.0   0.0   0.0   0.0   0.0   0.0   0.0   0.0   0.0   0.0  ...   0.0   \n",
       " ..   ...   ...   ...   ...   ...   ...   ...   ...   ...   ...  ...   ...   \n",
       " 79   0.0   0.0   0.0   0.0   0.0   0.0   0.0   0.0   0.0   0.0  ...   0.0   \n",
       " 80   0.0   0.0   0.0   0.0   0.0   0.0   0.0   0.0   0.0   0.0  ...   0.0   \n",
       " 81   0.0   0.0   0.0   0.0   0.0   0.0   0.0   0.0   0.0   0.0  ...   0.0   \n",
       " 82   0.0   0.0   0.0   0.0   0.0   0.0   0.0   0.0   0.0   0.0  ...   0.0   \n",
       " 83   0.0   0.0   0.0   0.0   0.0   0.0   0.0   0.0   0.0   0.0  ...   0.0   \n",
       " \n",
       "     8907  8908  8909  8910  8911  8912  8913  8914  8915  \n",
       " 0    0.0   0.0   0.0   0.0   0.0   0.0   0.0   0.0   0.0  \n",
       " 1    0.0   0.0   0.0   0.0   0.0   0.0   0.0   0.0   0.0  \n",
       " 2    0.0   0.0   0.0   0.0   0.0   0.0   0.0   0.0   0.0  \n",
       " 3    0.0   0.0   0.0   0.0   0.0   0.0   0.0   0.0   0.0  \n",
       " 4    0.0   0.0   0.0   0.0   0.0   0.0   0.0   0.0   0.0  \n",
       " ..   ...   ...   ...   ...   ...   ...   ...   ...   ...  \n",
       " 79   0.0   0.0   0.0   0.0   0.0   0.0   0.0   0.0   0.0  \n",
       " 80   0.0   0.0   0.0   0.0   1.0   1.0   1.0   1.0   0.0  \n",
       " 81   0.0   0.0   0.0   0.0   0.0   0.0   0.0   0.0   0.0  \n",
       " 82   0.0   0.0   0.0   0.0   0.0   0.0   0.0   0.0   0.0  \n",
       " 83   0.0   0.0   0.0   0.0   0.0   0.0   0.0   0.0   0.0  \n",
       " \n",
       " [84 rows x 8916 columns],\n",
       " 'DIO_r2.14_14_30_28':     0     1     2     3     4     5     6     7     8     9     ...  2485  \\\n",
       " 0    0.0   0.0   0.0   1.0   1.0   1.0   1.0   0.0   0.0   0.0  ...   0.0   \n",
       " 1    0.0   0.0   0.0   0.0   0.0   0.0   0.0   0.0   0.0   0.0  ...   0.0   \n",
       " 2    0.0   0.0   0.0   0.0   0.0   0.0   0.0   0.0   0.0   0.0  ...   0.0   \n",
       " 3    0.0   0.0   0.0   0.0   0.0   0.0   0.0   0.0   0.0   0.0  ...   0.0   \n",
       " 4    0.0   0.0   0.0   0.0   0.0   0.0   0.0   0.0   0.0   0.0  ...   0.0   \n",
       " 5    0.0   0.0   0.0   0.0   0.0   0.0   0.0   0.0   0.0   0.0  ...   0.0   \n",
       " 6    0.0   0.0   0.0   0.0   0.0   0.0   0.0   0.0   0.0   0.0  ...   0.0   \n",
       " 7    0.0   0.0   0.0   0.0   0.0   0.0   0.0   0.0   0.0   0.0  ...   0.0   \n",
       " 8    0.0   0.0   0.0   0.0   0.0   0.0   0.0   0.0   0.0   0.0  ...   0.0   \n",
       " 9    0.0   0.0   0.0   0.0   0.0   0.0   0.0   0.0   0.0   0.0  ...   1.0   \n",
       " 10   0.0   0.0   0.0   0.0   0.0   0.0   0.0   0.0   0.0   0.0  ...   0.0   \n",
       " 11   0.0   0.0   1.0   1.0   1.0   1.0   0.0   0.0   0.0   0.0  ...   0.0   \n",
       " 12   0.0   0.0   0.0   0.0   0.0   0.0   0.0   0.0   0.0   0.0  ...   0.0   \n",
       " 13   0.0   0.0   0.0   0.0   0.0   0.0   0.0   0.0   0.0   0.0  ...   0.0   \n",
       " 14   0.0   0.0   0.0   0.0   0.0   0.0   0.0   0.0   0.0   0.0  ...   0.0   \n",
       " 15   0.0   0.0   0.0   0.0   0.0   0.0   0.0   0.0   0.0   0.0  ...   0.0   \n",
       " 16   0.0   0.0   0.0   0.0   0.0   0.0   0.0   0.0   0.0   0.0  ...   0.0   \n",
       " 17   0.0   0.0   0.0   0.0   0.0   0.0   0.0   0.0   0.0   0.0  ...   0.0   \n",
       " 18   0.0   0.0   0.0   0.0   0.0   0.0   0.0   0.0   0.0   0.0  ...   0.0   \n",
       " 19   0.0   0.0   0.0   0.0   0.0   0.0   0.0   0.0   0.0   0.0  ...   0.0   \n",
       " 20   0.0   0.0   0.0   0.0   0.0   0.0   0.0   0.0   0.0   0.0  ...   0.0   \n",
       " 21   0.0   1.0   1.0   1.0   1.0   0.0   0.0   0.0   0.0   0.0  ...   0.0   \n",
       " 22   0.0   0.0   0.0   0.0   0.0   0.0   0.0   0.0   0.0   0.0  ...   0.0   \n",
       " 23   0.0   0.0   0.0   0.0   0.0   0.0   0.0   0.0   0.0   0.0  ...   0.0   \n",
       " 24   0.0   0.0   0.0   0.0   0.0   0.0   0.0   0.0   0.0   0.0  ...   0.0   \n",
       " 25   0.0   0.0   0.0   0.0   0.0   0.0   0.0   0.0   0.0   0.0  ...   0.0   \n",
       " 26   0.0   0.0   0.0   0.0   0.0   0.0   0.0   0.0   0.0   0.0  ...   0.0   \n",
       " 27   0.0   0.0   0.0   0.0   0.0   0.0   0.0   0.0   0.0   0.0  ...   0.0   \n",
       " 28   0.0   0.0   0.0   0.0   0.0   0.0   0.0   0.0   0.0   0.0  ...   0.0   \n",
       " 29   0.0   0.0   0.0   0.0   0.0   0.0   0.0   0.0   0.0   0.0  ...   0.0   \n",
       " 30   0.0   0.0   0.0   0.0   0.0   0.0   0.0   0.0   0.0   0.0  ...   0.0   \n",
       " 31   0.0   0.0   0.0   0.0   0.0   0.0   0.0   0.0   0.0   0.0  ...   0.0   \n",
       " 32   0.0   0.0   0.0   0.0   0.0   0.0   0.0   0.0   0.0   0.0  ...   0.0   \n",
       " \n",
       "     2486  2487  2488  2489  2490  2491  2492  2493  2494  \n",
       " 0    0.0   0.0   0.0   0.0   0.0   0.0   0.0   0.0   0.0  \n",
       " 1    0.0   0.0   0.0   0.0   0.0   0.0   0.0   0.0   0.0  \n",
       " 2    0.0   0.0   0.0   0.0   0.0   0.0   0.0   0.0   0.0  \n",
       " 3    0.0   0.0   0.0   0.0   0.0   0.0   0.0   1.0   1.0  \n",
       " 4    0.0   0.0   0.0   0.0   0.0   0.0   0.0   0.0   0.0  \n",
       " 5    0.0   0.0   0.0   0.0   0.0   0.0   0.0   0.0   1.0  \n",
       " 6    0.0   0.0   0.0   0.0   0.0   0.0   0.0   0.0   0.0  \n",
       " 7    0.0   0.0   0.0   0.0   0.0   0.0   0.0   1.0   1.0  \n",
       " 8    0.0   0.0   0.0   0.0   0.0   0.0   0.0   0.0   0.0  \n",
       " 9    0.0   0.0   0.0   0.0   0.0   0.0   0.0   0.0   0.0  \n",
       " 10   0.0   0.0   0.0   0.0   0.0   0.0   0.0   0.0   0.0  \n",
       " 11   0.0   0.0   0.0   0.0   0.0   0.0   0.0   0.0   0.0  \n",
       " 12   0.0   0.0   0.0   0.0   0.0   0.0   0.0   0.0   0.0  \n",
       " 13   0.0   0.0   0.0   0.0   0.0   0.0   0.0   0.0   0.0  \n",
       " 14   0.0   0.0   0.0   0.0   0.0   0.0   0.0   1.0   1.0  \n",
       " 15   0.0   0.0   0.0   0.0   0.0   0.0   0.0   0.0   0.0  \n",
       " 16   0.0   0.0   0.0   0.0   0.0   0.0   0.0   0.0   0.0  \n",
       " 17   0.0   0.0   0.0   0.0   0.0   0.0   0.0   0.0   0.0  \n",
       " 18   0.0   0.0   0.0   0.0   0.0   0.0   0.0   0.0   0.0  \n",
       " 19   0.0   0.0   0.0   0.0   0.0   0.0   0.0   0.0   0.0  \n",
       " 20   0.0   0.0   0.0   0.0   0.0   0.0   0.0   0.0   0.0  \n",
       " 21   0.0   0.0   0.0   0.0   0.0   0.0   0.0   0.0   0.0  \n",
       " 22   0.0   0.0   0.0   0.0   0.0   0.0   0.0   0.0   0.0  \n",
       " 23   0.0   0.0   0.0   0.0   0.0   0.0   0.0   0.0   0.0  \n",
       " 24   0.0   0.0   0.0   0.0   0.0   0.0   0.0   0.0   0.0  \n",
       " 25   0.0   0.0   0.0   0.0   0.0   0.0   0.0   0.0   0.0  \n",
       " 26   0.0   0.0   0.0   0.0   0.0   0.0   0.0   0.0   0.0  \n",
       " 27   0.0   0.0   0.0   0.0   0.0   0.0   0.0   0.0   0.0  \n",
       " 28   0.0   0.0   0.0   0.0   0.0   0.0   0.0   1.0   1.0  \n",
       " 29   0.0   0.0   0.0   0.0   0.0   0.0   0.0   0.0   0.0  \n",
       " 30   0.0   0.0   0.0   0.0   0.0   0.0   0.0   0.0   0.0  \n",
       " 31   0.0   0.0   0.0   0.0   0.0   0.0   0.0   0.0   0.0  \n",
       " 32   0.0   0.0   0.0   0.0   0.0   0.0   0.0   0.0   0.0  \n",
       " \n",
       " [33 rows x 2495 columns]}"
      ]
     },
     "execution_count": 60,
     "metadata": {},
     "output_type": "execute_result"
    }
   ],
   "source": [
    "sessionDfsDict"
   ]
  },
  {
   "cell_type": "code",
   "execution_count": 72,
   "id": "07f36696",
   "metadata": {},
   "outputs": [],
   "source": [
    "## bin by v bins\n",
    "#get indicies corresponding to particular v bins\n",
    "vBinFolder = r'F:\\\\JJM\\\\miniscope_analysis\\\\mGluR5_NAM\\\\clustering_analysis\\\\frames_subset_Mon_27_Feb_2023_15_56_08'\n",
    "vBinsBySession = {}\n",
    "for session in session_list:\n",
    "    ##use glob to fina all vbins for session\n",
    "    vBinsForSession = glob.glob(vBinFolder+ r'\\\\*' + str(session) +  '*_velocityBin*.csv')\n",
    "    vBinsBySession[session] = vBinsForSession"
   ]
  },
  {
   "cell_type": "code",
   "execution_count": 73,
   "id": "be70c4e2",
   "metadata": {},
   "outputs": [
    {
     "data": {
      "text/plain": [
       "['F:\\\\\\\\JJM\\\\\\\\miniscope_analysis\\\\\\\\mGluR5_NAM\\\\\\\\clustering_analysis\\\\\\\\frames_subset_Mon_27_Feb_2023_15_56_08\\\\DIO_r2.8_16_45_11_velocityBin0.csv',\n",
       " 'F:\\\\\\\\JJM\\\\\\\\miniscope_analysis\\\\\\\\mGluR5_NAM\\\\\\\\clustering_analysis\\\\\\\\frames_subset_Mon_27_Feb_2023_15_56_08\\\\DIO_r2.8_16_45_11_velocityBin1.csv',\n",
       " 'F:\\\\\\\\JJM\\\\\\\\miniscope_analysis\\\\\\\\mGluR5_NAM\\\\\\\\clustering_analysis\\\\\\\\frames_subset_Mon_27_Feb_2023_15_56_08\\\\DIO_r2.8_16_45_11_velocityBin2.csv',\n",
       " 'F:\\\\\\\\JJM\\\\\\\\miniscope_analysis\\\\\\\\mGluR5_NAM\\\\\\\\clustering_analysis\\\\\\\\frames_subset_Mon_27_Feb_2023_15_56_08\\\\DIO_r2.8_16_45_11_velocityBin3.csv',\n",
       " 'F:\\\\\\\\JJM\\\\\\\\miniscope_analysis\\\\\\\\mGluR5_NAM\\\\\\\\clustering_analysis\\\\\\\\frames_subset_Mon_27_Feb_2023_15_56_08\\\\DIO_r2.8_16_45_11_velocityBin4.csv',\n",
       " 'F:\\\\\\\\JJM\\\\\\\\miniscope_analysis\\\\\\\\mGluR5_NAM\\\\\\\\clustering_analysis\\\\\\\\frames_subset_Mon_27_Feb_2023_15_56_08\\\\DIO_r2.8_16_45_11_velocityBin5.csv']"
      ]
     },
     "execution_count": 73,
     "metadata": {},
     "output_type": "execute_result"
    }
   ],
   "source": [
    "vBinsBySession['DIO_r2.8_16_45_11']"
   ]
  },
  {
   "cell_type": "code",
   "execution_count": 74,
   "id": "d8cca569",
   "metadata": {},
   "outputs": [],
   "source": [
    "vbin_0 = pd.read_csv(vBinsBySession['DIO_r2.8_16_45_11'][0], usecols=['Indicies'])\n",
    "vbin_3 = pd.read_csv(vBinsBySession['DIO_r2.8_16_45_11'][3], usecols=['Indicies'])"
   ]
  },
  {
   "cell_type": "code",
   "execution_count": 77,
   "id": "ea9095ad",
   "metadata": {},
   "outputs": [
    {
     "data": {
      "text/plain": [
       "'slice(6, 11, None)'"
      ]
     },
     "execution_count": 77,
     "metadata": {},
     "output_type": "execute_result"
    }
   ],
   "source": [
    "vbin_3['Indicies'].values[1]"
   ]
  },
  {
   "cell_type": "code",
   "execution_count": 78,
   "id": "72fcc45b",
   "metadata": {},
   "outputs": [],
   "source": [
    "#sessionDfsDict['DIO_r2.8_16_45_11']"
   ]
  },
  {
   "cell_type": "code",
   "execution_count": 79,
   "id": "73b985b5",
   "metadata": {},
   "outputs": [
    {
     "ename": "KeyError",
     "evalue": "\"None of [Index(['slice(11, 16, None)', 'slice(11, 16, None)', 'slice(11, 16, None)',\\n       'slice(11, 16, None)', 'slice(11, 16, None)', 'slice(16, 21, None)',\\n       'slice(16, 21, None)', 'slice(16, 21, None)', 'slice(16, 21, None)',\\n       'slice(16, 21, None)',\\n       ...\\n       'slice(8311, 8316, None)', 'slice(8311, 8316, None)',\\n       'slice(8311, 8316, None)', 'slice(8311, 8316, None)',\\n       'slice(8311, 8316, None)', 'slice(8581, 8586, None)',\\n       'slice(8581, 8586, None)', 'slice(8581, 8586, None)',\\n       'slice(8581, 8586, None)', 'slice(8581, 8586, None)'],\\n      dtype='object', length=2215)] are in the [index]\"",
     "output_type": "error",
     "traceback": [
      "\u001b[1;31m---------------------------------------------------------------------------\u001b[0m",
      "\u001b[1;31mKeyError\u001b[0m                                  Traceback (most recent call last)",
      "Input \u001b[1;32mIn [79]\u001b[0m, in \u001b[0;36m<cell line: 2>\u001b[1;34m()\u001b[0m\n\u001b[0;32m      1\u001b[0m \u001b[38;5;66;03m# access eventRatesPerCell using vBin indicies (these should match up as both are at 5Hz)\u001b[39;00m\n\u001b[1;32m----> 2\u001b[0m \u001b[43msessionDfsDict\u001b[49m\u001b[43m[\u001b[49m\u001b[38;5;124;43m'\u001b[39;49m\u001b[38;5;124;43mDIO_r2.8_16_45_11\u001b[39;49m\u001b[38;5;124;43m'\u001b[39;49m\u001b[43m]\u001b[49m\u001b[38;5;241;43m.\u001b[39;49m\u001b[43mmean\u001b[49m\u001b[43m(\u001b[49m\u001b[43maxis\u001b[49m\u001b[38;5;241;43m=\u001b[39;49m\u001b[38;5;241;43m0\u001b[39;49m\u001b[43m)\u001b[49m\u001b[43m[\u001b[49m\u001b[43mvbin_0\u001b[49m\u001b[43m[\u001b[49m\u001b[38;5;124;43m'\u001b[39;49m\u001b[38;5;124;43mIndicies\u001b[39;49m\u001b[38;5;124;43m'\u001b[39;49m\u001b[43m]\u001b[49m\u001b[38;5;241;43m.\u001b[39;49m\u001b[43mvalues\u001b[49m\u001b[43m]\u001b[49m\u001b[38;5;241m.\u001b[39mmean()\n",
      "File \u001b[1;32m~\\.conda\\envs\\2pCNMFEAnalysisEnv\\lib\\site-packages\\pandas\\core\\series.py:984\u001b[0m, in \u001b[0;36mSeries.__getitem__\u001b[1;34m(self, key)\u001b[0m\n\u001b[0;32m    981\u001b[0m     key \u001b[38;5;241m=\u001b[39m np\u001b[38;5;241m.\u001b[39masarray(key, dtype\u001b[38;5;241m=\u001b[39m\u001b[38;5;28mbool\u001b[39m)\n\u001b[0;32m    982\u001b[0m     \u001b[38;5;28;01mreturn\u001b[39;00m \u001b[38;5;28mself\u001b[39m\u001b[38;5;241m.\u001b[39m_get_values(key)\n\u001b[1;32m--> 984\u001b[0m \u001b[38;5;28;01mreturn\u001b[39;00m \u001b[38;5;28;43mself\u001b[39;49m\u001b[38;5;241;43m.\u001b[39;49m\u001b[43m_get_with\u001b[49m\u001b[43m(\u001b[49m\u001b[43mkey\u001b[49m\u001b[43m)\u001b[49m\n",
      "File \u001b[1;32m~\\.conda\\envs\\2pCNMFEAnalysisEnv\\lib\\site-packages\\pandas\\core\\series.py:1024\u001b[0m, in \u001b[0;36mSeries._get_with\u001b[1;34m(self, key)\u001b[0m\n\u001b[0;32m   1021\u001b[0m         \u001b[38;5;28;01mreturn\u001b[39;00m \u001b[38;5;28mself\u001b[39m\u001b[38;5;241m.\u001b[39miloc[key]\n\u001b[0;32m   1023\u001b[0m \u001b[38;5;66;03m# handle the dup indexing case GH#4246\u001b[39;00m\n\u001b[1;32m-> 1024\u001b[0m \u001b[38;5;28;01mreturn\u001b[39;00m \u001b[38;5;28;43mself\u001b[39;49m\u001b[38;5;241;43m.\u001b[39;49m\u001b[43mloc\u001b[49m\u001b[43m[\u001b[49m\u001b[43mkey\u001b[49m\u001b[43m]\u001b[49m\n",
      "File \u001b[1;32m~\\.conda\\envs\\2pCNMFEAnalysisEnv\\lib\\site-packages\\pandas\\core\\indexing.py:967\u001b[0m, in \u001b[0;36m_LocationIndexer.__getitem__\u001b[1;34m(self, key)\u001b[0m\n\u001b[0;32m    964\u001b[0m axis \u001b[38;5;241m=\u001b[39m \u001b[38;5;28mself\u001b[39m\u001b[38;5;241m.\u001b[39maxis \u001b[38;5;129;01mor\u001b[39;00m \u001b[38;5;241m0\u001b[39m\n\u001b[0;32m    966\u001b[0m maybe_callable \u001b[38;5;241m=\u001b[39m com\u001b[38;5;241m.\u001b[39mapply_if_callable(key, \u001b[38;5;28mself\u001b[39m\u001b[38;5;241m.\u001b[39mobj)\n\u001b[1;32m--> 967\u001b[0m \u001b[38;5;28;01mreturn\u001b[39;00m \u001b[38;5;28;43mself\u001b[39;49m\u001b[38;5;241;43m.\u001b[39;49m\u001b[43m_getitem_axis\u001b[49m\u001b[43m(\u001b[49m\u001b[43mmaybe_callable\u001b[49m\u001b[43m,\u001b[49m\u001b[43m \u001b[49m\u001b[43maxis\u001b[49m\u001b[38;5;241;43m=\u001b[39;49m\u001b[43maxis\u001b[49m\u001b[43m)\u001b[49m\n",
      "File \u001b[1;32m~\\.conda\\envs\\2pCNMFEAnalysisEnv\\lib\\site-packages\\pandas\\core\\indexing.py:1191\u001b[0m, in \u001b[0;36m_LocIndexer._getitem_axis\u001b[1;34m(self, key, axis)\u001b[0m\n\u001b[0;32m   1188\u001b[0m     \u001b[38;5;28;01mif\u001b[39;00m \u001b[38;5;28mhasattr\u001b[39m(key, \u001b[38;5;124m\"\u001b[39m\u001b[38;5;124mndim\u001b[39m\u001b[38;5;124m\"\u001b[39m) \u001b[38;5;129;01mand\u001b[39;00m key\u001b[38;5;241m.\u001b[39mndim \u001b[38;5;241m>\u001b[39m \u001b[38;5;241m1\u001b[39m:\n\u001b[0;32m   1189\u001b[0m         \u001b[38;5;28;01mraise\u001b[39;00m \u001b[38;5;167;01mValueError\u001b[39;00m(\u001b[38;5;124m\"\u001b[39m\u001b[38;5;124mCannot index with multidimensional key\u001b[39m\u001b[38;5;124m\"\u001b[39m)\n\u001b[1;32m-> 1191\u001b[0m     \u001b[38;5;28;01mreturn\u001b[39;00m \u001b[38;5;28;43mself\u001b[39;49m\u001b[38;5;241;43m.\u001b[39;49m\u001b[43m_getitem_iterable\u001b[49m\u001b[43m(\u001b[49m\u001b[43mkey\u001b[49m\u001b[43m,\u001b[49m\u001b[43m \u001b[49m\u001b[43maxis\u001b[49m\u001b[38;5;241;43m=\u001b[39;49m\u001b[43maxis\u001b[49m\u001b[43m)\u001b[49m\n\u001b[0;32m   1193\u001b[0m \u001b[38;5;66;03m# nested tuple slicing\u001b[39;00m\n\u001b[0;32m   1194\u001b[0m \u001b[38;5;28;01mif\u001b[39;00m is_nested_tuple(key, labels):\n",
      "File \u001b[1;32m~\\.conda\\envs\\2pCNMFEAnalysisEnv\\lib\\site-packages\\pandas\\core\\indexing.py:1132\u001b[0m, in \u001b[0;36m_LocIndexer._getitem_iterable\u001b[1;34m(self, key, axis)\u001b[0m\n\u001b[0;32m   1129\u001b[0m \u001b[38;5;28mself\u001b[39m\u001b[38;5;241m.\u001b[39m_validate_key(key, axis)\n\u001b[0;32m   1131\u001b[0m \u001b[38;5;66;03m# A collection of keys\u001b[39;00m\n\u001b[1;32m-> 1132\u001b[0m keyarr, indexer \u001b[38;5;241m=\u001b[39m \u001b[38;5;28;43mself\u001b[39;49m\u001b[38;5;241;43m.\u001b[39;49m\u001b[43m_get_listlike_indexer\u001b[49m\u001b[43m(\u001b[49m\u001b[43mkey\u001b[49m\u001b[43m,\u001b[49m\u001b[43m \u001b[49m\u001b[43maxis\u001b[49m\u001b[43m)\u001b[49m\n\u001b[0;32m   1133\u001b[0m \u001b[38;5;28;01mreturn\u001b[39;00m \u001b[38;5;28mself\u001b[39m\u001b[38;5;241m.\u001b[39mobj\u001b[38;5;241m.\u001b[39m_reindex_with_indexers(\n\u001b[0;32m   1134\u001b[0m     {axis: [keyarr, indexer]}, copy\u001b[38;5;241m=\u001b[39m\u001b[38;5;28;01mTrue\u001b[39;00m, allow_dups\u001b[38;5;241m=\u001b[39m\u001b[38;5;28;01mTrue\u001b[39;00m\n\u001b[0;32m   1135\u001b[0m )\n",
      "File \u001b[1;32m~\\.conda\\envs\\2pCNMFEAnalysisEnv\\lib\\site-packages\\pandas\\core\\indexing.py:1327\u001b[0m, in \u001b[0;36m_LocIndexer._get_listlike_indexer\u001b[1;34m(self, key, axis)\u001b[0m\n\u001b[0;32m   1324\u001b[0m ax \u001b[38;5;241m=\u001b[39m \u001b[38;5;28mself\u001b[39m\u001b[38;5;241m.\u001b[39mobj\u001b[38;5;241m.\u001b[39m_get_axis(axis)\n\u001b[0;32m   1325\u001b[0m axis_name \u001b[38;5;241m=\u001b[39m \u001b[38;5;28mself\u001b[39m\u001b[38;5;241m.\u001b[39mobj\u001b[38;5;241m.\u001b[39m_get_axis_name(axis)\n\u001b[1;32m-> 1327\u001b[0m keyarr, indexer \u001b[38;5;241m=\u001b[39m \u001b[43max\u001b[49m\u001b[38;5;241;43m.\u001b[39;49m\u001b[43m_get_indexer_strict\u001b[49m\u001b[43m(\u001b[49m\u001b[43mkey\u001b[49m\u001b[43m,\u001b[49m\u001b[43m \u001b[49m\u001b[43maxis_name\u001b[49m\u001b[43m)\u001b[49m\n\u001b[0;32m   1329\u001b[0m \u001b[38;5;28;01mreturn\u001b[39;00m keyarr, indexer\n",
      "File \u001b[1;32m~\\.conda\\envs\\2pCNMFEAnalysisEnv\\lib\\site-packages\\pandas\\core\\indexes\\base.py:5782\u001b[0m, in \u001b[0;36mIndex._get_indexer_strict\u001b[1;34m(self, key, axis_name)\u001b[0m\n\u001b[0;32m   5779\u001b[0m \u001b[38;5;28;01melse\u001b[39;00m:\n\u001b[0;32m   5780\u001b[0m     keyarr, indexer, new_indexer \u001b[38;5;241m=\u001b[39m \u001b[38;5;28mself\u001b[39m\u001b[38;5;241m.\u001b[39m_reindex_non_unique(keyarr)\n\u001b[1;32m-> 5782\u001b[0m \u001b[38;5;28;43mself\u001b[39;49m\u001b[38;5;241;43m.\u001b[39;49m\u001b[43m_raise_if_missing\u001b[49m\u001b[43m(\u001b[49m\u001b[43mkeyarr\u001b[49m\u001b[43m,\u001b[49m\u001b[43m \u001b[49m\u001b[43mindexer\u001b[49m\u001b[43m,\u001b[49m\u001b[43m \u001b[49m\u001b[43maxis_name\u001b[49m\u001b[43m)\u001b[49m\n\u001b[0;32m   5784\u001b[0m keyarr \u001b[38;5;241m=\u001b[39m \u001b[38;5;28mself\u001b[39m\u001b[38;5;241m.\u001b[39mtake(indexer)\n\u001b[0;32m   5785\u001b[0m \u001b[38;5;28;01mif\u001b[39;00m \u001b[38;5;28misinstance\u001b[39m(key, Index):\n\u001b[0;32m   5786\u001b[0m     \u001b[38;5;66;03m# GH 42790 - Preserve name from an Index\u001b[39;00m\n",
      "File \u001b[1;32m~\\.conda\\envs\\2pCNMFEAnalysisEnv\\lib\\site-packages\\pandas\\core\\indexes\\base.py:5842\u001b[0m, in \u001b[0;36mIndex._raise_if_missing\u001b[1;34m(self, key, indexer, axis_name)\u001b[0m\n\u001b[0;32m   5840\u001b[0m     \u001b[38;5;28;01mif\u001b[39;00m use_interval_msg:\n\u001b[0;32m   5841\u001b[0m         key \u001b[38;5;241m=\u001b[39m \u001b[38;5;28mlist\u001b[39m(key)\n\u001b[1;32m-> 5842\u001b[0m     \u001b[38;5;28;01mraise\u001b[39;00m \u001b[38;5;167;01mKeyError\u001b[39;00m(\u001b[38;5;124mf\u001b[39m\u001b[38;5;124m\"\u001b[39m\u001b[38;5;124mNone of [\u001b[39m\u001b[38;5;132;01m{\u001b[39;00mkey\u001b[38;5;132;01m}\u001b[39;00m\u001b[38;5;124m] are in the [\u001b[39m\u001b[38;5;132;01m{\u001b[39;00maxis_name\u001b[38;5;132;01m}\u001b[39;00m\u001b[38;5;124m]\u001b[39m\u001b[38;5;124m\"\u001b[39m)\n\u001b[0;32m   5844\u001b[0m not_found \u001b[38;5;241m=\u001b[39m \u001b[38;5;28mlist\u001b[39m(ensure_index(key)[missing_mask\u001b[38;5;241m.\u001b[39mnonzero()[\u001b[38;5;241m0\u001b[39m]]\u001b[38;5;241m.\u001b[39munique())\n\u001b[0;32m   5845\u001b[0m \u001b[38;5;28;01mraise\u001b[39;00m \u001b[38;5;167;01mKeyError\u001b[39;00m(\u001b[38;5;124mf\u001b[39m\u001b[38;5;124m\"\u001b[39m\u001b[38;5;132;01m{\u001b[39;00mnot_found\u001b[38;5;132;01m}\u001b[39;00m\u001b[38;5;124m not in index\u001b[39m\u001b[38;5;124m\"\u001b[39m)\n",
      "\u001b[1;31mKeyError\u001b[0m: \"None of [Index(['slice(11, 16, None)', 'slice(11, 16, None)', 'slice(11, 16, None)',\\n       'slice(11, 16, None)', 'slice(11, 16, None)', 'slice(16, 21, None)',\\n       'slice(16, 21, None)', 'slice(16, 21, None)', 'slice(16, 21, None)',\\n       'slice(16, 21, None)',\\n       ...\\n       'slice(8311, 8316, None)', 'slice(8311, 8316, None)',\\n       'slice(8311, 8316, None)', 'slice(8311, 8316, None)',\\n       'slice(8311, 8316, None)', 'slice(8581, 8586, None)',\\n       'slice(8581, 8586, None)', 'slice(8581, 8586, None)',\\n       'slice(8581, 8586, None)', 'slice(8581, 8586, None)'],\\n      dtype='object', length=2215)] are in the [index]\""
     ]
    }
   ],
   "source": [
    "# access eventRatesPerCell using vBin indicies (these should match up as both are at 5Hz)\n",
    "sessionDfsDict['DIO_r2.8_16_45_11'].mean(axis=0)[vbin_0['Indicies'].values].mean()"
   ]
  },
  {
   "cell_type": "code",
   "execution_count": 68,
   "id": "b4062608",
   "metadata": {},
   "outputs": [],
   "source": [
    "#sessionDfsDict['DIO_r2.8_16_45_11'][vbin_0['Indicies'].values]\n",
    "#.mean(axis=1).mean()"
   ]
  },
  {
   "cell_type": "code",
   "execution_count": 69,
   "id": "6d78a7fa",
   "metadata": {
    "scrolled": true
   },
   "outputs": [
    {
     "ename": "KeyError",
     "evalue": "'[8921, 8922, 8923, 8924, 8925, 8931, 8932, 8933, 8934, 8935, 8936, 8937, 8938, 8939, 8940, 8946, 8947, 8948, 8949, 8950, 8951, 8952, 8953, 8954, 8955, 8966, 8967, 8968, 8969, 8970, 8971, 8972, 8973, 8974, 8975, 8976, 8977, 8978, 8979, 8980, 8986, 8987, 8988, 8989, 8990, 8991, 8992, 8993, 8994, 8995, 8996, 8997, 8998, 8999, 9000, 9001, 9002, 9003, 9004, 9005, 9016, 9017, 9018, 9019, 9020, 9026, 9027, 9028, 9029, 9030, 9031, 9032, 9033, 9034, 9035, 9036, 9037, 9038, 9039, 9040] not in index'",
     "output_type": "error",
     "traceback": [
      "\u001b[1;31m---------------------------------------------------------------------------\u001b[0m",
      "\u001b[1;31mKeyError\u001b[0m                                  Traceback (most recent call last)",
      "Input \u001b[1;32mIn [69]\u001b[0m, in \u001b[0;36m<cell line: 1>\u001b[1;34m()\u001b[0m\n\u001b[1;32m----> 1\u001b[0m \u001b[43msessionDfsDict\u001b[49m\u001b[43m[\u001b[49m\u001b[38;5;124;43m'\u001b[39;49m\u001b[38;5;124;43mDIO_r2.8_16_45_11\u001b[39;49m\u001b[38;5;124;43m'\u001b[39;49m\u001b[43m]\u001b[49m\u001b[38;5;241;43m.\u001b[39;49m\u001b[43mmean\u001b[49m\u001b[43m(\u001b[49m\u001b[43maxis\u001b[49m\u001b[38;5;241;43m=\u001b[39;49m\u001b[38;5;241;43m0\u001b[39;49m\u001b[43m)\u001b[49m\u001b[43m[\u001b[49m\u001b[43mvbin_3\u001b[49m\u001b[43m[\u001b[49m\u001b[38;5;124;43m'\u001b[39;49m\u001b[38;5;124;43mIndicies\u001b[39;49m\u001b[38;5;124;43m'\u001b[39;49m\u001b[43m]\u001b[49m\u001b[38;5;241;43m.\u001b[39;49m\u001b[43mvalues\u001b[49m\u001b[43m]\u001b[49m\u001b[38;5;241m.\u001b[39mmean()\n",
      "File \u001b[1;32m~\\.conda\\envs\\2pCNMFEAnalysisEnv\\lib\\site-packages\\pandas\\core\\series.py:984\u001b[0m, in \u001b[0;36mSeries.__getitem__\u001b[1;34m(self, key)\u001b[0m\n\u001b[0;32m    981\u001b[0m     key \u001b[38;5;241m=\u001b[39m np\u001b[38;5;241m.\u001b[39masarray(key, dtype\u001b[38;5;241m=\u001b[39m\u001b[38;5;28mbool\u001b[39m)\n\u001b[0;32m    982\u001b[0m     \u001b[38;5;28;01mreturn\u001b[39;00m \u001b[38;5;28mself\u001b[39m\u001b[38;5;241m.\u001b[39m_get_values(key)\n\u001b[1;32m--> 984\u001b[0m \u001b[38;5;28;01mreturn\u001b[39;00m \u001b[38;5;28;43mself\u001b[39;49m\u001b[38;5;241;43m.\u001b[39;49m\u001b[43m_get_with\u001b[49m\u001b[43m(\u001b[49m\u001b[43mkey\u001b[49m\u001b[43m)\u001b[49m\n",
      "File \u001b[1;32m~\\.conda\\envs\\2pCNMFEAnalysisEnv\\lib\\site-packages\\pandas\\core\\series.py:1019\u001b[0m, in \u001b[0;36mSeries._get_with\u001b[1;34m(self, key)\u001b[0m\n\u001b[0;32m   1015\u001b[0m \u001b[38;5;28;01mif\u001b[39;00m key_type \u001b[38;5;241m==\u001b[39m \u001b[38;5;124m\"\u001b[39m\u001b[38;5;124minteger\u001b[39m\u001b[38;5;124m\"\u001b[39m:\n\u001b[0;32m   1016\u001b[0m     \u001b[38;5;66;03m# We need to decide whether to treat this as a positional indexer\u001b[39;00m\n\u001b[0;32m   1017\u001b[0m     \u001b[38;5;66;03m#  (i.e. self.iloc) or label-based (i.e. self.loc)\u001b[39;00m\n\u001b[0;32m   1018\u001b[0m     \u001b[38;5;28;01mif\u001b[39;00m \u001b[38;5;129;01mnot\u001b[39;00m \u001b[38;5;28mself\u001b[39m\u001b[38;5;241m.\u001b[39mindex\u001b[38;5;241m.\u001b[39m_should_fallback_to_positional:\n\u001b[1;32m-> 1019\u001b[0m         \u001b[38;5;28;01mreturn\u001b[39;00m \u001b[38;5;28;43mself\u001b[39;49m\u001b[38;5;241;43m.\u001b[39;49m\u001b[43mloc\u001b[49m\u001b[43m[\u001b[49m\u001b[43mkey\u001b[49m\u001b[43m]\u001b[49m\n\u001b[0;32m   1020\u001b[0m     \u001b[38;5;28;01melse\u001b[39;00m:\n\u001b[0;32m   1021\u001b[0m         \u001b[38;5;28;01mreturn\u001b[39;00m \u001b[38;5;28mself\u001b[39m\u001b[38;5;241m.\u001b[39miloc[key]\n",
      "File \u001b[1;32m~\\.conda\\envs\\2pCNMFEAnalysisEnv\\lib\\site-packages\\pandas\\core\\indexing.py:967\u001b[0m, in \u001b[0;36m_LocationIndexer.__getitem__\u001b[1;34m(self, key)\u001b[0m\n\u001b[0;32m    964\u001b[0m axis \u001b[38;5;241m=\u001b[39m \u001b[38;5;28mself\u001b[39m\u001b[38;5;241m.\u001b[39maxis \u001b[38;5;129;01mor\u001b[39;00m \u001b[38;5;241m0\u001b[39m\n\u001b[0;32m    966\u001b[0m maybe_callable \u001b[38;5;241m=\u001b[39m com\u001b[38;5;241m.\u001b[39mapply_if_callable(key, \u001b[38;5;28mself\u001b[39m\u001b[38;5;241m.\u001b[39mobj)\n\u001b[1;32m--> 967\u001b[0m \u001b[38;5;28;01mreturn\u001b[39;00m \u001b[38;5;28;43mself\u001b[39;49m\u001b[38;5;241;43m.\u001b[39;49m\u001b[43m_getitem_axis\u001b[49m\u001b[43m(\u001b[49m\u001b[43mmaybe_callable\u001b[49m\u001b[43m,\u001b[49m\u001b[43m \u001b[49m\u001b[43maxis\u001b[49m\u001b[38;5;241;43m=\u001b[39;49m\u001b[43maxis\u001b[49m\u001b[43m)\u001b[49m\n",
      "File \u001b[1;32m~\\.conda\\envs\\2pCNMFEAnalysisEnv\\lib\\site-packages\\pandas\\core\\indexing.py:1191\u001b[0m, in \u001b[0;36m_LocIndexer._getitem_axis\u001b[1;34m(self, key, axis)\u001b[0m\n\u001b[0;32m   1188\u001b[0m     \u001b[38;5;28;01mif\u001b[39;00m \u001b[38;5;28mhasattr\u001b[39m(key, \u001b[38;5;124m\"\u001b[39m\u001b[38;5;124mndim\u001b[39m\u001b[38;5;124m\"\u001b[39m) \u001b[38;5;129;01mand\u001b[39;00m key\u001b[38;5;241m.\u001b[39mndim \u001b[38;5;241m>\u001b[39m \u001b[38;5;241m1\u001b[39m:\n\u001b[0;32m   1189\u001b[0m         \u001b[38;5;28;01mraise\u001b[39;00m \u001b[38;5;167;01mValueError\u001b[39;00m(\u001b[38;5;124m\"\u001b[39m\u001b[38;5;124mCannot index with multidimensional key\u001b[39m\u001b[38;5;124m\"\u001b[39m)\n\u001b[1;32m-> 1191\u001b[0m     \u001b[38;5;28;01mreturn\u001b[39;00m \u001b[38;5;28;43mself\u001b[39;49m\u001b[38;5;241;43m.\u001b[39;49m\u001b[43m_getitem_iterable\u001b[49m\u001b[43m(\u001b[49m\u001b[43mkey\u001b[49m\u001b[43m,\u001b[49m\u001b[43m \u001b[49m\u001b[43maxis\u001b[49m\u001b[38;5;241;43m=\u001b[39;49m\u001b[43maxis\u001b[49m\u001b[43m)\u001b[49m\n\u001b[0;32m   1193\u001b[0m \u001b[38;5;66;03m# nested tuple slicing\u001b[39;00m\n\u001b[0;32m   1194\u001b[0m \u001b[38;5;28;01mif\u001b[39;00m is_nested_tuple(key, labels):\n",
      "File \u001b[1;32m~\\.conda\\envs\\2pCNMFEAnalysisEnv\\lib\\site-packages\\pandas\\core\\indexing.py:1132\u001b[0m, in \u001b[0;36m_LocIndexer._getitem_iterable\u001b[1;34m(self, key, axis)\u001b[0m\n\u001b[0;32m   1129\u001b[0m \u001b[38;5;28mself\u001b[39m\u001b[38;5;241m.\u001b[39m_validate_key(key, axis)\n\u001b[0;32m   1131\u001b[0m \u001b[38;5;66;03m# A collection of keys\u001b[39;00m\n\u001b[1;32m-> 1132\u001b[0m keyarr, indexer \u001b[38;5;241m=\u001b[39m \u001b[38;5;28;43mself\u001b[39;49m\u001b[38;5;241;43m.\u001b[39;49m\u001b[43m_get_listlike_indexer\u001b[49m\u001b[43m(\u001b[49m\u001b[43mkey\u001b[49m\u001b[43m,\u001b[49m\u001b[43m \u001b[49m\u001b[43maxis\u001b[49m\u001b[43m)\u001b[49m\n\u001b[0;32m   1133\u001b[0m \u001b[38;5;28;01mreturn\u001b[39;00m \u001b[38;5;28mself\u001b[39m\u001b[38;5;241m.\u001b[39mobj\u001b[38;5;241m.\u001b[39m_reindex_with_indexers(\n\u001b[0;32m   1134\u001b[0m     {axis: [keyarr, indexer]}, copy\u001b[38;5;241m=\u001b[39m\u001b[38;5;28;01mTrue\u001b[39;00m, allow_dups\u001b[38;5;241m=\u001b[39m\u001b[38;5;28;01mTrue\u001b[39;00m\n\u001b[0;32m   1135\u001b[0m )\n",
      "File \u001b[1;32m~\\.conda\\envs\\2pCNMFEAnalysisEnv\\lib\\site-packages\\pandas\\core\\indexing.py:1327\u001b[0m, in \u001b[0;36m_LocIndexer._get_listlike_indexer\u001b[1;34m(self, key, axis)\u001b[0m\n\u001b[0;32m   1324\u001b[0m ax \u001b[38;5;241m=\u001b[39m \u001b[38;5;28mself\u001b[39m\u001b[38;5;241m.\u001b[39mobj\u001b[38;5;241m.\u001b[39m_get_axis(axis)\n\u001b[0;32m   1325\u001b[0m axis_name \u001b[38;5;241m=\u001b[39m \u001b[38;5;28mself\u001b[39m\u001b[38;5;241m.\u001b[39mobj\u001b[38;5;241m.\u001b[39m_get_axis_name(axis)\n\u001b[1;32m-> 1327\u001b[0m keyarr, indexer \u001b[38;5;241m=\u001b[39m \u001b[43max\u001b[49m\u001b[38;5;241;43m.\u001b[39;49m\u001b[43m_get_indexer_strict\u001b[49m\u001b[43m(\u001b[49m\u001b[43mkey\u001b[49m\u001b[43m,\u001b[49m\u001b[43m \u001b[49m\u001b[43maxis_name\u001b[49m\u001b[43m)\u001b[49m\n\u001b[0;32m   1329\u001b[0m \u001b[38;5;28;01mreturn\u001b[39;00m keyarr, indexer\n",
      "File \u001b[1;32m~\\.conda\\envs\\2pCNMFEAnalysisEnv\\lib\\site-packages\\pandas\\core\\indexes\\base.py:5782\u001b[0m, in \u001b[0;36mIndex._get_indexer_strict\u001b[1;34m(self, key, axis_name)\u001b[0m\n\u001b[0;32m   5779\u001b[0m \u001b[38;5;28;01melse\u001b[39;00m:\n\u001b[0;32m   5780\u001b[0m     keyarr, indexer, new_indexer \u001b[38;5;241m=\u001b[39m \u001b[38;5;28mself\u001b[39m\u001b[38;5;241m.\u001b[39m_reindex_non_unique(keyarr)\n\u001b[1;32m-> 5782\u001b[0m \u001b[38;5;28;43mself\u001b[39;49m\u001b[38;5;241;43m.\u001b[39;49m\u001b[43m_raise_if_missing\u001b[49m\u001b[43m(\u001b[49m\u001b[43mkeyarr\u001b[49m\u001b[43m,\u001b[49m\u001b[43m \u001b[49m\u001b[43mindexer\u001b[49m\u001b[43m,\u001b[49m\u001b[43m \u001b[49m\u001b[43maxis_name\u001b[49m\u001b[43m)\u001b[49m\n\u001b[0;32m   5784\u001b[0m keyarr \u001b[38;5;241m=\u001b[39m \u001b[38;5;28mself\u001b[39m\u001b[38;5;241m.\u001b[39mtake(indexer)\n\u001b[0;32m   5785\u001b[0m \u001b[38;5;28;01mif\u001b[39;00m \u001b[38;5;28misinstance\u001b[39m(key, Index):\n\u001b[0;32m   5786\u001b[0m     \u001b[38;5;66;03m# GH 42790 - Preserve name from an Index\u001b[39;00m\n",
      "File \u001b[1;32m~\\.conda\\envs\\2pCNMFEAnalysisEnv\\lib\\site-packages\\pandas\\core\\indexes\\base.py:5845\u001b[0m, in \u001b[0;36mIndex._raise_if_missing\u001b[1;34m(self, key, indexer, axis_name)\u001b[0m\n\u001b[0;32m   5842\u001b[0m     \u001b[38;5;28;01mraise\u001b[39;00m \u001b[38;5;167;01mKeyError\u001b[39;00m(\u001b[38;5;124mf\u001b[39m\u001b[38;5;124m\"\u001b[39m\u001b[38;5;124mNone of [\u001b[39m\u001b[38;5;132;01m{\u001b[39;00mkey\u001b[38;5;132;01m}\u001b[39;00m\u001b[38;5;124m] are in the [\u001b[39m\u001b[38;5;132;01m{\u001b[39;00maxis_name\u001b[38;5;132;01m}\u001b[39;00m\u001b[38;5;124m]\u001b[39m\u001b[38;5;124m\"\u001b[39m)\n\u001b[0;32m   5844\u001b[0m not_found \u001b[38;5;241m=\u001b[39m \u001b[38;5;28mlist\u001b[39m(ensure_index(key)[missing_mask\u001b[38;5;241m.\u001b[39mnonzero()[\u001b[38;5;241m0\u001b[39m]]\u001b[38;5;241m.\u001b[39munique())\n\u001b[1;32m-> 5845\u001b[0m \u001b[38;5;28;01mraise\u001b[39;00m \u001b[38;5;167;01mKeyError\u001b[39;00m(\u001b[38;5;124mf\u001b[39m\u001b[38;5;124m\"\u001b[39m\u001b[38;5;132;01m{\u001b[39;00mnot_found\u001b[38;5;132;01m}\u001b[39;00m\u001b[38;5;124m not in index\u001b[39m\u001b[38;5;124m\"\u001b[39m)\n",
      "\u001b[1;31mKeyError\u001b[0m: '[8921, 8922, 8923, 8924, 8925, 8931, 8932, 8933, 8934, 8935, 8936, 8937, 8938, 8939, 8940, 8946, 8947, 8948, 8949, 8950, 8951, 8952, 8953, 8954, 8955, 8966, 8967, 8968, 8969, 8970, 8971, 8972, 8973, 8974, 8975, 8976, 8977, 8978, 8979, 8980, 8986, 8987, 8988, 8989, 8990, 8991, 8992, 8993, 8994, 8995, 8996, 8997, 8998, 8999, 9000, 9001, 9002, 9003, 9004, 9005, 9016, 9017, 9018, 9019, 9020, 9026, 9027, 9028, 9029, 9030, 9031, 9032, 9033, 9034, 9035, 9036, 9037, 9038, 9039, 9040] not in index'"
     ]
    }
   ],
   "source": [
    "sessionDfsDict['DIO_r2.8_16_45_11'].mean(axis=0)[vbin_3['Indicies'].values].mean()"
   ]
  },
  {
   "cell_type": "code",
   "execution_count": null,
   "id": "faff6efe",
   "metadata": {},
   "outputs": [],
   "source": [
    "#'DIO_r2.7_15_20_30', 'DIO_r2.7_15_51_07',\n",
    "session_list = ['DIO_r2.8_16_45_11'] ;"
   ]
  },
  {
   "cell_type": "code",
   "execution_count": null,
   "id": "a2f737a5",
   "metadata": {},
   "outputs": [],
   "source": [
    "## bin event rate by velocity\n",
    "#extract indicies corresponding to v bins\n",
    "#select regions of event rate trave corresponding to v bins \n",
    "vBinIndiciesBySession = {}\n",
    "eventRatesByVbinBySession = {}\n",
    "mean_eventRatesByVbinBySession = {}\n",
    "for session in session_list: \n",
    "    print(session)\n",
    "    vBinIndicies = {}\n",
    "    eventRatesByVbin = {}\n",
    "    mean_eventRatesByVbin = {}\n",
    "    for vBinIdx in range(len(vBinsBySession[session])):\n",
    "        #get v bin indicies from csv files\n",
    "        vBinsIdxs = pd.read_csv(vBinsBySession[session][vBinIdx], usecols=['Indicies'])\n",
    "        vBinIndicies[vBinIdx] = vBinsIdxs\n",
    "        #select subsets of event rate df by v bin indicies \n",
    "        eventRatesByVbin[vBinIdx] = sessionDfsDict[session][vBinsIdxs['Indicies'].values]\n",
    "        mean_eventRatesByVbin[vBinIdx] = sessionDfsDict[session][vBinsIdxs['Indicies'].values].mean(axis=1).mean()\n",
    "        \n",
    "    vBinIndiciesBySession[session] = vBinIndicies\n",
    "    eventRatesByVbinBySession[session] = eventRatesByVbin\n",
    "    mean_eventRatesByVbin[session] = mean_eventRatesByVbin\n",
    "        \n",
    "    \n",
    "    \n",
    "    "
   ]
  },
  {
   "cell_type": "code",
   "execution_count": null,
   "id": "3eea95cd",
   "metadata": {
    "scrolled": true
   },
   "outputs": [],
   "source": [
    "sessionMeansDfs = []\n",
    "for session in session_list:\n",
    "    sessionMeansDfs.append(pd.DataFrame([eventRatesByVbinBySession[session][vbinIdx].mean(axis=1).mean() for vbinIdx in list(eventRatesByVbinBySession[session].keys())], columns=[session]))\n",
    "allSessionsMean = pd.concat(sessionMeansDfs, axis=1)"
   ]
  },
  {
   "cell_type": "code",
   "execution_count": null,
   "id": "9b45fc2a",
   "metadata": {},
   "outputs": [],
   "source": [
    "sessionMeansDfs"
   ]
  },
  {
   "cell_type": "code",
   "execution_count": null,
   "id": "9f499646",
   "metadata": {},
   "outputs": [],
   "source": [
    "#plot means\n",
    "plt.plot(allSessionsMean.mean(axis=1)*60)"
   ]
  },
  {
   "cell_type": "code",
   "execution_count": null,
   "id": "1a279006",
   "metadata": {},
   "outputs": [],
   "source": [
    "## split data into WT and KO sessions\n",
    "#'GRIN034_H16_M13_S22', 'GRIN034_H19_M0_S18', 'GRIN034_H15_M28_S2', \n",
    "Vehicle_sessions = ['Vehicle_DIO_r2.7_15_20_30', 'Vehicle_DIO_r2.7_15_51_07',\n",
    "                   'Vehicle_DIO_r2.8_16_45_11', 'Vehicle_DIO_r2.8_17_16_03',\n",
    "                   'Vehicle_DIO_r2.14_17_25_26', 'Vehicle_DIO_r2.14_17_40_46', 'Vehicle_DIO_r2.14_18_11_01'] ; \n",
    "\n",
    "Fenobam_sessions = ['Fenobam_DIO_r2.7_17_00_12', 'Fenobam_DIO_r2.7_17_30_50',\n",
    "                   'Fenobam_DIO_r2.8_16_00_28', 'Fenobam_DIO_r2.8_16_30_39', \n",
    "                   'Fenobam_DIO_r2.14_14_00_13', 'Fenobam_DIO_r2.14_14_30_28'] ;"
   ]
  },
  {
   "cell_type": "code",
   "execution_count": null,
   "id": "4c34b257",
   "metadata": {},
   "outputs": [],
   "source": [
    "wt_by_mouse = {}\n",
    "wt_by_mouse['GRIN013'] = allSessionsMean['GRIN013_H13_M33_S54']\n",
    "wt_by_mouse['GRIN026'] = allSessionsMean['GRIN026_H16_M35_S34']\n",
    "wt_by_mouse['GRIN027'] = allSessionsMean['GRIN027_H13_M29_S44']\n",
    "wt_by_mouse['GRIN032'] = pd.DataFrame(allSessionsMean[['GRIN032_H16_M49_S22','GRIN032_H17_M30_S22']].mean(axis=1))\n",
    "wt_by_mouse['GRIN033'] = pd.DataFrame(allSessionsMean[['GRIN033_H13_M42_S33','GRIN033_H14_M34_S32']].mean(axis=1))\n",
    "#wt_by_day['GRIN034'] = pd.DataFrame(genotype_compiled.loc[['GRIN034_H16_M13_S22', 'GRIN034_H19_M0_S18', 'GRIN034_H15_M28_S2']].mean(axis=0)).transpose()\n",
    "wt_by_mouse['GRIN035'] = pd.DataFrame(allSessionsMean[['GRIN035_H13_M31_S20', 'GRIN035_H13_M50_S58', 'GRIN035_H14_M40_S34']].mean(axis=1))\n",
    "wt_by_mouse['GRIN039'] = pd.DataFrame(allSessionsMean[['GRIN039_H12_M26_S54', 'GRIN039_H12_M33_S29', 'GRIN039_H14_M8_S53']].mean(axis=1))\n",
    "\n",
    "wt_by_mouse = pd.concat(wt_by_mouse.values(), keys=wt_by_mouse.keys(), axis=1)\n",
    "\n",
    "#ko \n",
    "ko_by_mouse = {}\n",
    "ko_by_mouse['GRIN009'] = allSessionsMean['GRIN009_H13_M59_S14']\n",
    "ko_by_mouse['GRIN011'] = allSessionsMean['GRIN011_H10_M19_S59']\n",
    "ko_by_mouse['GRIN012'] = pd.DataFrame(allSessionsMean[['GRIN012_H16_M57_S23', 'GRIN012_H17_M32_S17']].mean(axis=1)) \n",
    "ko_by_mouse['GRIN018'] = pd.DataFrame(allSessionsMean[['GRIN018_H17_M41_S43', 'GRIN018_H16_M13_S53' ]].mean(axis=1)) \n",
    "ko_by_mouse['GRIN038'] = pd.DataFrame(allSessionsMean[['GRIN038_H11_M57_S0', 'GRIN038_H13_M37_S23', 'GRIN038_H15_M39_S40' ]].mean(axis=1))\n",
    "ko_by_mouse['GRIN041'] = allSessionsMean['GRIN041_H12_M54_S49']\n",
    "\n",
    "ko_by_mouse = pd.concat(ko_by_mouse.values(), keys=ko_by_mouse.keys(), axis=1)"
   ]
  },
  {
   "cell_type": "code",
   "execution_count": null,
   "id": "7790ed6a",
   "metadata": {},
   "outputs": [],
   "source": [
    "wt_by_mouse"
   ]
  },
  {
   "cell_type": "code",
   "execution_count": null,
   "id": "e8157838",
   "metadata": {},
   "outputs": [],
   "source": [
    "ko_by_mouse"
   ]
  },
  {
   "cell_type": "code",
   "execution_count": null,
   "id": "a74d6084",
   "metadata": {},
   "outputs": [],
   "source": [
    "# event rate binned by velocity \n",
    "mean = wt_by_mouse.mean(axis=1)\n",
    "mean_ko = ko_by_mouse.mean(axis=1)\n",
    "std_error = wt_by_mouse.std(axis=1)/math.sqrt(7)\n",
    "std_error_ko = ko_by_mouse.std(axis=1)/math.sqrt(6)\n",
    "\n",
    "bin_vector = np.linspace(0, 5, 6)\n",
    "\n",
    "plt.scatter(bin_vector, mean, s=200, marker='s')\n",
    "plt.scatter(bin_vector, mean_ko, s=200,  marker='s')\n",
    "plt.errorbar(bin_vector, mean, yerr=std_error)\n",
    "plt.errorbar(bin_vector, mean_ko, yerr=std_error_ko)"
   ]
  },
  {
   "cell_type": "code",
   "execution_count": null,
   "id": "f8e37b83",
   "metadata": {},
   "outputs": [],
   "source": [
    "# plot all events "
   ]
  }
 ],
 "metadata": {
  "kernelspec": {
   "display_name": "2pCNMFEAnalysisEnv",
   "language": "python",
   "name": "2pcnmfeanalysisenv"
  },
  "language_info": {
   "codemirror_mode": {
    "name": "ipython",
    "version": 3
   },
   "file_extension": ".py",
   "mimetype": "text/x-python",
   "name": "python",
   "nbconvert_exporter": "python",
   "pygments_lexer": "ipython3",
   "version": "3.10.4"
  }
 },
 "nbformat": 4,
 "nbformat_minor": 5
}
