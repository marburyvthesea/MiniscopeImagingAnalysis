{
 "cells": [
  {
   "cell_type": "code",
   "execution_count": 253,
   "id": "d978c8f4",
   "metadata": {},
   "outputs": [
    {
     "name": "stderr",
     "output_type": "stream",
     "text": [
      "C:\\Users\\scanimage\\AppData\\Local\\Temp\\ipykernel_5432\\919602113.py:1: DeprecationWarning: Importing display from IPython.core.display is deprecated since IPython 7.14, please import from IPython display\n",
      "  from IPython.core.display import display, HTML\n"
     ]
    },
    {
     "data": {
      "text/html": [
       "<style>.container { width:90% !important; }</style>"
      ],
      "text/plain": [
       "<IPython.core.display.HTML object>"
      ]
     },
     "metadata": {},
     "output_type": "display_data"
    }
   ],
   "source": [
    "from IPython.core.display import display, HTML\n",
    "display(HTML(\"<style>.container { width:90% !important; }</style>\"))\n",
    "import pandas as pd\n",
    "import numpy as np\n",
    "import math\n",
    "from matplotlib import pyplot as plt\n",
    "from tqdm import tqdm \n",
    "import glob"
   ]
  },
  {
   "cell_type": "code",
   "execution_count": 254,
   "id": "c8639655",
   "metadata": {},
   "outputs": [],
   "source": [
    "data_directory = r'F:\\\\JJM\\\\miniscope_analysis\\\\clustering_analysis\\\\all_frames_2023-02-20-16-51-10_analysisOutput\\\\'"
   ]
  },
  {
   "cell_type": "code",
   "execution_count": 255,
   "id": "7c15a45b",
   "metadata": {},
   "outputs": [],
   "source": [
    "#'GRIN034_H16_M13_S22', 'GRIN034_H19_M0_S18', 'GRIN034_H15_M28_S2', #'GRIN018_H16_M13_S53'\n",
    "session_list = ['GRIN013_H13_M33_S54', 'GRIN026_H16_M35_S34', 'GRIN027_H13_M29_S44', \n",
    "               'GRIN032_H16_M49_S22', 'GRIN032_H17_M30_S22', \n",
    "               'GRIN033_H13_M42_S33', 'GRIN033_H14_M34_S32', \n",
    "               'GRIN035_H13_M31_S20', 'GRIN035_H13_M50_S58', 'GRIN035_H14_M40_S34',\n",
    "               'GRIN039_H12_M26_S54', 'GRIN039_H12_M33_S29', 'GRIN039_H14_M8_S53', \n",
    "               'GRIN009_H13_M59_S14', 'GRIN011_H10_M19_S59', \n",
    "               'GRIN012_H16_M57_S23', 'GRIN012_H17_M32_S17', \n",
    "               'GRIN018_H17_M41_S43', 'GRIN018_H16_M13_S53',\n",
    "               'GRIN038_H11_M57_S0', 'GRIN038_H13_M37_S23', 'GRIN038_H15_M39_S40',\n",
    "               'GRIN041_H12_M54_S49'] ;"
   ]
  },
  {
   "cell_type": "code",
   "execution_count": 256,
   "id": "5c7810d8",
   "metadata": {},
   "outputs": [],
   "source": [
    "#signalPeaks = pd.read_csv(data_directory+session+'_signalPeaks.csv')"
   ]
  },
  {
   "cell_type": "code",
   "execution_count": 257,
   "id": "fa294253",
   "metadata": {},
   "outputs": [],
   "source": [
    "def getEventRateForAnimals(signalPeaks):\n",
    "    cell_dict = {}\n",
    "    for cell in range(0, signalPeaks.shape[0]):\n",
    "        #calculate event rates for each cell\n",
    "        cell_peaks = np.where(signalPeaks.loc[cell]==1)[0]\n",
    "        event_rate = np.zeros(signalPeaks.shape[1]-5)\n",
    "        #sampling rate is 5Hz so 5 samples is 1 sec \n",
    "        for sIdx in range(0, signalPeaks.shape[1]-5):\n",
    "            windowIdxs = (sIdx, sIdx+5)\n",
    "            num_peaks = ((windowIdxs[0] < cell_peaks) & (cell_peaks < windowIdxs[1])).sum()\n",
    "            event_rate[sIdx] = num_peaks\n",
    "        cell_dict[cell] = event_rate\n",
    "    eventRatePerCell_ = pd.DataFrame(cell_dict)\n",
    "    eventRatePerCell = eventRatePerCell_.transpose()    \n",
    "    return(eventRatePerCell)"
   ]
  },
  {
   "cell_type": "code",
   "execution_count": 258,
   "id": "fd2b0422",
   "metadata": {
    "scrolled": true
   },
   "outputs": [
    {
     "name": "stderr",
     "output_type": "stream",
     "text": [
      "100%|██████████████████████████████████████████████████████████████████████████████████| 23/23 [02:28<00:00,  6.46s/it]\n"
     ]
    }
   ],
   "source": [
    "sessionDfsDict = {}\n",
    "for session in tqdm(session_list):\n",
    "    signalPeaksSession = pd.read_csv(data_directory+session+'_signalPeaks.csv')\n",
    "    sessionEventRate = getEventRateForAnimals(signalPeaksSession)\n",
    "    sessionDfsDict[session] = sessionEventRate"
   ]
  },
  {
   "cell_type": "code",
   "execution_count": 129,
   "id": "645510a7",
   "metadata": {},
   "outputs": [
    {
     "data": {
      "text/plain": [
       "[<matplotlib.lines.Line2D at 0x227c7edf4f0>]"
      ]
     },
     "execution_count": 129,
     "metadata": {},
     "output_type": "execute_result"
    },
    {
     "data": {
      "image/png": "[encoded data removed]",
      "text/plain": [
       "<Figure size 432x288 with 1 Axes>"
      ]
     },
     "metadata": {
      "needs_background": "light"
     },
     "output_type": "display_data"
    }
   ],
   "source": [
    "plt.plot(sessionDfsDict['GRIN032_H17_M30_S22'].mean(axis=0))"
   ]
  },
  {
   "cell_type": "code",
   "execution_count": 131,
   "id": "f9aff590",
   "metadata": {},
   "outputs": [
    {
     "data": {
      "text/plain": [
       "[<matplotlib.lines.Line2D at 0x227c16e4040>]"
      ]
     },
     "execution_count": 131,
     "metadata": {},
     "output_type": "execute_result"
    },
    {
     "data": {
      "image/png": "[encoded data removed]",
      "text/plain": [
       "<Figure size 432x288 with 1 Axes>"
      ]
     },
     "metadata": {
      "needs_background": "light"
     },
     "output_type": "display_data"
    }
   ],
   "source": [
    "plt.plot(sessionDfsDict['GRIN038_H13_M37_S23'].mean(axis=0))"
   ]
  },
  {
   "cell_type": "code",
   "execution_count": 136,
   "id": "a2615d73",
   "metadata": {},
   "outputs": [],
   "source": [
    "## bin by v bins\n",
    "#get indicies corresponding to particular v bins\n",
    "vBinFolder = r'F:\\\\JJM\\\\miniscope_analysis\\\\clustering_analysis\\\\frames_subset_Mon_20_Feb_2023_18_32_58'\n",
    "vBinsBySession = {}\n",
    "for session in session_list:\n",
    "    ##use glob to fina all vbins for session\n",
    "    vBinsForSession = glob.glob(vBinFolder+ r'\\\\*' + str(session) +  '*_velocityBin*.csv')\n",
    "    vBinsBySession[session] = vBinsForSession"
   ]
  },
  {
   "cell_type": "code",
   "execution_count": 157,
   "id": "a85b2a2e",
   "metadata": {},
   "outputs": [
    {
     "data": {
      "text/plain": [
       "['F:\\\\\\\\JJM\\\\\\\\miniscope_analysis\\\\\\\\clustering_analysis\\\\\\\\frames_subset_Mon_20_Feb_2023_18_32_58\\\\GRIN038_H13_M37_S23_velocityBin0.csv',\n",
       " 'F:\\\\\\\\JJM\\\\\\\\miniscope_analysis\\\\\\\\clustering_analysis\\\\\\\\frames_subset_Mon_20_Feb_2023_18_32_58\\\\GRIN038_H13_M37_S23_velocityBin1.csv',\n",
       " 'F:\\\\\\\\JJM\\\\\\\\miniscope_analysis\\\\\\\\clustering_analysis\\\\\\\\frames_subset_Mon_20_Feb_2023_18_32_58\\\\GRIN038_H13_M37_S23_velocityBin2.csv',\n",
       " 'F:\\\\\\\\JJM\\\\\\\\miniscope_analysis\\\\\\\\clustering_analysis\\\\\\\\frames_subset_Mon_20_Feb_2023_18_32_58\\\\GRIN038_H13_M37_S23_velocityBin3.csv',\n",
       " 'F:\\\\\\\\JJM\\\\\\\\miniscope_analysis\\\\\\\\clustering_analysis\\\\\\\\frames_subset_Mon_20_Feb_2023_18_32_58\\\\GRIN038_H13_M37_S23_velocityBin4.csv',\n",
       " 'F:\\\\\\\\JJM\\\\\\\\miniscope_analysis\\\\\\\\clustering_analysis\\\\\\\\frames_subset_Mon_20_Feb_2023_18_32_58\\\\GRIN038_H13_M37_S23_velocityBin5.csv']"
      ]
     },
     "execution_count": 157,
     "metadata": {},
     "output_type": "execute_result"
    }
   ],
   "source": [
    "vBinsBySession['GRIN038_H13_M37_S23']"
   ]
  },
  {
   "cell_type": "code",
   "execution_count": 150,
   "id": "907322f3",
   "metadata": {},
   "outputs": [],
   "source": [
    "vbin_0 = pd.read_csv(vBinsBySession['GRIN038_H13_M37_S23'][0], usecols=['Indicies'])\n",
    "vbin_3 = pd.read_csv(vBinsBySession['GRIN038_H13_M37_S23'][3], usecols=['Indicies'])"
   ]
  },
  {
   "cell_type": "code",
   "execution_count": 151,
   "id": "390d85b8",
   "metadata": {},
   "outputs": [
    {
     "data": {
      "text/plain": [
       "array([  46,   47,   48, ..., 9763, 9764, 9765], dtype=int64)"
      ]
     },
     "execution_count": 151,
     "metadata": {},
     "output_type": "execute_result"
    }
   ],
   "source": [
    "vbin_0['Indicies'].values"
   ]
  },
  {
   "cell_type": "code",
   "execution_count": 158,
   "id": "1c8bd14b",
   "metadata": {},
   "outputs": [
    {
     "data": {
      "text/plain": [
       "0.0026611753524473226"
      ]
     },
     "execution_count": 158,
     "metadata": {},
     "output_type": "execute_result"
    }
   ],
   "source": [
    "# access eventRatesPerCell using vBin indicies (these should match up as both are at 5Hz)\n",
    "sessionDfsDict['GRIN038_H13_M37_S23'].mean(axis=0)[vbin_0['Indicies'].values].mean()"
   ]
  },
  {
   "cell_type": "code",
   "execution_count": 164,
   "id": "1c4b0936",
   "metadata": {},
   "outputs": [
    {
     "data": {
      "text/plain": [
       "0.0026611753524473313"
      ]
     },
     "execution_count": 164,
     "metadata": {},
     "output_type": "execute_result"
    }
   ],
   "source": [
    "sessionDfsDict['GRIN038_H13_M37_S23'][vbin_0['Indicies'].values]\n",
    "#.mean(axis=1).mean()"
   ]
  },
  {
   "cell_type": "code",
   "execution_count": null,
   "id": "2beb9ef0",
   "metadata": {},
   "outputs": [],
   "source": []
  },
  {
   "cell_type": "code",
   "execution_count": 155,
   "id": "10a3811b",
   "metadata": {},
   "outputs": [
    {
     "data": {
      "text/plain": [
       "0.02814813028907612"
      ]
     },
     "execution_count": 155,
     "metadata": {},
     "output_type": "execute_result"
    }
   ],
   "source": [
    "sessionDfsDict['GRIN038_H13_M37_S23'].mean(axis=0)[vbin_3['Indicies'].values].mean()"
   ]
  },
  {
   "cell_type": "code",
   "execution_count": 193,
   "id": "be48d89f",
   "metadata": {},
   "outputs": [],
   "source": [
    "## bin event rate by velocity\n",
    "#extract indicies corresponding to v bins\n",
    "#select regions of event rate trave corresponding to v bins \n",
    "vBinIndiciesBySession = {}\n",
    "eventRatesByVbinBySession = {}\n",
    "mean_eventRatesByVbinBySession = {}\n",
    "for session in session_list: \n",
    "    vBinIndicies = {}\n",
    "    eventRatesByVbin = {}\n",
    "    mean_eventRatesByVbin = {}\n",
    "    for vBinIdx in range(len(vBinsBySession[session])):\n",
    "        #get v bin indicies from csv files\n",
    "        vBinsIdxs = pd.read_csv(vBinsBySession[session][vBinIdx], usecols=['Indicies'])\n",
    "        vBinIndicies[vBinIdx] = vBinsIdxs\n",
    "        #select subsets of event rate df by v bin indicies \n",
    "        eventRatesByVbin[vBinIdx] = sessionDfsDict[session][vBinsIdxs['Indicies'].values]\n",
    "        mean_eventRatesByVbin[vBinIdx] = sessionDfsDict[session][vBinsIdxs['Indicies'].values].mean(axis=1).mean()\n",
    "        \n",
    "    vBinIndiciesBySession[session] = vBinIndicies\n",
    "    eventRatesByVbinBySession[session] = eventRatesByVbin\n",
    "    mean_eventRatesByVbin[session] = mean_eventRatesByVbin\n",
    "        \n",
    "    \n",
    "    \n",
    "    "
   ]
  },
  {
   "cell_type": "code",
   "execution_count": 211,
   "id": "e6f13450",
   "metadata": {
    "scrolled": true
   },
   "outputs": [],
   "source": [
    "sessionMeansDfs = []\n",
    "for session in session_list:\n",
    "    sessionMeansDfs.append(pd.DataFrame([eventRatesByVbinBySession[session][vbinIdx].mean(axis=1).mean() for vbinIdx in list(eventRatesByVbinBySession[session].keys())], columns=[session]))\n",
    "allSessionsMean = pd.concat(sessionMeansDfs, axis=1)"
   ]
  },
  {
   "cell_type": "code",
   "execution_count": 215,
   "id": "8b7484b5",
   "metadata": {},
   "outputs": [
    {
     "data": {
      "text/plain": [
       "[<matplotlib.lines.Line2D at 0x227e94c4e50>]"
      ]
     },
     "execution_count": 215,
     "metadata": {},
     "output_type": "execute_result"
    },
    {
     "data": {
      "image/png": "[encoded data removed]",
      "text/plain": [
       "<Figure size 432x288 with 1 Axes>"
      ]
     },
     "metadata": {
      "needs_background": "light"
     },
     "output_type": "display_data"
    }
   ],
   "source": [
    "#plot means\n",
    "plt.plot(allSessionsMean.mean(axis=1)*60)"
   ]
  },
  {
   "cell_type": "code",
   "execution_count": 216,
   "id": "8e8edd83",
   "metadata": {},
   "outputs": [],
   "source": [
    "## split data into WT and KO sessions\n",
    "#'GRIN034_H16_M13_S22', 'GRIN034_H19_M0_S18', 'GRIN034_H15_M28_S2', \n",
    "WT_sessions = ['GRIN013_H13_M33_S54', 'GRIN026_H16_M35_S34', 'GRIN027_H13_M29_S44', \n",
    "               'GRIN032_H16_M49_S22', 'GRIN032_H17_M30_S22', \n",
    "               'GRIN033_H13_M42_S33', 'GRIN033_H14_M34_S32', \n",
    "\n",
    "               'GRIN035_H13_M31_S20', 'GRIN035_H13_M50_S58', 'GRIN035_H14_M40_S34',\n",
    "               'GRIN039_H12_M26_S54', 'GRIN039_H12_M33_S29', 'GRIN039_H14_M8_S53'] ; \n",
    "#'GRIN018_H16_M13_S53'\n",
    "KO_sessions = ['GRIN009_H13_M59_S14', 'GRIN011_H10_M19_S59', \n",
    "               'GRIN012_H16_M57_S23', 'GRIN012_H17_M32_S17', \n",
    "               'GRIN018_H17_M41_S43', 'GRIN018_H16_M13_S53',\n",
    "               'GRIN038_H11_M57_S0', 'GRIN038_H13_M37_S23', 'GRIN038_H15_M39_S40',\n",
    "               'GRIN041_H12_M54_S49'] ;"
   ]
  },
  {
   "cell_type": "code",
   "execution_count": 237,
   "id": "ccee2f16",
   "metadata": {},
   "outputs": [],
   "source": [
    "wt_by_mouse = {}\n",
    "wt_by_mouse['GRIN013'] = allSessionsMean['GRIN013_H13_M33_S54']\n",
    "wt_by_mouse['GRIN026'] = allSessionsMean['GRIN026_H16_M35_S34']\n",
    "wt_by_mouse['GRIN027'] = allSessionsMean['GRIN027_H13_M29_S44']\n",
    "wt_by_mouse['GRIN032'] = pd.DataFrame(allSessionsMean[['GRIN032_H16_M49_S22','GRIN032_H17_M30_S22']].mean(axis=1))\n",
    "wt_by_mouse['GRIN033'] = pd.DataFrame(allSessionsMean[['GRIN033_H13_M42_S33','GRIN033_H14_M34_S32']].mean(axis=1))\n",
    "#wt_by_day['GRIN034'] = pd.DataFrame(genotype_compiled.loc[['GRIN034_H16_M13_S22', 'GRIN034_H19_M0_S18', 'GRIN034_H15_M28_S2']].mean(axis=0)).transpose()\n",
    "wt_by_mouse['GRIN035'] = pd.DataFrame(allSessionsMean[['GRIN035_H13_M31_S20', 'GRIN035_H13_M50_S58', 'GRIN035_H14_M40_S34']].mean(axis=1))\n",
    "wt_by_mouse['GRIN039'] = pd.DataFrame(allSessionsMean[['GRIN039_H12_M26_S54', 'GRIN039_H12_M33_S29', 'GRIN039_H14_M8_S53']].mean(axis=1))\n",
    "\n",
    "wt_by_mouse = pd.concat(wt_by_mouse.values(), keys=wt_by_mouse.keys(), axis=1)\n",
    "\n",
    "#ko \n",
    "ko_by_mouse = {}\n",
    "ko_by_mouse['GRIN009'] = allSessionsMean['GRIN009_H13_M59_S14']\n",
    "ko_by_mouse['GRIN011'] = allSessionsMean['GRIN011_H10_M19_S59']\n",
    "ko_by_mouse['GRIN012'] = pd.DataFrame(allSessionsMean[['GRIN012_H16_M57_S23', 'GRIN012_H17_M32_S17']].mean(axis=1)) \n",
    "ko_by_mouse['GRIN018'] = pd.DataFrame(allSessionsMean[['GRIN018_H17_M41_S43', 'GRIN018_H16_M13_S53' ]].mean(axis=1)) \n",
    "ko_by_mouse['GRIN038'] = pd.DataFrame(allSessionsMean[['GRIN038_H11_M57_S0', 'GRIN038_H13_M37_S23', 'GRIN038_H15_M39_S40' ]].mean(axis=1))\n",
    "ko_by_mouse['GRIN041'] = allSessionsMean['GRIN041_H12_M54_S49']\n",
    "\n",
    "ko_by_mouse = pd.concat(ko_by_mouse.values(), keys=ko_by_mouse.keys(), axis=1)"
   ]
  },
  {
   "cell_type": "code",
   "execution_count": 239,
   "id": "fb4e208c",
   "metadata": {},
   "outputs": [
    {
     "data": {
      "text/html": [
       "<div>\n",
       "<style scoped>\n",
       "    .dataframe tbody tr th:only-of-type {\n",
       "        vertical-align: middle;\n",
       "    }\n",
       "\n",
       "    .dataframe tbody tr th {\n",
       "        vertical-align: top;\n",
       "    }\n",
       "\n",
       "    .dataframe thead tr th {\n",
       "        text-align: left;\n",
       "    }\n",
       "</style>\n",
       "<table border=\"1\" class=\"dataframe\">\n",
       "  <thead>\n",
       "    <tr>\n",
       "      <th></th>\n",
       "      <th>GRIN013</th>\n",
       "      <th>GRIN026</th>\n",
       "      <th>GRIN027</th>\n",
       "      <th>GRIN032</th>\n",
       "      <th>GRIN033</th>\n",
       "      <th>GRIN035</th>\n",
       "      <th>GRIN039</th>\n",
       "    </tr>\n",
       "    <tr>\n",
       "      <th></th>\n",
       "      <th>GRIN013_H13_M33_S54</th>\n",
       "      <th>GRIN026_H16_M35_S34</th>\n",
       "      <th>GRIN027_H13_M29_S44</th>\n",
       "      <th>0</th>\n",
       "      <th>0</th>\n",
       "      <th>0</th>\n",
       "      <th>0</th>\n",
       "    </tr>\n",
       "  </thead>\n",
       "  <tbody>\n",
       "    <tr>\n",
       "      <th>0</th>\n",
       "      <td>0.005242</td>\n",
       "      <td>0.012424</td>\n",
       "      <td>0.007475</td>\n",
       "      <td>0.014659</td>\n",
       "      <td>0.025346</td>\n",
       "      <td>0.022437</td>\n",
       "      <td>0.013674</td>\n",
       "    </tr>\n",
       "    <tr>\n",
       "      <th>1</th>\n",
       "      <td>0.011144</td>\n",
       "      <td>0.015019</td>\n",
       "      <td>0.013455</td>\n",
       "      <td>0.015670</td>\n",
       "      <td>0.023544</td>\n",
       "      <td>0.024675</td>\n",
       "      <td>0.014820</td>\n",
       "    </tr>\n",
       "    <tr>\n",
       "      <th>2</th>\n",
       "      <td>0.040430</td>\n",
       "      <td>0.048432</td>\n",
       "      <td>0.022304</td>\n",
       "      <td>0.023966</td>\n",
       "      <td>0.028768</td>\n",
       "      <td>0.024579</td>\n",
       "      <td>0.014296</td>\n",
       "    </tr>\n",
       "    <tr>\n",
       "      <th>3</th>\n",
       "      <td>0.050390</td>\n",
       "      <td>0.080474</td>\n",
       "      <td>0.032130</td>\n",
       "      <td>0.038931</td>\n",
       "      <td>0.040286</td>\n",
       "      <td>0.037591</td>\n",
       "      <td>0.013364</td>\n",
       "    </tr>\n",
       "    <tr>\n",
       "      <th>4</th>\n",
       "      <td>0.039788</td>\n",
       "      <td>0.068684</td>\n",
       "      <td>0.051650</td>\n",
       "      <td>0.063192</td>\n",
       "      <td>0.043847</td>\n",
       "      <td>0.062938</td>\n",
       "      <td>0.014000</td>\n",
       "    </tr>\n",
       "    <tr>\n",
       "      <th>5</th>\n",
       "      <td>0.094694</td>\n",
       "      <td>0.076062</td>\n",
       "      <td>0.064861</td>\n",
       "      <td>0.045984</td>\n",
       "      <td>0.038401</td>\n",
       "      <td>0.026091</td>\n",
       "      <td>0.007584</td>\n",
       "    </tr>\n",
       "  </tbody>\n",
       "</table>\n",
       "</div>"
      ],
      "text/plain": [
       "              GRIN013             GRIN026             GRIN027   GRIN032  \\\n",
       "  GRIN013_H13_M33_S54 GRIN026_H16_M35_S34 GRIN027_H13_M29_S44         0   \n",
       "0            0.005242            0.012424            0.007475  0.014659   \n",
       "1            0.011144            0.015019            0.013455  0.015670   \n",
       "2            0.040430            0.048432            0.022304  0.023966   \n",
       "3            0.050390            0.080474            0.032130  0.038931   \n",
       "4            0.039788            0.068684            0.051650  0.063192   \n",
       "5            0.094694            0.076062            0.064861  0.045984   \n",
       "\n",
       "    GRIN033   GRIN035   GRIN039  \n",
       "          0         0         0  \n",
       "0  0.025346  0.022437  0.013674  \n",
       "1  0.023544  0.024675  0.014820  \n",
       "2  0.028768  0.024579  0.014296  \n",
       "3  0.040286  0.037591  0.013364  \n",
       "4  0.043847  0.062938  0.014000  \n",
       "5  0.038401  0.026091  0.007584  "
      ]
     },
     "execution_count": 239,
     "metadata": {},
     "output_type": "execute_result"
    }
   ],
   "source": [
    "wt_by_mouse"
   ]
  },
  {
   "cell_type": "code",
   "execution_count": 240,
   "id": "794bb861",
   "metadata": {},
   "outputs": [
    {
     "data": {
      "text/html": [
       "<div>\n",
       "<style scoped>\n",
       "    .dataframe tbody tr th:only-of-type {\n",
       "        vertical-align: middle;\n",
       "    }\n",
       "\n",
       "    .dataframe tbody tr th {\n",
       "        vertical-align: top;\n",
       "    }\n",
       "\n",
       "    .dataframe thead tr th {\n",
       "        text-align: left;\n",
       "    }\n",
       "</style>\n",
       "<table border=\"1\" class=\"dataframe\">\n",
       "  <thead>\n",
       "    <tr>\n",
       "      <th></th>\n",
       "      <th>GRIN009</th>\n",
       "      <th>GRIN011</th>\n",
       "      <th>GRIN012</th>\n",
       "      <th>GRIN018</th>\n",
       "      <th>GRIN038</th>\n",
       "      <th>GRIN041</th>\n",
       "    </tr>\n",
       "    <tr>\n",
       "      <th></th>\n",
       "      <th>GRIN009_H13_M59_S14</th>\n",
       "      <th>GRIN011_H10_M19_S59</th>\n",
       "      <th>0</th>\n",
       "      <th>0</th>\n",
       "      <th>0</th>\n",
       "      <th>GRIN041_H12_M54_S49</th>\n",
       "    </tr>\n",
       "  </thead>\n",
       "  <tbody>\n",
       "    <tr>\n",
       "      <th>0</th>\n",
       "      <td>0.014499</td>\n",
       "      <td>0.005428</td>\n",
       "      <td>0.007909</td>\n",
       "      <td>0.018149</td>\n",
       "      <td>0.004240</td>\n",
       "      <td>0.000000</td>\n",
       "    </tr>\n",
       "    <tr>\n",
       "      <th>1</th>\n",
       "      <td>0.014847</td>\n",
       "      <td>0.008649</td>\n",
       "      <td>0.018810</td>\n",
       "      <td>0.024633</td>\n",
       "      <td>0.006030</td>\n",
       "      <td>0.001684</td>\n",
       "    </tr>\n",
       "    <tr>\n",
       "      <th>2</th>\n",
       "      <td>0.030404</td>\n",
       "      <td>0.034824</td>\n",
       "      <td>0.032308</td>\n",
       "      <td>0.027263</td>\n",
       "      <td>0.013224</td>\n",
       "      <td>0.008574</td>\n",
       "    </tr>\n",
       "    <tr>\n",
       "      <th>3</th>\n",
       "      <td>0.047389</td>\n",
       "      <td>0.054627</td>\n",
       "      <td>0.035924</td>\n",
       "      <td>0.028956</td>\n",
       "      <td>0.023913</td>\n",
       "      <td>0.018774</td>\n",
       "    </tr>\n",
       "    <tr>\n",
       "      <th>4</th>\n",
       "      <td>0.052185</td>\n",
       "      <td>0.070818</td>\n",
       "      <td>0.031329</td>\n",
       "      <td>0.036800</td>\n",
       "      <td>0.036660</td>\n",
       "      <td>0.007627</td>\n",
       "    </tr>\n",
       "    <tr>\n",
       "      <th>5</th>\n",
       "      <td>0.060839</td>\n",
       "      <td>0.034844</td>\n",
       "      <td>0.031512</td>\n",
       "      <td>0.023366</td>\n",
       "      <td>0.049713</td>\n",
       "      <td>0.012422</td>\n",
       "    </tr>\n",
       "  </tbody>\n",
       "</table>\n",
       "</div>"
      ],
      "text/plain": [
       "              GRIN009             GRIN011   GRIN012   GRIN018   GRIN038  \\\n",
       "  GRIN009_H13_M59_S14 GRIN011_H10_M19_S59         0         0         0   \n",
       "0            0.014499            0.005428  0.007909  0.018149  0.004240   \n",
       "1            0.014847            0.008649  0.018810  0.024633  0.006030   \n",
       "2            0.030404            0.034824  0.032308  0.027263  0.013224   \n",
       "3            0.047389            0.054627  0.035924  0.028956  0.023913   \n",
       "4            0.052185            0.070818  0.031329  0.036800  0.036660   \n",
       "5            0.060839            0.034844  0.031512  0.023366  0.049713   \n",
       "\n",
       "              GRIN041  \n",
       "  GRIN041_H12_M54_S49  \n",
       "0            0.000000  \n",
       "1            0.001684  \n",
       "2            0.008574  \n",
       "3            0.018774  \n",
       "4            0.007627  \n",
       "5            0.012422  "
      ]
     },
     "execution_count": 240,
     "metadata": {},
     "output_type": "execute_result"
    }
   ],
   "source": [
    "ko_by_mouse"
   ]
  },
  {
   "cell_type": "code",
   "execution_count": 260,
   "id": "2cea686e",
   "metadata": {},
   "outputs": [],
   "source": [
    "wt_by_mouse.to_csv(r'F:\\\\JJM\\\\miniscope_analysis\\\\clustering_analysis\\\\summary_figs\\\\eventrate_wt.csv')\n",
    "ko_by_mouse.to_csv(r'F:\\\\JJM\\\\miniscope_analysis\\\\clustering_analysis\\\\summary_figs\\\\eventrate_ko.csv')"
   ]
  },
  {
   "cell_type": "code",
   "execution_count": 262,
   "id": "0fcead87",
   "metadata": {},
   "outputs": [
    {
     "data": {
      "image/png": "[encoded data removed]",
      "text/plain": [
       "<Figure size 504x432 with 1 Axes>"
      ]
     },
     "metadata": {
      "needs_background": "light"
     },
     "output_type": "display_data"
    }
   ],
   "source": [
    "# event rate binned by velocity \n",
    "mean = wt_by_mouse.mean(axis=1)\n",
    "mean_ko = ko_by_mouse.mean(axis=1)\n",
    "std_error = wt_by_mouse.std(axis=1)/math.sqrt(7)\n",
    "std_error_ko = ko_by_mouse.std(axis=1)/math.sqrt(6)\n",
    "\n",
    "bin_vector = np.linspace(0, 5, 6)\n",
    "\n",
    "plt.scatter(bin_vector, mean, s=200, marker='s')\n",
    "plt.scatter(bin_vector, mean_ko, s=200,  marker='s')\n",
    "plt.errorbar(bin_vector, mean, yerr=std_error)\n",
    "plt.errorbar(bin_vector, mean_ko, yerr=std_error_ko)\n",
    "\n",
    "ax = plt.gca()\n",
    "ax.set_ylabel('Ca 2+ event rate / minute')\n",
    "ax.set_xlabel('speed bin')\n",
    "\n",
    "fig = plt.gcf()\n",
    "fig.set_size_inches(7, 6)\n",
    "fig.savefig(r'F:\\JJM\\miniscope_analysis\\clustering_analysis\\summary_figs\\eventrate_dSPNs_by_mouse.pdf', transparent=True)"
   ]
  },
  {
   "cell_type": "code",
   "execution_count": null,
   "id": "33fe3395",
   "metadata": {},
   "outputs": [],
   "source": [
    "# plot all events "
   ]
  }
 ],
 "metadata": {
  "kernelspec": {
   "display_name": "2pCNMFEAnalysisEnv",
   "language": "python",
   "name": "2pcnmfeanalysisenv"
  },
  "language_info": {
   "codemirror_mode": {
    "name": "ipython",
    "version": 3
   },
   "file_extension": ".py",
   "mimetype": "text/x-python",
   "name": "python",
   "nbconvert_exporter": "python",
   "pygments_lexer": "ipython3",
   "version": "3.10.4"
  }
 },
 "nbformat": 4,
 "nbformat_minor": 5
}
